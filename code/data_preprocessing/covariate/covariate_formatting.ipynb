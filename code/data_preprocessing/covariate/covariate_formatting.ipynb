{
 "cells": [
  {
   "cell_type": "markdown",
   "id": "married-ladder",
   "metadata": {
    "kernel": "SoS",
    "tags": []
   },
   "source": [
    "# Covariate data formatting\n",
    "This is the module where the output of factor analysis were merged into 1 covariate file that can be fed into both APEX and tensorQTL\n",
    "\n",
    "## Input\n",
    "1. factor+cov file as output from peer or BiCV factor module, It is assumed it to have columns as #id + samplesname and each rows is a covariateor factor (start with factor_)\n",
    "\n",
    "1. pca file as output from the PCA module\n",
    "\n",
    "## Output\n",
    "1. PCA + Factor + Covariate file\n",
    "\n",
    "## Minumal Working Example\n",
    "\n",
    "An MWE is uploaded to [google drive](https://drive.google.com/drive/folders/1yjTwoO0DYGi-J9ouMsh9fHKfDmsXJ_4I?usp=sharing).\n",
    "The singularity image (sif) for running this MWE is uploaded to [google drive](https://drive.google.com/drive/folders/1mLOS3AVQM8yTaWtCbO8Q3xla98Nr5bZQ)"
   ]
  },
  {
   "cell_type": "code",
   "execution_count": null,
   "id": "c4bf3245-f429-488e-8959-96ab34767e98",
   "metadata": {
    "kernel": "SoS"
   },
   "outputs": [],
   "source": []
  },
  {
   "cell_type": "code",
   "execution_count": null,
   "id": "896d7204-14d2-4cc4-afcc-ba6857f7c838",
   "metadata": {
    "kernel": "SoS"
   },
   "outputs": [],
   "source": [
    "\n",
    "sos run pipeline/covariate_formatting.ipynb merge_pca_covariate \\\n",
    "        --cwd output \\\n",
    "        --pcaFile ../genotype/MWE.pca.rds \\\n",
    "        --covFile MWE.covariate.cov.gz \\\n",
    "        --tol_cov 0.3  \\\n",
    "        --k 3 \\\n",
    "        --container containers/bioinfo.sif\n",
    "\n",
    "sos run /home/hs3163/GIT/xqtl-pipeline/pipeline/covariate_formatting.ipynb merge_pca_covariate \\\n",
    "        --cwd output/data_preprocessing/MWE/covariates \\\n",
    "        --pcaFile output/data_preprocessing/MWE/pca/MWE.MWE.related.filtered.extracted.pca.projected.rds \\\n",
    "        --covFile  MWE.covariate.cov.gz \\\n",
    "        --tol_cov 0.3  \\\n",
    "        --k `awk '$3 < 0.7' output/data_preprocessing/MWE/pca/MWE.MWE.related.filtered.extracted.pca.projected.scree.txt | tail -1 | cut -f 1 ` \\\n",
    "        --container containers/bioinfo.sif\n",
    "\n",
    "\n",
    "sos run pipeline/covariate_formatting.ipynb compute_residual \\\n",
    "        --cwd output \\\n",
    "        --phenoFile MWE.log2cpm.mol_phe.bed.gz \\\n",
    "        --covFile MWE.covariate.cov.gz \\\n",
    "        --container containers/bioinfo.sif\n",
    "\n",
    "sos run pipeline/covariate_formatting.ipynb merge_factor_covariate \\\n",
    "        --cwd output \\\n",
    "        --factorFile ALL.covariate.pca.BiCV.cov.gz \\\n",
    "        --covFile MWE.covariate.cov.gz  \\\n",
    "        --container containers/bioinfo.sif"
   ]
  },
  {
   "cell_type": "markdown",
   "id": "67f3c3fa-51a1-4e24-a968-831841e2bfcd",
   "metadata": {
    "kernel": "SoS"
   },
   "source": [
    "The default file name can be overwritten by the `--name` parameter, as demonstrated below:"
   ]
  },
  {
   "cell_type": "code",
   "execution_count": null,
   "id": "1597b756-5790-408f-adb9-981991fb43a9",
   "metadata": {
    "kernel": "SoS"
   },
   "outputs": [],
   "source": [
    "sos run pipeline/covariate_formatting.ipynb merge_factor_covariate \\\n",
    "        --cwd output \\\n",
    "        --factorFile ALL.covariate.pca.BiCV.cov.gz \\\n",
    "        --covFile MWE.covariate.cov.gz  \\\n",
    "        --container containers/bioinfo.sif --name \"demo\""
   ]
  },
  {
   "cell_type": "markdown",
   "id": "926e6a54-8755-4adf-a9aa-cdf373f49126",
   "metadata": {
    "kernel": "SoS"
   },
   "source": [
    "## Command Interface"
   ]
  },
  {
   "cell_type": "code",
   "execution_count": 4,
   "id": "f5289ecb-e91e-40f9-8313-57510959bbfd",
   "metadata": {
    "kernel": "SoS"
   },
   "outputs": [
    {
     "name": "stdout",
     "output_type": "stream",
     "text": [
      "usage: sos run covariate_formatting.ipynb\n",
      "               [workflow_name | -t targets] [options] [workflow_options]\n",
      "  workflow_name:        Single or combined workflows defined in this script\n",
      "  targets:              One or more targets to generate\n",
      "  options:              Single-hyphen sos parameters (see \"sos run -h\" for details)\n",
      "  workflow_options:     Double-hyphen workflow-specific parameters\n",
      "\n",
      "Workflows:\n",
      "  merge_pca_covariate\n",
      "  compute_residual\n",
      "  merge_factor_covariate\n",
      "\n",
      "Global Workflow Options:\n",
      "  --cwd output (as path)\n",
      "                        The output directory for generated files.\n",
      "  --covFile VAL (as path, required)\n",
      "                        The covariate file\n",
      "  --job-size 1 (as int)\n",
      "                        For cluster jobs, number commands to run per job\n",
      "  --walltime 5h\n",
      "                        Wall clock time expected\n",
      "  --mem 2G\n",
      "                        Memory expected\n",
      "  --numThreads 8 (as int)\n",
      "                        Number of threads\n",
      "  --container ''\n",
      "                        Software container option\n",
      "  --nCov -1 (as int)\n",
      "                        The number of the external covariates to be included, -1\n",
      "                        means includs all of them, 0 means include none of them,\n",
      "                        but keeping only the header (Basicaaly just formatting\n",
      "                        the PCs).\n",
      "  --tol-cov -1.0 (as float)\n",
      "                        Tolerance of missingness in covariates, -1 means quit,\n",
      "                        otherwise for covariate with missing rate larger than\n",
      "                        tol_cov will be removed, with missing rate smaller than\n",
      "                        tol_cov will be mean_imputed.\n",
      "\n",
      "Sections\n",
      "  merge_pca_covariate:\n",
      "    Workflow Options:\n",
      "      --pcaFile VAL (as path, required)\n",
      "                        The PCA file. an RDS file as the output of the pca\n",
      "                        module\n",
      "      --k 20 (as int)\n",
      "                        The number of PCs to retained, by default is 20, in\n",
      "                        pratice should be the number of pc that captured more\n",
      "                        than 70% PVE\n",
      "      --name  f'{covFile:bn}.{pcaFile:bn}'\n",
      "\n",
      "  compute_residual_1:\n",
      "    Workflow Options:\n",
      "      --phenoFile VAL (as path, required)\n",
      "                        Path to the input molecular phenotype data.\n",
      "      --name  f'{phenoFile:bnn}.{covFile:bn}'\n",
      "\n",
      "  compute_residual_2:   tabix via samtools\n",
      "  merge_factor_covariate:\n",
      "    Workflow Options:\n",
      "      --factorFile VAL (as path, required)\n",
      "      --name  f'{factorFile:bnn}.{covFile:bn}'\n",
      "\n"
     ]
    }
   ],
   "source": [
    "sos run covariate_formatting.ipynb -h"
   ]
  },
  {
   "cell_type": "code",
   "execution_count": 2,
   "id": "changing-backing",
   "metadata": {
    "kernel": "SoS"
   },
   "outputs": [],
   "source": [
    "[global]\n",
    "# The output directory for generated files. \n",
    "parameter: cwd = path(\"output\")\n",
    "# The covariate file\n",
    "parameter: covFile = path\n",
    "# For cluster jobs, number commands to run per job\n",
    "parameter: job_size = 1\n",
    "# Wall clock time expected\n",
    "parameter: walltime = \"5h\"\n",
    "# Memory expected\n",
    "parameter: mem = \"2G\"\n",
    "# Number of threads\n",
    "parameter: numThreads = 8\n",
    "# Software container option\n",
    "parameter: container = \"\"\n",
    "# The number of the external covariates to be included, -1 means includs all of them, 0 means include none of them,\n",
    "# but keeping only the header (Basicaaly just formatting the PCs).\n",
    "parameter: nCov = -1\n",
    "\n",
    "# Tolerance of missingness in covariates, -1 means quit, otherwise for covariate with missing rate larger than tol_cov will be removed,\n",
    "# with missing rate smaller than tol_cov will be mean_imputed.\n",
    "parameter: tol_cov = -1.0\n",
    "\n",
    "cwd = path(f\"{cwd:a}\")"
   ]
  },
  {
   "cell_type": "code",
   "execution_count": null,
   "id": "capital-subject",
   "metadata": {
    "kernel": "SoS"
   },
   "outputs": [],
   "source": [
    "[merge_pca_covariate]\n",
    "# The PCA file. an RDS file as the output of the pca module\n",
    "parameter: pcaFile = path\n",
    "# The number of PCs to retained, by default is 20, in pratice should be the number of pc that captured more than 70% PVE\n",
    "parameter: k = 20\n",
    "parameter:name = f'{covFile:bn}.{pcaFile:bn}'\n",
    "# Outliers\n",
    "parameter: outliersFile = path(\".\") \n",
    "parameter: remove_outliers = False\n",
    "## stop if no outliersFile was provided.\n",
    "stop_if(remove_outliers and not outliersFile.is_file(), msg = \"No outliers file specified, please add outliers file or remove the remove-outliers flag\")\n",
    "input: pcaFile, covFile\n",
    "output:  f'{cwd:a}/{name}.gz'\n",
    "task: trunk_workers = 1, walltime = walltime, mem = mem, cores = numThreads, tags = f'{step_name}_{_output[0]:bn}'\n",
    "R: expand= \"$[ ]\", stderr = f'{_output:n}.stderr', stdout = f'{_output:n}.stdout', container = container\n",
    "        library(\"dplyr\")\n",
    "        library(\"tibble\")\n",
    "        library(\"readr\")\n",
    "        compute_missing <- function(mtx){\n",
    "          miss <- sum(is.na(mtx))/length(mtx)\n",
    "          return(miss)\n",
    "        }\n",
    "\n",
    "        mean_impute <- function(mtx){\n",
    "          f <- apply(mtx, 2, function(x) mean(x,na.rm = TRUE))\n",
    "          for (i in 1:length(f)) mtx[,i][which(is.na(mtx[,i]))] <- f[i]\n",
    "          return(mtx)\n",
    "        }\n",
    "    \n",
    "        filter_mtx <- function(X, missing_rate_thresh) {\n",
    "            rm_col <- which(apply(X, 2, compute_missing) > missing_rate_thresh)\n",
    "            if (length(rm_col)) X <- X[, -rm_col]\n",
    "            return(mean_impute(X))\n",
    "        }  \n",
    "        pca_output = readRDS(\"$[_input[0]]\")$pc_scores\n",
    "        mtx = pca_output%>%select(contains(\"PC\"))%>%t()\n",
    "        colnames(mtx) <- pca_output$IID\n",
    "        ## Keep only the number of PCs specified\n",
    "        mtx = mtx[1:$[k],]\n",
    "        mtx = mtx%>%as_tibble(rownames = \"#id\")\n",
    "        cov = read_delim(\"$[_input[1]]\",\"\\t\")\n",
    "        colnames(cov)[1] = \"#id\"\n",
    "        ## Retaining only the overlapped samples\n",
    "        int = intersect(colnames(cov),colnames(mtx))\n",
    "        ### Removal of outlier if needed\n",
    "        if ($[\"TRUE\" if remove_outliers else \"FALSE\"]){\n",
    "              outlier = read_delim(\"$[outliersFile]\",\"\\t\",col_names = FALSE)$X2\n",
    "              int = setdiff(int,outlier)\n",
    "              }\n",
    "        cov = cov%>%select(int)\n",
    "        # keep only the desired amount of covariates\n",
    "        if($[nCov] > 0 ){cov = cov[1:$[nCov],]} else if ($[nCov] == 0){cov = cov[$[nCov],]}\n",
    "        mtx = mtx%>%select(int)\n",
    "        output = bind_rows(cov,mtx)\n",
    "        ## Handle missingess in ncov\n",
    "        if($[tol_cov] == -1){if(sum(is.na(output)) > 0 ){ stop(\"NA in covariates/PCs input: Check input file or raise parameter tol_cov to allow for imputation & filtering\")}}\n",
    "        output = output%>%as.data.frame\n",
    "        rownames(output) = output$`#id`\n",
    "        output = filter_mtx(output[,2:ncol(output)],$[tol_cov])%>%as_tibble(rownames = \"#id\")\n",
    "        output%>%write_delim(\"$[_output]\",\"\\t\")"
   ]
  },
  {
   "cell_type": "code",
   "execution_count": null,
   "id": "e1ba663c-d423-4c14-ab5f-20538f097ad1",
   "metadata": {
    "kernel": "SoS"
   },
   "outputs": [],
   "source": [
    "[compute_residual_1]\n",
    "# Path to the input molecular phenotype data.\n",
    "parameter: phenoFile = path\n",
    "parameter:name = f'{phenoFile:bnn}.{covFile:bn}'\n",
    "input: phenoFile, covFile\n",
    "output: f'{cwd}/{name}.resid.bed'\n",
    "task: trunk_workers = 1, trunk_size = 1, walltime = '4h',  mem = '20G', tags = f'{step_name}_{_output[0]:bn}'\n",
    "R: expand = \"${ }\", stderr = f'{_output[0]}.stderr', stdout = f'{_output[0]}.stdout' , container = container\n",
    "\n",
    "    library(dplyr)\n",
    "    library(readr)\n",
    "\n",
    "    pheno = read_delim(${_input[0]:r},delim = \"\\t\")\n",
    "    covariate= read_delim(${_input[1]:r},delim = \"\\t\") \n",
    "\n",
    "    # Extract samples in both files (Outliers will be removed in here as they are no longer presented in the header of factor)\n",
    "    extraction_sample_list <- intersect(colnames(pheno), colnames(covariate)) \n",
    "    \n",
    "    \n",
    "    if(length(extraction_sample_list) == 0){\n",
    "      stop(\"No samples are overlapped in two files!\")\n",
    "    }\n",
    "    \n",
    "    # Report identical samples:\n",
    "    \n",
    "    print(\"Listed samples are included in the analysis:\")\n",
    "    print(extraction_sample_list)\n",
    "    \n",
    "    # Subset the data:\n",
    "    covariate = covariate[,extraction_sample_list]%>%as.matrix()%>%t()\n",
    "    pheno_id = pheno%>%select(1:4)\n",
    "    pheno = pheno%>%select(rownames(covariate))%>%as.matrix()%>%t()\n",
    "    \n",
    "    # Get residual \n",
    "    pheno_resid = .lm.fit(x = cbind(1,covariate), y = pheno)$residuals\n",
    "    pheno_output = cbind(pheno_id, pheno_resid%>%t())\n",
    "    pheno_output%>%write_delim(${_output[0]:r},delim = \"\\t\")\n",
    "\n",
    "# tabix via samtools\n",
    "[compute_residual_2]\n",
    "output: f'{_input}.gz'\n",
    "task: trunk_workers = 1, trunk_size = 1, walltime = '4h',  mem = '20G', tags = f'{step_name}_{_output[0]:bn}'\n",
    "bash: expand = \"${ }\", stderr = f'{_output}.stderr', stdout = f'{_output}.stdout', container = container\n",
    "    bgzip -f ${_input}\n",
    "    tabix -p bed ${_output}"
   ]
  },
  {
   "cell_type": "code",
   "execution_count": 3,
   "id": "ba260d3e-394f-458d-97fb-af2de10b89f8",
   "metadata": {
    "kernel": "SoS"
   },
   "outputs": [],
   "source": [
    "[merge_factor_covariate]\n",
    "parameter: factorFile = path\n",
    "parameter:name = f'{factorFile:bnn}.{covFile:bn}'\n",
    "input: factorFile, covFile\n",
    "output:  f'{cwd:a}/{name}.gz'\n",
    "task: trunk_workers = 1, walltime = walltime, mem = mem, cores = numThreads, tags = f'{step_name}_{_output[0]:bn}'\n",
    "R: expand= \"$[ ]\", stderr = f'{_output:n}.stderr', stdout = f'{_output:n}.stdout', container = container\n",
    "        library(\"dplyr\")\n",
    "        library(\"readr\")\n",
    "        peer_res = read_delim(\"$[_input[0]]\", delim = \"\\t\")\n",
    "        cov_pca = read_delim(\"$[_input[1]]\", delim = \"\\t\")\n",
    "        ## Keep only common samples\n",
    "        com_col = intersect(colnames(peer_res), colnames(cov_pca))\n",
    "        write_delim((rbind(cov_pca[,com_col], peer_res[,com_col])), \"$[_output]\", \"\\t\")"
   ]
  }
 ],
 "metadata": {
  "kernelspec": {
   "display_name": "SoS",
   "language": "sos",
   "name": "sos"
  },
  "language_info": {
   "codemirror_mode": "sos",
   "file_extension": ".sos",
   "mimetype": "text/x-sos",
   "name": "sos",
   "nbconvert_exporter": "sos_notebook.converter.SoS_Exporter",
   "pygments_lexer": "sos"
  },
  "sos": {
   "kernels": [
    [
     "SoS",
     "sos",
     "",
     ""
    ]
   ],
   "version": "0.22.6"
  }
 },
 "nbformat": 4,
 "nbformat_minor": 5
}
