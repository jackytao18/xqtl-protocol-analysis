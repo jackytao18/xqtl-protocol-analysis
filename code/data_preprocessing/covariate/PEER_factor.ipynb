{
 "cells": [
  {
   "cell_type": "markdown",
   "id": "golden-relationship",
   "metadata": {
    "kernel": "SoS",
    "tags": []
   },
   "source": [
    "# Factor analysis using PEER"
   ]
  },
  {
   "cell_type": "markdown",
   "id": "intensive-temperature",
   "metadata": {
    "kernel": "Bash",
    "tags": []
   },
   "source": [
    "## Overview\n",
    "\n",
    "This workflow performs [Probabilistic Estimation of Expression Residuals (PEER) method](https://github.com/PMBio/peer/wiki/Tutorial), a method also used for GTEx eQTL data analysis. "
   ]
  },
  {
   "cell_type": "markdown",
   "id": "cordless-excellence",
   "metadata": {
    "kernel": "Bash",
    "tags": []
   },
   "source": [
    "## Input\n",
    "\n",
    "1. Molecular phenotype in `bed.gz` file format with indexing:"
   ]
  },
  {
   "cell_type": "code",
   "execution_count": 4,
   "id": "expanded-holmes",
   "metadata": {
    "kernel": "R",
    "tags": []
   },
   "outputs": [
    {
     "data": {
      "text/html": [
       "<table class=\"dataframe\">\n",
       "<caption>A tibble: 3 × 8</caption>\n",
       "<thead>\n",
       "\t<tr><th scope=col>#chr</th><th scope=col>start</th><th scope=col>end</th><th scope=col>gene_name</th><th scope=col>Sample1</th><th scope=col>Sample2</th><th scope=col>Sample3</th><th scope=col>Sample4</th></tr>\n",
       "\t<tr><th scope=col>&lt;dbl&gt;</th><th scope=col>&lt;dbl&gt;</th><th scope=col>&lt;dbl&gt;</th><th scope=col>&lt;chr&gt;</th><th scope=col>&lt;dbl&gt;</th><th scope=col>&lt;dbl&gt;</th><th scope=col>&lt;dbl&gt;</th><th scope=col>&lt;dbl&gt;</th></tr>\n",
       "</thead>\n",
       "<tbody>\n",
       "\t<tr><td>1</td><td>  1</td><td>100</td><td>Gene1</td><td> -1.627455</td><td> 1.684725</td><td> -0.0807924</td><td> 1.510522</td></tr>\n",
       "\t<tr><td>1</td><td>101</td><td>200</td><td>Gene2</td><td>-12.626715</td><td>17.746163</td><td>-14.2519447</td><td> 5.254536</td></tr>\n",
       "\t<tr><td>1</td><td>201</td><td>300</td><td>Gene3</td><td>  3.337390</td><td>-7.259074</td><td>  6.2643526</td><td>-1.375911</td></tr>\n",
       "</tbody>\n",
       "</table>\n"
      ],
      "text/latex": [
       "A tibble: 3 × 8\n",
       "\\begin{tabular}{llllllll}\n",
       " \\#chr & start & end & gene\\_name & Sample1 & Sample2 & Sample3 & Sample4\\\\\n",
       " <dbl> & <dbl> & <dbl> & <chr> & <dbl> & <dbl> & <dbl> & <dbl>\\\\\n",
       "\\hline\n",
       "\t 1 &   1 & 100 & Gene1 &  -1.627455 &  1.684725 &  -0.0807924 &  1.510522\\\\\n",
       "\t 1 & 101 & 200 & Gene2 & -12.626715 & 17.746163 & -14.2519447 &  5.254536\\\\\n",
       "\t 1 & 201 & 300 & Gene3 &   3.337390 & -7.259074 &   6.2643526 & -1.375911\\\\\n",
       "\\end{tabular}\n"
      ],
      "text/markdown": [
       "\n",
       "A tibble: 3 × 8\n",
       "\n",
       "| #chr &lt;dbl&gt; | start &lt;dbl&gt; | end &lt;dbl&gt; | gene_name &lt;chr&gt; | Sample1 &lt;dbl&gt; | Sample2 &lt;dbl&gt; | Sample3 &lt;dbl&gt; | Sample4 &lt;dbl&gt; |\n",
       "|---|---|---|---|---|---|---|---|\n",
       "| 1 |   1 | 100 | Gene1 |  -1.627455 |  1.684725 |  -0.0807924 |  1.510522 |\n",
       "| 1 | 101 | 200 | Gene2 | -12.626715 | 17.746163 | -14.2519447 |  5.254536 |\n",
       "| 1 | 201 | 300 | Gene3 |   3.337390 | -7.259074 |   6.2643526 | -1.375911 |\n",
       "\n"
      ],
      "text/plain": [
       "  #chr start end gene_name Sample1    Sample2   Sample3     Sample4  \n",
       "1 1      1   100 Gene1      -1.627455  1.684725  -0.0807924  1.510522\n",
       "2 1    101   200 Gene2     -12.626715 17.746163 -14.2519447  5.254536\n",
       "3 1    201   300 Gene3       3.337390 -7.259074   6.2643526 -1.375911"
      ]
     },
     "metadata": {},
     "output_type": "display_data"
    }
   ],
   "source": [
    "readr::read_delim(\"data/example_data.bed.gz\",show_col_types= F)[1:3,1:8]"
   ]
  },
  {
   "cell_type": "markdown",
   "id": "unique-oxygen",
   "metadata": {
    "kernel": "SoS"
   },
   "source": [
    "2. A covariate file in text format with the first column `#id` that lists the name of all covariates, followed by other columns each being a sample with sample names matching that in the molecular phenotype file:"
   ]
  },
  {
   "cell_type": "code",
   "execution_count": 2,
   "id": "exotic-reply",
   "metadata": {
    "kernel": "R"
   },
   "outputs": [
    {
     "data": {
      "text/html": [
       "<table class=\"dataframe\">\n",
       "<caption>A tibble: 2 × 8</caption>\n",
       "<thead>\n",
       "\t<tr><th scope=col>#id</th><th scope=col>Sample1</th><th scope=col>Sample2</th><th scope=col>Sample3</th><th scope=col>Sample4</th><th scope=col>Sample5</th><th scope=col>Sample6</th><th scope=col>Sample7</th></tr>\n",
       "\t<tr><th scope=col>&lt;chr&gt;</th><th scope=col>&lt;dbl&gt;</th><th scope=col>&lt;dbl&gt;</th><th scope=col>&lt;dbl&gt;</th><th scope=col>&lt;dbl&gt;</th><th scope=col>&lt;dbl&gt;</th><th scope=col>&lt;dbl&gt;</th><th scope=col>&lt;dbl&gt;</th></tr>\n",
       "</thead>\n",
       "<tbody>\n",
       "\t<tr><td>Cov1</td><td> 1.6243454</td><td>-2.301539</td><td> 1.462108</td><td>-1.0998913</td><td>-1.100619</td><td>-0.6837279</td><td>-0.6916608</td></tr>\n",
       "\t<tr><td>Cov2</td><td>-0.6117564</td><td> 1.744812</td><td>-2.060141</td><td>-0.1724282</td><td> 1.144724</td><td>-0.1228902</td><td>-0.3967535</td></tr>\n",
       "</tbody>\n",
       "</table>\n"
      ],
      "text/latex": [
       "A tibble: 2 × 8\n",
       "\\begin{tabular}{llllllll}\n",
       " \\#id & Sample1 & Sample2 & Sample3 & Sample4 & Sample5 & Sample6 & Sample7\\\\\n",
       " <chr> & <dbl> & <dbl> & <dbl> & <dbl> & <dbl> & <dbl> & <dbl>\\\\\n",
       "\\hline\n",
       "\t Cov1 &  1.6243454 & -2.301539 &  1.462108 & -1.0998913 & -1.100619 & -0.6837279 & -0.6916608\\\\\n",
       "\t Cov2 & -0.6117564 &  1.744812 & -2.060141 & -0.1724282 &  1.144724 & -0.1228902 & -0.3967535\\\\\n",
       "\\end{tabular}\n"
      ],
      "text/markdown": [
       "\n",
       "A tibble: 2 × 8\n",
       "\n",
       "| #id &lt;chr&gt; | Sample1 &lt;dbl&gt; | Sample2 &lt;dbl&gt; | Sample3 &lt;dbl&gt; | Sample4 &lt;dbl&gt; | Sample5 &lt;dbl&gt; | Sample6 &lt;dbl&gt; | Sample7 &lt;dbl&gt; |\n",
       "|---|---|---|---|---|---|---|---|\n",
       "| Cov1 |  1.6243454 | -2.301539 |  1.462108 | -1.0998913 | -1.100619 | -0.6837279 | -0.6916608 |\n",
       "| Cov2 | -0.6117564 |  1.744812 | -2.060141 | -0.1724282 |  1.144724 | -0.1228902 | -0.3967535 |\n",
       "\n"
      ],
      "text/plain": [
       "  #id  Sample1    Sample2   Sample3   Sample4    Sample5   Sample6   \n",
       "1 Cov1  1.6243454 -2.301539  1.462108 -1.0998913 -1.100619 -0.6837279\n",
       "2 Cov2 -0.6117564  1.744812 -2.060141 -0.1724282  1.144724 -0.1228902\n",
       "  Sample7   \n",
       "1 -0.6916608\n",
       "2 -0.3967535"
      ]
     },
     "metadata": {},
     "output_type": "display_data"
    }
   ],
   "source": [
    "readr::read_delim(\"data/example_cov.txt\",show_col_types= F)[,1:8]"
   ]
  },
  {
   "cell_type": "markdown",
   "id": "protected-edgar",
   "metadata": {
    "kernel": "R"
   },
   "source": [
    "Covariates file is optional to the PEER method but it should be supplied in order to construct a proper PEER model in the context of xQTL mapping."
   ]
  },
  {
   "cell_type": "markdown",
   "id": "rolled-tongue",
   "metadata": {
    "kernel": "Markdown",
    "tags": []
   },
   "source": [
    "## Outputs\n",
    "\n",
    "### Main outputs\n",
    "\n",
    "* `*.PEER.cov`: result for peer factor covariates\n",
    "\n",
    "### Other outputs\n",
    "\n",
    "* A diagnosis polt for check of convergence\n",
    "* peer precision /residuals /weights"
   ]
  },
  {
   "cell_type": "markdown",
   "id": "quarterly-south",
   "metadata": {
    "kernel": "Markdown",
    "tags": []
   },
   "source": [
    "## Number of factors to use\n",
    "\n",
    "By default the pipeline applies recommendations from [GTEx](https://gtexportal.org/home/documentationPage):\n",
    "\n",
    "> A set of covariates identified using the Probabilistic Estimation of Expression Residuals (PEER) method (Stegle et al., PLoS Comp. Biol., 2010 ), calculated for the normalized expression matrices (described below). For eQTL analyses, the number of PEER factors was determined as function of sample size (N): 15 factors for N<150, 30 factors for 150≤ N<250, 45 factors for 250≤ N<350, and 60 factors for N≥350, as a result of optimizing for the number of eGenes discovered. For sQTL analyses, 15 PEER factors were computed for each tissue.\n",
    "\n",
    "Although one can specify fixed number of factors using `--N` option in this pipeline."
   ]
  },
  {
   "cell_type": "markdown",
   "id": "convinced-bradley",
   "metadata": {
    "kernel": "SoS"
   },
   "source": [
    "## Minimal working example\n",
    "An MWE is uploaded to [google drive](https://drive.google.com/drive/folders/1yjTwoO0DYGi-J9ouMsh9fHKfDmsXJ_4I?usp=sharing).\n",
    "The singularity image (sif) for running this MWE is uploaded to [google drive](https://drive.google.com/drive/folders/1mLOS3AVQM8yTaWtCbO8Q3xla98Nr5bZQ)\n",
    "\n",
    "Because the MWE only contains 10 genes but 400+ samples. The computed N will be far greater than the number of genes. Therefore in the MWE the N is fixed to be 3."
   ]
  },
  {
   "cell_type": "code",
   "execution_count": null,
   "id": "joint-living",
   "metadata": {
    "kernel": "Bash",
    "tags": []
   },
   "outputs": [],
   "source": [
    "sos run pipeline/PEER_factor.ipynb PEER \\\n",
    "   --cwd output \\\n",
    "   --phenoFile ALL.log2cpm.bed.chr12.mol_phe.bed.gz  \\\n",
    "   --container containers/PEER.sif  \\\n",
    "   --N 3"
   ]
  },
  {
   "cell_type": "code",
   "execution_count": 5,
   "id": "initial-sigma",
   "metadata": {
    "kernel": "Bash"
   },
   "outputs": [
    {
     "name": "stdout",
     "output_type": "stream",
     "text": [
      "\u001b[01;34m./output\u001b[00m\n",
      "├── MWE.Cov_PEER.PEER.cov\n",
      "├── MWE.Cov_PEER.PEER.cov.stderr\n",
      "├── MWE.Cov_PEER.PEER.cov.stdout\n",
      "├── MWE.Cov_PEER.PEER_diagnosis.pdf\n",
      "├── MWE.Cov_PEER.PEER.peer_precisions.txt\n",
      "├── MWE.Cov_PEER.PEER.peer_residuals.txt\n",
      "└── MWE.Cov_PEER.PEER.peer_weights.txt\n",
      "\n",
      "0 directories, 7 files\n"
     ]
    }
   ],
   "source": [
    "tree ./output"
   ]
  },
  {
   "cell_type": "code",
   "execution_count": null,
   "id": "122736f0-5bcd-4809-a59b-41b2a15269b6",
   "metadata": {
    "kernel": "Bash"
   },
   "outputs": [],
   "source": []
  },
  {
   "cell_type": "code",
   "execution_count": 3,
   "id": "comparative-jumping",
   "metadata": {
    "kernel": "SoS"
   },
   "outputs": [
    {
     "data": {
      "text/html": [
       "<div class=\"sos_hint\">> ./peer_output/example_data.bed_diagnosis_plot.jpeg (22.2 KiB):</div>"
      ],
      "text/plain": [
       "\n",
       "> ./peer_output/example_data.bed_diagnosis_plot.jpeg (22.2 KiB):"
      ]
     },
     "metadata": {},
     "output_type": "display_data"
    },
    {
     "data": {
      "image/jpeg": "[encoded data removed]"
     },
     "metadata": {
      "image/png": {}
     },
     "output_type": "display_data"
    },
    {
     "data": {
      "text/html": [
       "<div class=\"sos_hint\">> ./peer_output/example_data.bed_diagnosis_plot.jpeg:</div>"
      ],
      "text/plain": [
       ">>> ./peer_output/example_data.bed_diagnosis_plot.jpeg:\n"
      ]
     },
     "metadata": {},
     "output_type": "display_data"
    },
    {
     "name": "stdout",
     "output_type": "stream",
     "text": [
      "bash: ./peer_output/example_data.bed_diagnosis_plot.jpeg: Permission denied\n"
     ]
    }
   ],
   "source": [
    "%preview ./output/MWE.Cov_PEER.PEER_diagnosis.pdf -s png"
   ]
  },
  {
   "cell_type": "code",
   "execution_count": 11,
   "id": "political-girlfriend",
   "metadata": {
    "kernel": "Bash"
   },
   "outputs": [
    {
     "name": "stdout",
     "output_type": "stream",
     "text": [
      "PEER: loading input data... PEER: loading covariate file ...done!\n",
      "PEER: Input summary: 200 samples with 100 genes and 2 covariates \n",
      "Setting initialization parameters ...Done.\n",
      "PEER: estimating hidden confounders (30)\n",
      "\titeration 0/1000\n",
      "\titeration 1/1000\n",
      "\titeration 2/1000\n",
      "\titeration 3/1000\n",
      "\titeration 4/1000\n",
      "\titeration 5/1000\n",
      "Converged (var(residuals)) after 5 iterations\n",
      "\n",
      "Exporting results ... Done.\n"
     ]
    }
   ],
   "source": [
    "cat ./output/MWE.Cov_PEER.PEER.cov.stdout"
   ]
  },
  {
   "cell_type": "markdown",
   "id": "0c83b0fd-ada0-4d35-85fd-028d73863d4a",
   "metadata": {
    "kernel": "Bash"
   },
   "source": [
    "## MWE with PCA input\n",
    "In our pipeline, it is designed to include the pca as part of our cov input. This can be achieved by the merge_covariate step\n",
    "\n",
    "**FIXME: complete MWE**"
   ]
  },
  {
   "cell_type": "markdown",
   "id": "signal-mauritius",
   "metadata": {
    "jupyter": {
     "outputs_hidden": true
    },
    "kernel": "Bash",
    "tags": []
   },
   "source": [
    "## Command interface"
   ]
  },
  {
   "cell_type": "code",
   "execution_count": 3,
   "id": "ambient-above",
   "metadata": {
    "kernel": "Bash"
   },
   "outputs": [
    {
     "name": "stdout",
     "output_type": "stream",
     "text": [
      "usage: sos run PEER_factor.ipynb [workflow_name | -t targets] [options] [workflow_options]\n",
      "  workflow_name:        Single or combined workflows defined in this script\n",
      "  targets:              One or more targets to generate\n",
      "  options:              Single-hyphen sos parameters (see \"sos run -h\" for details)\n",
      "  workflow_options:     Double-hyphen workflow-specific parameters\n",
      "\n",
      "Workflows:\n",
      "  PEER\n",
      "\n",
      "Global Workflow Options:\n",
      "  --cwd VAL (as path, required)\n",
      "                        The output directory for generated files. MUST BE FULL\n",
      "                        PATH\n",
      "  --phenoFile VAL (as path, required)\n",
      "                        The molecular phenotype matrix\n",
      "  --covFile VAL (as path, required)\n",
      "                        The covariate file\n",
      "  --job-size 1 (as int)\n",
      "                        For cluster jobs, number commands to run per job\n",
      "  --walltime 5h\n",
      "                        Wall clock time expected\n",
      "  --mem 16G\n",
      "                        Memory expected\n",
      "  --numThreads 8 (as int)\n",
      "                        Number of threads\n",
      "  --container ''\n",
      "                        Software container option\n",
      "  --name ''\n",
      "  --N 0 (as int)\n",
      "                        N PEER factors, If do not specify or specified as 0,\n",
      "                        default values suggested by GTEx (based on different\n",
      "                        sample size) will be used\n",
      "  --max-iter 1000 (as int)\n",
      "                        Default values from PEER software: The number of max\n",
      "                        iteration\n",
      "  --Alpha-a 0.001 (as float)\n",
      "                        Prior parameters\n",
      "  --Alpha-b 0.1 (as float)\n",
      "  --Eps-a 0.1 (as float)\n",
      "  --Eps-b 10.0 (as float)\n",
      "  --tol 0.001 (as float)\n",
      "                        Tolarance parameters\n",
      "  --var-tol 1e-05 (as float)\n",
      "\n",
      "Sections\n",
      "  PEER:\n"
     ]
    }
   ],
   "source": [
    "sos run PEER_factor.ipynb -h"
   ]
  },
  {
   "cell_type": "markdown",
   "id": "successful-uganda",
   "metadata": {
    "kernel": "R"
   },
   "source": [
    "## Implementation"
   ]
  },
  {
   "cell_type": "code",
   "execution_count": 42,
   "id": "valued-hearts",
   "metadata": {
    "kernel": "SoS",
    "tags": []
   },
   "outputs": [],
   "source": [
    "[global]\n",
    "# The output directory for generated files. MUST BE FULL PATH\n",
    "parameter: cwd = path(\"output\")\n",
    "# Phenotype File\n",
    "parameter: phenoFile = path\n",
    "# For cluster jobs, number commands to run per job\n",
    "parameter: job_size = 1\n",
    "# Wall clock time expected\n",
    "parameter: walltime = \"5h\"\n",
    "# Memory expected\n",
    "parameter: mem = \"16G\"\n",
    "# Number of threads\n",
    "parameter: numThreads = 8\n",
    "# Software container option\n",
    "parameter: container = \"\"\n",
    "# N PEER factors, If do not specify or specified as 0, default values suggested by \n",
    "# GTEx (based on different sample size) will be used\n",
    "parameter: N = 0\n",
    "# Default values from PEER software:\n",
    "## The number of max iteration\n",
    "parameter: iteration = 1000\n",
    "### Prior parameters\n",
    "#parameter: Alpha_a = 0.001\n",
    "#parameter: Alpha_b = 0.1\n",
    "#parameter: Eps_a = 0.1\n",
    "#parameter: Eps_b = 10.0\n",
    "# Tolarance parameters\n",
    "parameter: tol = 0.001\n",
    "#parameter: var_tol = 0.00001\n",
    "# minimum variance explained criteria to drop factors while training\n",
    "parameter: r2_tol = False\n",
    "# Convergence mode: Convergence mode for MOFAr \"slow\", \"medium\" or \"fast\", corresponding to 1e-5%, 1e-4% or 1e-3% deltaELBO change.\n",
    "parameter: convergence_mode = \"fast\""
   ]
  },
  {
   "cell_type": "code",
   "execution_count": null,
   "id": "a0ab6d39-ebf0-4735-a2c6-a912c0ad3f1e",
   "metadata": {
    "kernel": "SoS"
   },
   "outputs": [],
   "source": [
    "[PEER_1]\n",
    "input: phenoFile\n",
    "output: f'{cwd:a}/{_input:bnn}.PEER_MODEL.hd5'\n",
    "task: trunk_workers = 1, walltime = walltime, mem = mem, cores = numThreads, tags = f'{step_name}_{_output[0]:bn}'\n",
    "python: container=container, expand= \"${ }\", stderr = f'{_output[0]}.stderr', stdout = f'{_output[0]}.stdout'\n",
    "    from mofapy2.run.entry_point import entry_point\n",
    "    import pandas as pd\n",
    "    import os\n",
    "    ## Force the number of threads used in numpy.\n",
    "    os.environ[\"OMP_NUM_THREADS\"] = \"${numThreads}\" # export OMP_NUM_THREADS=4\n",
    "    os.environ[\"OPENBLAS_NUM_THREADS\"] = \"${numThreads}\" # export OPENBLAS_NUM_THREADS=4 \n",
    "    os.environ[\"MKL_NUM_THREADS\"] = \"${numThreads}\" # export MKL_NUM_THREADS=6\n",
    "    import numpy as np\n",
    "    ## Data\n",
    "    data = pd.read_csv(${_input:r},\"\\t\",index_col = 3).drop([\"#chr\",\"start\",\"end\"],axis = 1)\n",
    "    # initialise the entry point\n",
    "    ent = entry_point()\n",
    "    # Guess number of factor\n",
    "    # Suggest the number of factors to use if no input value\n",
    "    num_factor = ${N}\n",
    "    if num_factor == 0:\n",
    "        if len(data.columns) < 150:\n",
    "            num_factor = 15\n",
    "        elif len(data.columns) < 250:\n",
    "            num_factor = 30\n",
    "        elif len(data.columns) < 350:\n",
    "            num_factor = 45\n",
    "        else:\n",
    "            num_factor = 60\n",
    "    # Set data\n",
    "    # MOFA is a multi-view and multi-group inference framework. \n",
    "    # If usig only a single view and a single group (as in PEER), the data needs to be embedded into a nested list\n",
    "    ent.set_data_matrix([[data.transpose()]],samples_names=[data.columns.values.tolist()], features_names=[data.index.values.tolist()])\n",
    "    ent.set_model_options(factors= num_factor , spikeslab_weights=False, ard_weights=False)\n",
    "    ent.set_train_options(iter=${iteration}, convergence_mode=\"${convergence_mode}\" ${f',dropR2 = {r2_tol}' if r2_tol else \"\" }, startELBO=1, freqELBO=1,tolerance=${tol}, gpu_mode=False, verbose=True, seed=42)\n",
    "    ent.build()\n",
    "    ent.run()\n",
    "    ent.save(${_output:ar})"
   ]
  },
  {
   "cell_type": "code",
   "execution_count": null,
   "id": "a4d71111-e482-49d0-859d-19ad8ec048d0",
   "metadata": {
    "kernel": "SoS"
   },
   "outputs": [],
   "source": [
    "[PEER_2]\n",
    "output: f'{cwd:a}/{_input:bnn}.PEER.gz', f'{cwd:a}/{_input:bnn}.PEER.diag.pdf'\n",
    "task: trunk_workers = 1, walltime = walltime, mem = mem, cores = numThreads, tags = f'{step_name}_{_output[0]:bn}'\n",
    "R:  container=container, expand= \"${ }\", stderr = f'{_output[0]}.stderr', stdout = f'{_output[0]}.stdout'\n",
    "    ####################\n",
    "    ## Load libraries ##\n",
    "    ####################\n",
    "    \n",
    "    library(MOFA2)\n",
    "    library(dplyr)\n",
    "    library(readr)\n",
    "    ################\n",
    "    ## Load model ##\n",
    "    ################\n",
    "    \n",
    "    file <- \"${_input}\"\n",
    "    model <- load_model(file)\n",
    "    \n",
    "    ####################################\n",
    "    ## (Optional) add sample metadata ##\n",
    "    ####################################\n",
    "    \n",
    "    # Important: \n",
    "    # (1) the row names in the sample metadata data.frame have to match the sample names in the MOFA model\n",
    "    # (2) the sample name has to contain at least two columns: \n",
    "    # \t\t- sample: sample names\n",
    "    #\t\t- group: group name. Only required for multi-group inference. In your case just set the entire column to the same value\n",
    "    \n",
    "    # Load metadata\n",
    "    \n",
    "    # stopifnot(all(samples(model)[[1]]==metadata$sample))\n",
    "    # samples_metadata(model) <- metadata\n",
    "    \n",
    "    ###############################\n",
    "    ## (Optional) Subset factors ##\n",
    "    ###############################\n",
    "    \n",
    "    # We can remove factors that explain little variance (in this case, we require at least 0.01%)\n",
    "    # r2 <- model@cache$variance_explained$r2_per_factor\n",
    "    # factors <- sapply(r2, function(x) x[,1]>0.0001)\n",
    "    # model <- subset_factors(model, which(apply(factors,1,sum) >= 1))\n",
    "    \n",
    "    # fetch factors in matrix format, with dimensions (nfactors,nsamples)\n",
    "    factors <- get_factors(model)[[1]]\n",
    "    dim(factors)\n",
    "    factors = as_tibble(t(factors),rownames = \"#id\")\n",
    "    factors%>%write_delim(\"${_output[0]}\",\"\\t\") \n",
    "    # Plot save to vcf\n",
    "    pdf(\"${_output[1]}\")\n",
    "    #############################\n",
    "    ## Plot variance explained ##\n",
    "    #############################\n",
    "    \n",
    "    # Plot variance explained using individual factors\n",
    "    plot_variance_explained(model, factors=\"all\")\n",
    "    plot_variance_explained(model, factors=c(1,2,3))\n",
    "    \n",
    "    # Plot total variance explained using all factors\n",
    "    plot_variance_explained(model, plot_total = TRUE)[[2]]\n",
    "    \n",
    "    ########################\n",
    "    ## Plot factor values ##\n",
    "    ########################\n",
    "    \n",
    "    plot_factor(model, factor = 1)\n",
    "    plot_factors(model, factor = c(1,2))\n",
    "    \n",
    "    ###########################\n",
    "    ## Plot feature loadings ##\n",
    "    ###########################\n",
    "    \n",
    "    # The weights or loadings provide a score for each gene on each factor. \n",
    "    # Genes with no association with the factor are expected to have values close to zero\n",
    "    # Genes with strong association with the factor are expected to have large absolute values. \n",
    "    # The sign of the loading indicates the direction of the effect: a positive loading indicates that the feature is more active in the cells with positive factor values, and viceversa.\n",
    "    \n",
    "    # Plot the distribution of loadings for Factor 1.\n",
    "    plot_weights(model,\n",
    "      view = 1,\n",
    "      factor = 1,\n",
    "      nfeatures = 10,     # Top number of features to highlight\n",
    "      scale = T           # Scale loadings from -1 to 1\n",
    "    )\n",
    "    \n",
    "    # If you are not interested in the full distribution, but just on the top loadings:\n",
    "    plot_top_weights(model, \n",
    "      view = 1, \n",
    "      factor = 1, \n",
    "      nfeatures = 10,\n",
    "      scale = T\n",
    "    )\n",
    "    \n",
    "    ######################################\n",
    "    ## Plot correlation between factors ##\n",
    "    ######################################\n",
    "    \n",
    "    plot_factor_cor(model)\n",
    "    \n",
    "    ###################\n",
    "    ## Fetch factors ##\n",
    "    ###################\n",
    "    invisible(dev.off())\n",
    "      "
   ]
  },
  {
   "cell_type": "markdown",
   "id": "photographic-vertex",
   "metadata": {
    "kernel": "Bash"
   },
   "source": [
    "## Reference:\n",
    "* Codes are adapted from [here](https://github.com/RTIInternational/biocloud_docker_tools/blob/master/peer/v1.3/run_peer.R)\n",
    "* GTEx recommandation of PEER factors is [here](https://gtexportal.org/home/documentationPage)\n",
    "* Examples by PEER is at [github](https://github.com/PMBio/peer/wiki/Tutorial)"
   ]
  }
 ],
 "metadata": {
  "kernelspec": {
   "display_name": "SoS",
   "language": "sos",
   "name": "sos"
  },
  "language_info": {
   "codemirror_mode": "sos",
   "file_extension": ".sos",
   "mimetype": "text/x-sos",
   "name": "sos",
   "nbconvert_exporter": "sos_notebook.converter.SoS_Exporter",
   "pygments_lexer": "sos"
  },
  "sos": {
   "kernels": [
    [
     "Bash",
     "bash",
     "Bash",
     "#E6EEFF",
     "shell"
    ],
    [
     "R",
     "ir",
     "R",
     "#DCDCDA",
     "r"
    ],
    [
     "SoS",
     "sos",
     "",
     "",
     "sos"
    ]
   ],
   "version": "0.22.6"
  }
 },
 "nbformat": 4,
 "nbformat_minor": 5
}
