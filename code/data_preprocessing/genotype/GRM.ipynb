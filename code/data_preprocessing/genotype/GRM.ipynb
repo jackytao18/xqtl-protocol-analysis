{
 "cells": [
  {
   "cell_type": "markdown",
   "id": "bearing-strain",
   "metadata": {
    "kernel": "SoS",
    "tags": []
   },
   "source": [
    "# Genomic relationship matrices\n",
    "\n",
    "This workflow generates genomic relationship matrices (GRM) under the leave-one-chromosome-out (LOCO) theme."
   ]
  },
  {
   "cell_type": "markdown",
   "id": "informed-outdoors",
   "metadata": {
    "kernel": "SoS"
   },
   "source": [
    "## Overview\n",
    "\n",
    "For each chromosome, we compute a GRM using data excluding this chromosome. Computation is implemented using `GCTA` software package."
   ]
  },
  {
   "cell_type": "markdown",
   "id": "recovered-steering",
   "metadata": {
    "kernel": "SoS",
    "tags": []
   },
   "source": [
    "## Input\n",
    "\n",
    "This workflow expects **per chromosome** genotype data in `PLINK 1.0` format. We provide [some genotype formatting workflows](https://cumc.github.io/xqtl-pipeline/code/data_preprocessing/genotype/genotype_formatting.html) to help convert other genotype formats to the required PLINK format. Notice that common variants (minor allele frequency > 1%) are recommended to use for computing GRM."
   ]
  },
  {
   "cell_type": "markdown",
   "id": "enabling-gibraltar",
   "metadata": {
    "kernel": "SoS",
    "tags": []
   },
   "source": [
    "## Output\n",
    "\n",
    "GRM per LOCO, in formats compatible with downstreams analysis including [LMM using APEX](https://cumc.github.io/xqtl-pipeline/code/association_scan/APEX/APEX.html)."
   ]
  },
  {
   "cell_type": "markdown",
   "id": "correct-commodity",
   "metadata": {
    "kernel": "SoS"
   },
   "source": [
    "## Example"
   ]
  },
  {
   "cell_type": "code",
   "execution_count": null,
   "id": "modular-rogers",
   "metadata": {
    "kernel": "Bash"
   },
   "outputs": [],
   "source": [
    "sos run GRM.ipynb grm \\\n",
    "    --cwd output \\\n",
    "    --genotype-list data/genotype/mwe_genotype.list \\\n",
    "    --container container/bioinfo.sif"
   ]
  },
  {
   "cell_type": "markdown",
   "id": "religious-exhibition",
   "metadata": {
    "kernel": "SoS"
   },
   "source": [
    "## Command interface"
   ]
  },
  {
   "cell_type": "code",
   "execution_count": 2,
   "id": "coordinate-harvest",
   "metadata": {
    "kernel": "Bash"
   },
   "outputs": [
    {
     "name": "stdout",
     "output_type": "stream",
     "text": [
      "usage: sos run GRM.ipynb [workflow_name | -t targets] [options] [workflow_options]\n",
      "  workflow_name:        Single or combined workflows defined in this script\n",
      "  targets:              One or more targets to generate\n",
      "  options:              Single-hyphen sos parameters (see \"sos run -h\" for details)\n",
      "  workflow_options:     Double-hyphen workflow-specific parameters\n",
      "\n",
      "Workflows:\n",
      "  grm\n",
      "\n",
      "Global Workflow Options:\n",
      "  --cwd VAL (as path, required)\n",
      "                        Work directory & output directory\n",
      "  --container ''\n",
      "                        The filename name for output data\n",
      "  --job-size 1 (as int)\n",
      "                        For cluster jobs, number commands to run per job\n",
      "  --walltime 5h\n",
      "                        Wall clock time expected\n",
      "  --mem 16G\n",
      "                        Memory expected\n",
      "  --numThreads 20 (as int)\n",
      "                        Number of threads\n",
      "  --genotype-list  paths\n",
      "\n",
      "\n",
      "Sections\n",
      "  grm_1:                Generate LOCO file list\n",
      "  grm_2:\n",
      "  grm_3:\n",
      "  grm_4:\n"
     ]
    }
   ],
   "source": [
    "sos run GRM.ipynb -h"
   ]
  },
  {
   "cell_type": "code",
   "execution_count": null,
   "id": "norman-yield",
   "metadata": {
    "kernel": "SoS"
   },
   "outputs": [],
   "source": [
    "[global]\n",
    "# Work directory & output directory\n",
    "parameter: cwd = path(\"output\")\n",
    "# The filename name for output data\n",
    "parameter: container = ''\n",
    "# For cluster jobs, number commands to run per job\n",
    "parameter: job_size = 1\n",
    "# Wall clock time expected\n",
    "parameter: walltime = \"5h\"\n",
    "# Memory expected\n",
    "parameter: mem = \"16G\"\n",
    "# Number of threads\n",
    "parameter: numThreads = 20\n",
    "parameter: genoFile = paths\n",
    "cwd = f\"{cwd:a}\"\n",
    "\n",
    "## Code below are copied from genotype_formatting.ipynb. Change should be made to codes in that document and sync with this chunk.\n",
    "from sos.utils import expand_size\n",
    "import os\n",
    "\n",
    "def get_genotype_file(geno_file_paths):\n",
    "    #\n",
    "    def valid_geno_file(x):\n",
    "        suffixes = path(x).suffixes\n",
    "        if suffixes[-1] == '.bed':\n",
    "            return True\n",
    "        if len(suffixes)>1 and ''.join(suffixes[-2:]) == \".vcf.gz\":\n",
    "            return True\n",
    "        return False\n",
    "    #\n",
    "    def complete_geno_path(x, geno_file):\n",
    "        if not valid_geno_file(x):\n",
    "            raise ValueError(f\"Genotype file {x} should be VCF (end with .vcf.gz) or PLINK bed file (end with .bed)\")\n",
    "        if not os.path.isfile(x):\n",
    "            # relative path\n",
    "            if not os.path.isfile(f'{geno_file:ad}/' + x):\n",
    "                raise ValueError(f\"Cannot find genotype file {x}\")\n",
    "            else:\n",
    "                x = f'{geno_file:ad}/' + x\n",
    "        return x\n",
    "    # \n",
    "    def format_chrom(chrom):\n",
    "        if chrom.startswith('chr'):\n",
    "            chrom = chrom[3:]\n",
    "        return chrom\n",
    "    # Inputs are either VCF or bed, or a vector of them \n",
    "    if len(geno_file_paths) > 1:\n",
    "        if all([valid_geno_file(x) for x in geno_file_paths]):\n",
    "            return paths(geno_file_paths)\n",
    "        else: \n",
    "            raise ValueError(f\"Invalid input {geno_file_paths}\")\n",
    "    # Input is one genotype file or text list of genotype files\n",
    "    geno_file = geno_file_paths[0]\n",
    "    if valid_geno_file(geno_file):\n",
    "        return path(geno_file)\n",
    "    else: \n",
    "        units = [x.strip().split() for x in open(geno_file).readlines() if x.strip() and not x.strip().startswith('#')]\n",
    "        if all([len(x) == 1 for x in units]):\n",
    "            return paths([complete_geno_path(x[0], geno_file) for x in units])\n",
    "        elif all([len(x) == 2 for x in units]):\n",
    "            genos = dict([(format_chrom(x[0]), path(complete_geno_path(x[1], geno_file))) for x in units])\n",
    "        else:\n",
    "            raise ValueError(f\"{geno_file} should contain one column of file names, or two columns of chrom number and corresponding file name\")\n",
    "        return genos\n",
    "                        \n",
    "genotypes = get_genotype_file(genoFile)"
   ]
  },
  {
   "cell_type": "markdown",
   "id": "south-subscription",
   "metadata": {
    "kernel": "SoS"
   },
   "source": [
    "## Generate LOCO file list \n",
    "\n",
    "This step generates a list of bfiles that are used by `gcta` to generate the GRM. eg,:\n",
    "\n",
    "```\n",
    "/mnt/mfs/statgen/xqtl_workflow_testing/ROSMAP/data_preprocessing/genotype/AC_per_chrom_plink/AC_chr1\n",
    "/mnt/mfs/statgen/xqtl_workflow_testing/ROSMAP/data_preprocessing/genotype/AC_per_chrom_plink/AC_chr2\n",
    "/mnt/mfs/statgen/xqtl_workflow_testing/ROSMAP/data_preprocessing/genotype/AC_per_chrom_plink/AC_chr3\n",
    "/mnt/mfs/statgen/xqtl_workflow_testing/ROSMAP/data_preprocessing/genotype/AC_per_chrom_plink/AC_chr4\n",
    "/mnt/mfs/statgen/xqtl_workflow_testing/ROSMAP/data_preprocessing/genotype/AC_per_chrom_plink/AC_chr5\n",
    "/mnt/mfs/statgen/xqtl_workflow_testing/ROSMAP/data_preprocessing/genotype/AC_per_chrom_plink/AC_chr6\n",
    "```\n",
    "\n",
    "without `.bed` extension."
   ]
  },
  {
   "cell_type": "code",
   "execution_count": 1,
   "id": "realistic-couple",
   "metadata": {
    "kernel": "SoS"
   },
   "outputs": [],
   "source": [
    "# Generate LOCO file list\n",
    "[grm_1]\n",
    "chrom = list(genotypes.keys())\n",
    "input: for_each = 'chrom'\n",
    "output: f'{cwd}/{genotypes[_chrom]:bn}.loco.txt'\n",
    "with open(_output, 'w') as f:\n",
    "    f.write('\\n'.join([str(genotypes[x].with_suffix('')) for x in genotypes if x != _chrom]))"
   ]
  },
  {
   "cell_type": "markdown",
   "id": "directed-penetration",
   "metadata": {
    "kernel": "SoS"
   },
   "source": [
    "## Compute LOCO-GRM\n",
    "\n",
    "This step can take a while. We recommend using genotype data of common variants to perform this analysis."
   ]
  },
  {
   "cell_type": "code",
   "execution_count": null,
   "id": "described-zoning",
   "metadata": {
    "kernel": "SoS"
   },
   "outputs": [],
   "source": [
    "# Compute LOCO-GRM\n",
    "[grm_2]\n",
    "output: f'{_input:nn}.grm.gz'\n",
    "task: trunk_workers = 1, trunk_size = job_size, walltime = walltime, mem = mem, cores = numThreads, tags = f'{step_name}_{_output:bn}'\n",
    "bash: expand= \"$[ ]\", stderr = f'{_output}.stderr', stdout = f'{_output}.stdout', container = container\n",
    "   gcta64 \\\n",
    "   --mbfile $[_input] \\\n",
    "   --make-grm-gz \\\n",
    "   --out $[_output:nn]"
   ]
  },
  {
   "cell_type": "markdown",
   "id": "hairy-popularity",
   "metadata": {
    "kernel": "SoS"
   },
   "source": [
    "## Format output for APEX"
   ]
  },
  {
   "cell_type": "code",
   "execution_count": null,
   "id": "expensive-gateway",
   "metadata": {
    "kernel": "SoS"
   },
   "outputs": [],
   "source": [
    "# Format output for APEX\n",
    "[grm_3]\n",
    "output: f'{_input:nn}.apex.grm'\n",
    "task: trunk_workers = 1, trunk_size = job_size, walltime = walltime, mem = mem, cores = numThreads, tags = f'{step_name}_{_output:bn}'\n",
    "R: expand= \"$[ ]\", stderr = f'{_output}.stderr', stdout = f'{_output}.stdout', container = container\n",
    "   library(\"dplyr\")\n",
    "   library(\"tibble\")\n",
    "   library(\"readr\")\n",
    "   library(\"purrr\")\n",
    "    grm = read_delim(gzfile(\"$[_input]\"),\"\\t\",col_names = FALSE)\n",
    "    id = unlist(read_delim(\"$[_input:n].id\",\"\\t\",col_names = FALSE)[,2])\n",
    "    grm = grm[,c(1,2,4)]\n",
    "    colnames(grm) = c(\"#id1\",\"id2\",\"kinship\")\n",
    "    grm = grm%>%mutate(`#id1` = map_chr(`#id1`, ~id[.x]),`id2` =  map_chr(`id2`, ~id[.x]))\n",
    "    grm%>%write_delim(\"$[_output]\",\"\\t\")"
   ]
  },
  {
   "cell_type": "markdown",
   "id": "interracial-batch",
   "metadata": {
    "kernel": "SoS"
   },
   "source": [
    "Generate the list of LOCO-GRM file for APEX input,"
   ]
  },
  {
   "cell_type": "code",
   "execution_count": null,
   "id": "charming-samoa",
   "metadata": {
    "kernel": "SoS"
   },
   "outputs": [],
   "source": [
    "# Generate APEX input list\n",
    "[grm_4]\n",
    "input: group_by = \"all\"\n",
    "output: f'{cwd}/{path(list(genotypes.values())[1]):bnn}.loco_grm_list.txt'\n",
    "R: expand= \"$[ ]\", stderr = f'{_output}.stderr', stdout = f'{_output}.stdout', container = container\n",
    "    library(\"dplyr\")\n",
    "    library(\"tibble\")\n",
    "    library(\"readr\")\n",
    "    library(\"purrr\")\n",
    "    chrom = paste0(\"chr\",c($[paths(genotypes.keys()):r,]),collapse = \"\")\n",
    "    files = c($[_input:r,])\n",
    "    dir = \"$[_output:nn]\"\n",
    "    grm_list = tibble(`#chr` = chrom, dir = files)%>%arrange(`#chr`)\n",
    "    grm_list%>%write_delim(\"$[_output]\",\"\\t\")"
   ]
  }
 ],
 "metadata": {
  "kernelspec": {
   "display_name": "SoS",
   "language": "sos",
   "name": "sos"
  },
  "language_info": {
   "codemirror_mode": "sos",
   "file_extension": ".sos",
   "mimetype": "text/x-sos",
   "name": "sos",
   "nbconvert_exporter": "sos_notebook.converter.SoS_Exporter",
   "pygments_lexer": "sos"
  },
  "sos": {
   "kernels": [
    [
     "Bash",
     "bash",
     "Bash",
     "#E6EEFF",
     ""
    ],
    [
     "SoS",
     "sos",
     "",
     "",
     "sos"
    ]
   ],
   "version": "0.22.6"
  }
 },
 "nbformat": 4,
 "nbformat_minor": 5
}
