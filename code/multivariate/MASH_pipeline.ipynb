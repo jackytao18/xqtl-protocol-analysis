{
 "cells": [
  {
   "cell_type": "markdown",
   "id": "surrounded-stocks",
   "metadata": {
    "kernel": "SoS",
    "tags": []
   },
   "source": [
    "# Multivariate association with MASH\n",
    "This note book document the process of meta analysis using mash. \n",
    "\n",
    "## Input:\n",
    "22 merged.vcf.gz file as output of the sumstat merger.\n",
    "\n",
    "## Output\n",
    "The output of association scan, and optionally the output from METAL, will undergo a reformmating process, and then fed into the MASH module to generate\n",
    "1. MASH result in vcf format\n",
    "2. Mixture prior for MvSuSIE_RSS"
   ]
  },
  {
   "cell_type": "markdown",
   "id": "personal-prince",
   "metadata": {
    "kernel": "SoS",
    "tags": []
   },
   "source": [
    "## Partitioning"
   ]
  },
  {
   "cell_type": "code",
   "execution_count": null,
   "id": "military-jurisdiction",
   "metadata": {
    "kernel": "SoS"
   },
   "outputs": [],
   "source": [
    "nohup sos run pipeline/sumstat_processing.ipynb processing \\\n",
    "    --sumstat_inv `ls /mnt/vast/hpc/csg/snuc_pseudo_bulk/eight_celltypes_analysis/output/data_intergration/TensorQTL/*norminal.cis_long_table.merged.vcf.gz`"
   ]
  },
  {
   "cell_type": "markdown",
   "id": "occasional-participant",
   "metadata": {
    "kernel": "Markdown",
    "tags": []
   },
   "source": [
    "## Extract effect\n",
    "The stronges, the random, and the null signal will be extracted for each gene, and merged into 1 rds for downstream analysis. Only 6 phenotypes ( cell types) will be used because `ALL` phenotype the pooled of all other celltypes and there are too many non-overlap gene if `End` is not excluded, 1600 overlaped gene out of 13000 genes. Even with `End` excluded, there is only 6000 overlapped gene left."
   ]
  },
  {
   "cell_type": "markdown",
   "id": "compliant-clear",
   "metadata": {
    "kernel": "SoS"
   },
   "source": [
    "### Example analysis unit"
   ]
  },
  {
   "cell_type": "code",
   "execution_count": 1,
   "id": "wicked-missile",
   "metadata": {
    "kernel": "SoS"
   },
   "outputs": [
    {
     "name": "stdout",
     "output_type": "stream",
     "text": [
      "HES4\t/mnt/vast/hpc/csg/snuc_pseudo_bulk/eight_celltypes_analysis/MASH/output/RDS/ALL_Ast_End_Exc_Inh_Mic_OPC_Oli.log2cpm.bed.processed_phenotype.per_chrom_ALL_Ast_End_Exc_Inh_Mic_OPC_Oli.log2cpm.ALL_Ast_End_Exc_Inh_Mic_OPC_Oli.covariate.pca.resid.PEER.cov.chr1.norminal.cis_long_tableHES4.rds\n",
      "KLHL17\t/mnt/vast/hpc/csg/snuc_pseudo_bulk/eight_celltypes_analysis/MASH/output/RDS/ALL_Ast_End_Exc_Inh_Mic_OPC_Oli.log2cpm.bed.processed_phenotype.per_chrom_ALL_Ast_End_Exc_Inh_Mic_OPC_Oli.log2cpm.ALL_Ast_End_Exc_Inh_Mic_OPC_Oli.covariate.pca.resid.PEER.cov.chr1.norminal.cis_long_tableKLHL17.rds\n",
      "NOC2L\t/mnt/vast/hpc/csg/snuc_pseudo_bulk/eight_celltypes_analysis/MASH/output/RDS/ALL_Ast_End_Exc_Inh_Mic_OPC_Oli.log2cpm.bed.processed_phenotype.per_chrom_ALL_Ast_End_Exc_Inh_Mic_OPC_Oli.log2cpm.ALL_Ast_End_Exc_Inh_Mic_OPC_Oli.covariate.pca.resid.PEER.cov.chr1.norminal.cis_long_tableNOC2L.rds\n",
      "LINC01128\t/mnt/vast/hpc/csg/snuc_pseudo_bulk/eight_celltypes_analysis/MASH/output/RDS/ALL_Ast_End_Exc_Inh_Mic_OPC_Oli.log2cpm.bed.processed_phenotype.per_chrom_ALL_Ast_End_Exc_Inh_Mic_OPC_Oli.log2cpm.ALL_Ast_End_Exc_Inh_Mic_OPC_Oli.covariate.pca.resid.PEER.cov.chr1.norminal.cis_long_tableLINC01128.rds\n",
      "LINC01409\t/mnt/vast/hpc/csg/snuc_pseudo_bulk/eight_celltypes_analysis/MASH/output/RDS/ALL_Ast_End_Exc_Inh_Mic_OPC_Oli.log2cpm.bed.processed_phenotype.per_chrom_ALL_Ast_End_Exc_Inh_Mic_OPC_Oli.log2cpm.ALL_Ast_End_Exc_Inh_Mic_OPC_Oli.covariate.pca.resid.PEER.cov.chr1.norminal.cis_long_tableLINC01409.rds\n",
      "AGRN\t/mnt/vast/hpc/csg/snuc_pseudo_bulk/eight_celltypes_analysis/MASH/output/RDS/ALL_Ast_End_Exc_Inh_Mic_OPC_Oli.log2cpm.bed.processed_phenotype.per_chrom_ALL_Ast_End_Exc_Inh_Mic_OPC_Oli.log2cpm.ALL_Ast_End_Exc_Inh_Mic_OPC_Oli.covariate.pca.resid.PEER.cov.chr1.norminal.cis_long_tableAGRN.rds\n",
      "C1orf159\t/mnt/vast/hpc/csg/snuc_pseudo_bulk/eight_celltypes_analysis/MASH/output/RDS/ALL_Ast_End_Exc_Inh_Mic_OPC_Oli.log2cpm.bed.processed_phenotype.per_chrom_ALL_Ast_End_Exc_Inh_Mic_OPC_Oli.log2cpm.ALL_Ast_End_Exc_Inh_Mic_OPC_Oli.covariate.pca.resid.PEER.cov.chr1.norminal.cis_long_tableC1orf159.rds\n",
      "B3GALT6\t/mnt/vast/hpc/csg/snuc_pseudo_bulk/eight_celltypes_analysis/MASH/output/RDS/ALL_Ast_End_Exc_Inh_Mic_OPC_Oli.log2cpm.bed.processed_phenotype.per_chrom_ALL_Ast_End_Exc_Inh_Mic_OPC_Oli.log2cpm.ALL_Ast_End_Exc_Inh_Mic_OPC_Oli.covariate.pca.resid.PEER.cov.chr1.norminal.cis_long_tableB3GALT6.rds\n",
      "SDF4\t/mnt/vast/hpc/csg/snuc_pseudo_bulk/eight_celltypes_analysis/MASH/output/RDS/ALL_Ast_End_Exc_Inh_Mic_OPC_Oli.log2cpm.bed.processed_phenotype.per_chrom_ALL_Ast_End_Exc_Inh_Mic_OPC_Oli.log2cpm.ALL_Ast_End_Exc_Inh_Mic_OPC_Oli.covariate.pca.resid.PEER.cov.chr1.norminal.cis_long_tableSDF4.rds\n",
      "UBE2J2\t/mnt/vast/hpc/csg/snuc_pseudo_bulk/eight_celltypes_analysis/MASH/output/RDS/ALL_Ast_End_Exc_Inh_Mic_OPC_Oli.log2cpm.bed.processed_phenotype.per_chrom_ALL_Ast_End_Exc_Inh_Mic_OPC_Oli.log2cpm.ALL_Ast_End_Exc_Inh_Mic_OPC_Oli.covariate.pca.resid.PEER.cov.chr1.norminal.cis_long_tableUBE2J2.rds\n"
     ]
    }
   ],
   "source": [
    "head /mnt/vast/hpc/csg/snuc_pseudo_bulk/eight_celltypes_analysis/MASH/output/ALL_Ast_End_Exc_Inh_Mic_OPC_Oli.merged_rds.list"
   ]
  },
  {
   "cell_type": "code",
   "execution_count": null,
   "id": "deluxe-israel",
   "metadata": {},
   "outputs": [],
   "source": []
  },
  {
   "cell_type": "code",
   "execution_count": null,
   "id": "48d987f5-1c1a-4789-9bad-6c890083a465",
   "metadata": {},
   "outputs": [],
   "source": [
    "nohup sos run pipeline/Signal_Extraction.ipynb extract_effects     \\\n",
    "    --name  Ast_Exc_Inh_Mic_OPC_Oli    \\\n",
    "    --analysis_units   <(cat output/ALL_Ast_End_Exc_Inh_Mic_OPC_Oli.merged_rds.list | cut -f 2 ) \\\n",
    "    --exclude_condition 1,3  -s force -J 20 -q csg -c csg.yml  &"
   ]
  },
  {
   "cell_type": "markdown",
   "id": "behind-transmission",
   "metadata": {
    "kernel": "SoS"
   },
   "source": [
    "## Construct of MASH Model"
   ]
  },
  {
   "cell_type": "code",
   "execution_count": null,
   "id": "brief-income",
   "metadata": {
    "kernel": "SoS"
   },
   "outputs": [],
   "source": [
    " nohup sos run pipeline/mashr.ipynb mash --container //mnt/vast/hpc/csg/containers/stephenslab.sif \\\n",
    "     --output_prefix Ast_Exc_Inh_Mic_OPC_Oli \\\n",
    "     --data output/Ast_Exc_Inh_Mic_OPC_Oli.rds\\\n",
    "     -s force -J 20 -q csg -c csg.yml --cwd MASH_6_celltypes --vhat mle &"
   ]
  },
  {
   "cell_type": "markdown",
   "id": "vocal-bidder",
   "metadata": {
    "kernel": "SoS",
    "tags": []
   },
   "source": [
    "## MASH Posterior\n",
    "Run the following command in the same working directory as the previouse step"
   ]
  },
  {
   "cell_type": "code",
   "execution_count": null,
   "id": "photographic-bernard",
   "metadata": {
    "kernel": "SoS"
   },
   "outputs": [],
   "source": [
    "nohup sos run pipeline/mashr.ipynb posterior \\\n",
    "    --container //mnt/vast/hpc/csg/containers/stephenslab.sif \\\n",
    "    --output_prefix Ast_Exc_Inh_Mic_OPC_Oli \\\n",
    "    --analysis-units <(cat output/ALL_Ast_End_Exc_Inh_Mic_OPC_Oli.merged_rds.list | cut -f 2 ) \\\n",
    "    -s build -J 200 -q csg -c csg.yml --cwd MASH_6_celltypes \\\n",
    "    --vhat mle \\\n",
    "    --mash_model /mnt/vast/hpc/csg/snuc_pseudo_bulk/eight_celltypes_analysis/MASH/MASH_6_celltypes/Ast_Exc_Inh_Mic_OPC_Oli.EZ.V_mle.mash_model.rds   &"
   ]
  },
  {
   "cell_type": "markdown",
   "id": "announced-halifax",
   "metadata": {
    "kernel": "SoS"
   },
   "source": [
    "## Convert MASH result RDS to VCF\n",
    "Running the follwoing code using the mash_output_list from the previouse step as input can covert all the mash RDS into vcf format"
   ]
  },
  {
   "cell_type": "markdown",
   "id": "improved-prior",
   "metadata": {
    "kernel": "SoS"
   },
   "source": [
    "### Example analysis unit"
   ]
  },
  {
   "cell_type": "code",
   "execution_count": 2,
   "id": "accomplished-example",
   "metadata": {
    "kernel": "SoS"
   },
   "outputs": [
    {
     "name": "stdout",
     "output_type": "stream",
     "text": [
      "\"/mnt/mfs/statgen/xqtl_workflow_testing/module/MASH/PCC_DLPFC_AC_ENSG00000000457.posterior.rds\"\n",
      "\"/mnt/mfs/statgen/xqtl_workflow_testing/module/MASH/PCC_DLPFC_AC_ENSG00000000460.posterior.rds\"\n",
      "\"/mnt/mfs/statgen/xqtl_workflow_testing/module/MASH/PCC_DLPFC_AC_ENSG00000000938.posterior.rds\"\n",
      "\"/mnt/mfs/statgen/xqtl_workflow_testing/module/MASH/PCC_DLPFC_AC_ENSG00000000971.posterior.rds\"\n",
      "\"/mnt/mfs/statgen/xqtl_workflow_testing/module/MASH/PCC_DLPFC_AC_ENSG00000001036.posterior.rds\"\n",
      "\"/mnt/mfs/statgen/xqtl_workflow_testing/module/MASH/PCC_DLPFC_AC_ENSG00000001084.posterior.rds\"\n",
      "\"/mnt/mfs/statgen/xqtl_workflow_testing/module/MASH/PCC_DLPFC_AC_ENSG00000001167.posterior.rds\"\n",
      "\"/mnt/mfs/statgen/xqtl_workflow_testing/module/MASH/PCC_DLPFC_AC_ENSG00000001460.posterior.rds\"\n",
      "\"/mnt/mfs/statgen/xqtl_workflow_testing/module/MASH/PCC_DLPFC_AC_ENSG00000001461.posterior.rds\"\n",
      "\"/mnt/mfs/statgen/xqtl_workflow_testing/module/MASH/PCC_DLPFC_AC_ENSG00000001561.posterior.rds\"\n"
     ]
    }
   ],
   "source": [
    "head /mnt/mfs/statgen/xqtl_workflow_testing/module/MASH/mash_output_list"
   ]
  },
  {
   "cell_type": "code",
   "execution_count": 1,
   "id": "stopped-screening",
   "metadata": {
    "kernel": "SoS"
   },
   "outputs": [
    {
     "name": "stdout",
     "output_type": "stream",
     "text": [
      "nohup: ignoring input and appending output to 'nohup.out'\n"
     ]
    }
   ],
   "source": [
    "        nohup sos run pipeline/rds_to_vcf.ipynb rds_to_vcf \\\n",
    "            --wd ./ \\\n",
    "            --container //mnt/vast/hpc/csg/containers/bioinfo.sif\\\n",
    "            --name \"Ast_Exc_Inh_Mic_OPC_Oli\" \\\n",
    "            --analysis_units   /mnt/vast/hpc/csg/snuc_pseudo_bulk/eight_celltypes_analysis/MASH/MASH_6_celltypes/mash_output_list"
   ]
  },
  {
   "cell_type": "markdown",
   "id": "16b9bd58-41ee-4840-bbb9-6153033411da",
   "metadata": {},
   "source": [
    "## Mixture Prior"
   ]
  },
  {
   "cell_type": "code",
   "execution_count": null,
   "id": "f95d9c09-0cc4-4409-a7e3-a193a86b2787",
   "metadata": {},
   "outputs": [],
   "source": [
    "nohup sos run pipeline/mixture_prior.ipynb ed_bovy \\\n",
    "--cwd Mixture_prior \\\n",
    "--container containers/stephenslab.sif \\\n",
    "--name \"Ast_Exc_Inh_Mic_OPC_Oli\" \\\n",
    "--data output/Ast_Exc_Inh_Mic_OPC_Oli.rds \\\n",
    "--mixture_components_dir  /mnt/vast/hpc/csg/snuc_pseudo_bulk/eight_celltypes_analysis/MASH/MASH_6_celltypes  -s build &"
   ]
  }
 ],
 "metadata": {
  "kernelspec": {
   "display_name": "Bash",
   "language": "bash",
   "name": "bash"
  },
  "language_info": {
   "codemirror_mode": "shell",
   "file_extension": ".sh",
   "mimetype": "text/x-sh",
   "name": "bash"
  },
  "sos": {
   "kernels": [
    [
     "Markdown",
     "markdown",
     "markdown",
     "",
     ""
    ]
   ],
   "version": "0.22.6"
  }
 },
 "nbformat": 4,
 "nbformat_minor": 5
}
