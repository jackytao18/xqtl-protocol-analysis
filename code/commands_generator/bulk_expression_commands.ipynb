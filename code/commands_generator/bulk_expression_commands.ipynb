{
 "cells": [
  {
   "cell_type": "markdown",
   "id": "level-convention",
   "metadata": {
    "kernel": "SoS",
    "tags": []
   },
   "source": [
    "# RNA-seq calling and QC\n",
    "\n",
    "This document shows the use of various modules to prepare reference data, perform RNA-seq calling, expression level quantification and quality control. In particular,\n",
    "\n",
    "1. [`reference_data.ipynb`](https://cumc.github.io/xqtl-pipeline/code/data_preprocessing/reference_data.html)\n",
    "2. [`RNA_calling.ipynb`](https://cumc.github.io/xqtl-pipeline/code/molecular_phenotypes/calling/RNA_calling.html)\n",
    "3. [`readCount_QC.ipynb`](https://cumc.github.io/xqtl-pipeline/code/molecular_phenotypes/QC/readCount_QC.html)\n",
    "\n",
    "A minimal working example is available on [Google Drive](https://drive.google.com/drive/u/0/folders/11kQv7PXozsKkgeqADH-28bC_kZ-w_oHo)."
   ]
  },
  {
   "cell_type": "markdown",
   "id": "2d04a58d-04a8-4cf2-908a-d9f871f70104",
   "metadata": {
    "kernel": "SoS"
   },
   "source": [
    "This is a master control notebook for the molecular_phenotype_calling section of our pipeline. When following example commands was excuted, it will checked if the reference data was presented and generate the reference data if not. After that, molecular phenotype calling will be done based on the recipe that were fed into it. For each rows in the recipe, It will output a bed.gz file that are ready for downstream analysis.\n",
    "\n",
    "By default, the reference data is assumed to be stored in the reference_data folder under the cwd. However, user can specify whether the \n",
    "\n",
    "- Input:\n",
    "\n",
    "    A recipe file, with columns: `\"Theme\", \"Sample_fastq_list\", \"Data_dir\"`\n",
    "\n",
    "- Output: \n",
    "    \n",
    "    A bed.gz file for each row in the Input\n",
    "  \n",
    "- parameters: \n",
    "    \n",
    "    - flag `--stranded` or `--no-stranded` : whether the rna seq data intended to be called is stranded or not. \n",
    "    - flag `--pair-ended` or `--no-pair-ended` : whether the rna seq data intended to be called is paired-ended or not.\n",
    "    - `--exe_dir` : diretory to the workflow notebook\n",
    "    - `--sample-participant-lookup` : a sample participant lookup table with the first column being sample ID and second column being the cooresponding sample ids in the genotype file"
   ]
  },
  {
   "cell_type": "code",
   "execution_count": 4,
   "id": "3dee6e9f-e003-427d-a2c6-3acfad118a7d",
   "metadata": {
    "kernel": "Bash",
    "tags": []
   },
   "outputs": [
    {
     "name": "stdout",
     "output_type": "stream",
     "text": [
      "usage: sos run bulk_expression_commands.ipynb\n",
      "               [workflow_name | -t targets] [options] [workflow_options]\n",
      "  workflow_name:        Single or combined workflows defined in this script\n",
      "  targets:              One or more targets to generate\n",
      "  options:              Single-hyphen sos parameters (see \"sos run -h\" for details)\n",
      "  workflow_options:     Double-hyphen workflow-specific parameters\n",
      "\n",
      "Workflows:\n",
      "  ref_data\n",
      "  gene_annotation\n",
      "  indexing\n",
      "  fastqc\n",
      "  rnaseqc\n",
      "  RSEM\n",
      "  QC\n",
      "  normalization\n",
      "\n",
      "Global Workflow Options:\n",
      "  --recipe VAL (as path, required)\n",
      "                        The aforementioned input recipe\n",
      "  --cwd . (as path)\n",
      "                        Overall wd, the file structure of analysis is\n",
      "                        wd/[steps]/[sub_dir for each steps]\n",
      "  --refd  path(f'{cwd}/reference_data/')\n",
      "\n",
      "                        dir to store the reference data\n",
      "  --exe-dir /home/gw/GIT/xqtl-pipeline/pipeline (as path)\n",
      "                        Diretory to the excutable\n",
      "  --container-rnaquant '/mnt/mfs/statgen/containers/rna_quantification.sif'\n",
      "  --yml csg.yml (as path)\n",
      "  --jobs 50 (as int)\n",
      "  --queue 'csg,q'\n",
      "\n",
      "Sections\n",
      "  ref_data_1:\n",
      "  ref_data_2:\n",
      "  gene_annotation:\n",
      "    Workflow Options:\n",
      "      --[no-]stranded (required)\n",
      "  indexing:\n",
      "  fastqc:\n",
      "  rnaseqc:\n",
      "    Workflow Options:\n",
      "      --fasta-with-adapters-etc 'TruSeq3-PE.fa'\n",
      "  RSEM:\n",
      "    Workflow Options:\n",
      "      --fasta-with-adapters-etc 'TruSeq3-PE.fa'\n",
      "      --[no-]is-paired-end (required)\n",
      "  QC:\n",
      "    Workflow Options:\n",
      "      --low-expr-TPM 0.1 (as float)\n",
      "      --low-expr-TPM-percent 0.2 (as float)\n",
      "      --RLEFilterPercent 0.05 (as float)\n",
      "      --DSFilterPercent 0.05 (as float)\n",
      "      --topk-genes 100 (as int)\n",
      "      --cluster-percent 0.6 (as float)\n",
      "      --pvalues-cut 0.05 (as float)\n",
      "      --cluster-level 5 (as int)\n",
      "  normalization:\n",
      "    Workflow Options:\n",
      "      --sample-participant-lookup VAL (as path, required)\n",
      "      --tpm-threshold 0.1 (as float)\n",
      "      --count-threshold 6 (as int)\n",
      "      --sample-frac-threshold 0.2 (as float)\n",
      "      --normalization-method tmm\n"
     ]
    }
   ],
   "source": [
    "sos run bulk_expression_commands.ipynb -h "
   ]
  },
  {
   "cell_type": "code",
   "execution_count": null,
   "id": "54004a97-2183-4adb-88fb-8ded125a2128",
   "metadata": {
    "kernel": "SoS"
   },
   "outputs": [],
   "source": [
    "[global]\n",
    "## The aforementioned input recipe\n",
    "parameter: recipe = path\n",
    "## Overall wd, the file structure of analysis is wd/[steps]/[sub_dir for each steps]\n",
    "parameter:  cwd = path(\"output\")\n",
    "## dir to store the reference data\n",
    "parameter: refd = path(f'{cwd}/reference_data/')\n",
    "## Diretory to the excutable\n",
    "parameter: exe_dir = path(\"~/GIT/xqtl-pipeline/pipeline/\")\n",
    "parameter: container_rnaquant = '/mnt/mfs/statgen/containers/rna_quantification.sif'\n",
    "## Cloud computing options:\n",
    "parameter: yml = path(\"./csg.yml\")\n",
    "parameter: jobs = 50 # Number of jobs that are submitted to the cluster\n",
    "parameter: queue = \"csg\" # The queue that jobs are submitted to\n",
    "submission = f'-J {jobs} -c {yml} -q {queue}'\n",
    "parameter: yml = path(\"csg.yml\") \n",
    "import pandas as pd\n",
    "input_inv = pd.read_csv(recipe, sep = \"\\t\").to_dict(\"records\")\n",
    "import os"
   ]
  },
  {
   "cell_type": "code",
   "execution_count": 4,
   "id": "08d28e4c-c408-49fd-aa13-4f50d587197c",
   "metadata": {
    "kernel": "SoS"
   },
   "outputs": [
    {
     "data": {
      "text/html": [
       "<div>\n",
       "<style scoped>\n",
       "    .dataframe tbody tr th:only-of-type {\n",
       "        vertical-align: middle;\n",
       "    }\n",
       "\n",
       "    .dataframe tbody tr th {\n",
       "        vertical-align: top;\n",
       "    }\n",
       "\n",
       "    .dataframe thead th {\n",
       "        text-align: right;\n",
       "    }\n",
       "</style>\n",
       "<table border=\"1\" class=\"dataframe\">\n",
       "  <thead>\n",
       "    <tr style=\"text-align: right;\">\n",
       "      <th></th>\n",
       "      <th>Theme</th>\n",
       "      <th>Sample_fastq_list</th>\n",
       "      <th>Data_dir</th>\n",
       "    </tr>\n",
       "  </thead>\n",
       "  <tbody>\n",
       "    <tr>\n",
       "      <th>0</th>\n",
       "      <td>AC</td>\n",
       "      <td>AC_sample_fastq.list</td>\n",
       "      <td>/mnt/mfs/statgen/xqtl_workflow_testing/rna_qua...</td>\n",
       "    </tr>\n",
       "    <tr>\n",
       "      <th>1</th>\n",
       "      <td>DLPFC</td>\n",
       "      <td>DLPFC_sample_fastq.list</td>\n",
       "      <td>/mnt/mfs/statgen/xqtl_workflow_testing/rna_qua...</td>\n",
       "    </tr>\n",
       "    <tr>\n",
       "      <th>2</th>\n",
       "      <td>PCC</td>\n",
       "      <td>PCC_sample_fastq</td>\n",
       "      <td>/mnt/mfs/statgen/xqtl_workflow_testing/rna_qua...</td>\n",
       "    </tr>\n",
       "  </tbody>\n",
       "</table>\n",
       "</div>"
      ],
      "text/plain": [
       "   Theme  ...                                           Data_dir\n",
       "0     AC  ...  /mnt/mfs/statgen/xqtl_workflow_testing/rna_qua...\n",
       "1  DLPFC  ...  /mnt/mfs/statgen/xqtl_workflow_testing/rna_qua...\n",
       "2    PCC  ...  /mnt/mfs/statgen/xqtl_workflow_testing/rna_qua...\n",
       "\n",
       "[3 rows x 3 columns]"
      ]
     },
     "execution_count": 4,
     "metadata": {},
     "output_type": "execute_result"
    }
   ],
   "source": [
    "import pandas as pd\n",
    "recipe = pd.DataFrame( {\"Theme\" : [\"AC\",\"DLPFC\",\"PCC\"] ,\n",
    "                \"Sample_fastq_list\" : [\"AC_sample_fastq.list\",\n",
    "                   \"DLPFC_sample_fastq.list\",\n",
    "                   \"PCC_sample_fastq\"],\n",
    "                \"Data_dir\" : [\"/mnt/mfs/statgen/xqtl_workflow_testing/rna_quant/rna_expression/\",\n",
    "                     \"/mnt/mfs/statgen/xqtl_workflow_testing/rna_quant/rna_expression/\",\n",
    "                     \"/mnt/mfs/statgen/xqtl_workflow_testing/rna_quant/rna_expression/\"]})\n",
    "recipe.to_csv(\"/mnt/mfs/statgen/xqtl_workflow_testing/rna_quant/rna_expression/mwe_recipe.txt\",\"\\t\",index = 0)\n",
    "recipe"
   ]
  },
  {
   "cell_type": "code",
   "execution_count": null,
   "id": "be283dfa-3e6d-4b02-8066-858e56d52083",
   "metadata": {
    "kernel": "SoS"
   },
   "outputs": [],
   "source": [
    "sos dryrun ./bulk_expression_master.ipynb fastqc \\\n",
    "    --recipe \"/mnt/mfs/statgen/xqtl_workflow_testing/rna_quant/rna_expression/mwe_recipe.txt\" \\\n",
    "    --cwd ./\n",
    "    \n",
    "\n",
    "sos dryrun ./bulk_expression_master.ipynb normalization \\\n",
    "    --recipe \"/mnt/mfs/statgen/xqtl_workflow_testing/rna_quant/rna_expression/mwe_recipe.txt\"  \\\n",
    "    --cwd ./ \\\n",
    "    --sample-participant-lookup /mnt/mfs/statgen/snuc_pseudo_bulk/data/reference_data/sampleSheetAfterQC.txt  \\\n",
    "    --fasta-with-adapters-etc  \"TruSeq3-PE.fa\" \\\n",
    "    --stranded \\\n",
    "    --is-paired-end > example_script\n"
   ]
  },
  {
   "cell_type": "code",
   "execution_count": 3,
   "id": "f9252d2d-6966-498c-8ef5-d57d3d7744a9",
   "metadata": {
    "kernel": "SoS"
   },
   "outputs": [
    {
     "name": "stdout",
     "output_type": "stream",
     "text": [
      "sos run /home/hs3163/GIT/xqtl-pipeline/pipeline/pipeline/reference_data.ipynb download_hg_reference --cwd /mnt/mfs/statgen/xqtl_workflow_testing/phenotype_master_control/reference_data\n",
      "sos run /home/hs3163/GIT/xqtl-pipeline/pipeline/pipeline/reference_data.ipynb download_gene_annotation --cwd /mnt/mfs/statgen/xqtl_workflow_testing/phenotype_master_control/reference_data\n",
      "sos run /home/hs3163/GIT/xqtl-pipeline/pipeline/pipeline/reference_data.ipynb download_ercc_reference --cwd /mnt/mfs/statgen/xqtl_workflow_testing/phenotype_master_control/reference_data\n",
      "\n",
      "\n",
      "\n",
      "sos run /home/hs3163/GIT/xqtl-pipeline/pipeline/reference_data.ipynb hg_reference \\\n",
      "    --cwd /mnt/mfs/statgen/xqtl_workflow_testing/phenotype_master_control/reference_data/GRCh38_full_analysis_set_plus_decoy_hla /mnt/mfs/statgen/xqtl_workflow_testing/phenotype_master_control/reference_data/Homo_sapiens.GRCh38.103.chr /mnt/mfs/statgen/xqtl_workflow_testing/phenotype_master_control/reference_data/ERCC92 /mnt/mfs/statgen/xqtl_workflow_testing/phenotype_master_control/reference_data \\\n",
      "    --ercc-reference /mnt/mfs/statgen/xqtl_workflow_testing/phenotype_master_control/reference_data/ERCC92.fa \\\n",
      "    --hg-reference /mnt/mfs/statgen/xqtl_workflow_testing/phenotype_master_control/reference_data/Homo_sapiens.GRCh38.103.chr.gtf \\\n",
      "    --container /mnt/mfs/statgen/containers/rna_quantification.sif\n",
      "\n",
      "\n",
      "\n",
      "sos run /home/hs3163/GIT/xqtl-pipeline/pipeline/reference_data.ipynb gene_annotation \\\n",
      "        --cwd /mnt/mfs/statgen/xqtl_workflow_testing/phenotype_master_control/reference_data \\\n",
      "        --ercc-gtf /mnt/mfs/statgen/xqtl_workflow_testing/phenotype_master_control/reference_data/ERCC92.gtf \\\n",
      "        --hg-gtf /mnt/mfs/statgen/xqtl_workflow_testing/phenotype_master_control/reference_data/Homo_sapiens.GRCh38.103.chr.gtf \\\n",
      "        --hg-reference /mnt/mfs/statgen/xqtl_workflow_testing/phenotype_master_control/reference_data/GRCh38_full_analysis_set_plus_decoy_hla /mnt/mfs/statgen/xqtl_workflow_testing/phenotype_master_control/reference_data/Homo_sapiens.GRCh38.103.chr /mnt/mfs/statgen/xqtl_workflow_testing/phenotype_master_control/reference_data/ERCC92 /mnt/mfs/statgen/xqtl_workflow_testing/phenotype_master_control/reference_data/ERCC92.noALT_noHLA_noDecoy_ERCC.fasta \\\n",
      "        --container /mnt/mfs/statgen/containers/rna_quantification.sif \\\n",
      "        --stranded  -J 50 -c csg.yml -q csg,q\n",
      "\n",
      "\n",
      "\n",
      "sos run /home/hs3163/GIT/xqtl-pipeline/pipeline/reference_data.ipynb STAR_index RSEM_index \\\n",
      "    --cwd /mnt/mfs/statgen/xqtl_workflow_testing/phenotype_master_control/reference_data \\\n",
      "    --hg-reference /mnt/mfs/statgen/xqtl_workflow_testing/phenotype_master_control/reference_data/GRCh38_full_analysis_set_plus_decoy_hla /mnt/mfs/statgen/xqtl_workflow_testing/phenotype_master_control/reference_data/Homo_sapiens.GRCh38.103.chr /mnt/mfs/statgen/xqtl_workflow_testing/phenotype_master_control/reference_data/ERCC92 /mnt/mfs/statgen/xqtl_workflow_testing/phenotype_master_control/reference_data/ERCC92.noALT_noHLA_noDecoy_ERCC.fasta \\\n",
      "    --hg-gtf /mnt/mfs/statgen/xqtl_workflow_testing/phenotype_master_control/reference_data/Homo_sapiens.GRCh38.103.chr.reformatted..collapse_only.gene.ERCC.gtf \\\n",
      "    --container /mnt/mfs/statgen/containers/rna_quantification.sif \\\n",
      "    --mem 40G -J 50 -c csg.yml -q csg,q\n",
      "\n",
      "\n",
      "\n",
      "sos run  /home/hs3163/GIT/xqtl-pipeline/pipeline/RNA_calling.ipynb rnaseqc_call \\\n",
      "    --cwd ./ \\\n",
      "    --samples  AC_sample_fastq.list \\\n",
      "    --data-dir /mnt/mfs/statgen/xqtl_workflow_testing/rna_quant/rna_expression/ \\\n",
      "    --fasta_with_adapters_etc TruSeq3-PE.fa  \\\n",
      "    --STAR-index /mnt/mfs/statgen/xqtl_workflow_testing/phenotype_master_control/reference_data/STAR_Index \\\n",
      "    --gtf /mnt/mfs/statgen/xqtl_workflow_testing/phenotype_master_control/reference_data/Homo_sapiens.GRCh38.103.chr.reformatted..collapse_only.gene.ERCC.gtf \\\n",
      "    --container /mnt/mfs/statgen/containers/rna_quantification.sif \\\n",
      "    --mem 40G -J 50 -c csg.yml -q csg,q\n",
      "\n",
      "\n",
      "\n",
      "sos run  /home/hs3163/GIT/xqtl-pipeline/pipeline/RNA_calling.ipynb rnaseqc_call \\\n",
      "    --cwd ./ \\\n",
      "    --samples  DLPFC_sample_fastq.list \\\n",
      "    --data-dir /mnt/mfs/statgen/xqtl_workflow_testing/rna_quant/rna_expression/ \\\n",
      "    --fasta_with_adapters_etc TruSeq3-PE.fa  \\\n",
      "    --STAR-index /mnt/mfs/statgen/xqtl_workflow_testing/phenotype_master_control/reference_data/STAR_Index \\\n",
      "    --gtf /mnt/mfs/statgen/xqtl_workflow_testing/phenotype_master_control/reference_data/Homo_sapiens.GRCh38.103.chr.reformatted..collapse_only.gene.ERCC.gtf \\\n",
      "    --container /mnt/mfs/statgen/containers/rna_quantification.sif \\\n",
      "    --mem 40G -J 50 -c csg.yml -q csg,q\n",
      "\n",
      "\n",
      "\n",
      "sos run  /home/hs3163/GIT/xqtl-pipeline/pipeline/RNA_calling.ipynb rnaseqc_call \\\n",
      "    --cwd ./ \\\n",
      "    --samples  PCC_sample_fastq \\\n",
      "    --data-dir /mnt/mfs/statgen/xqtl_workflow_testing/rna_quant/rna_expression/ \\\n",
      "    --fasta_with_adapters_etc TruSeq3-PE.fa  \\\n",
      "    --STAR-index /mnt/mfs/statgen/xqtl_workflow_testing/phenotype_master_control/reference_data/STAR_Index \\\n",
      "    --gtf /mnt/mfs/statgen/xqtl_workflow_testing/phenotype_master_control/reference_data/Homo_sapiens.GRCh38.103.chr.reformatted..collapse_only.gene.ERCC.gtf \\\n",
      "    --container /mnt/mfs/statgen/containers/rna_quantification.sif \\\n",
      "    --mem 40G -J 50 -c csg.yml -q csg,q\n",
      "\n",
      "\n",
      "\n",
      "sos run /home/hs3163/GIT/xqtl-pipeline/pipeline/RNA_calling.ipynb rnaseqc_call \\\n",
      "    --cwd ./ \\\n",
      "    --samples  AC_sample_fastq.list \\\n",
      "    --data-dir /mnt/mfs/statgen/xqtl_workflow_testing/rna_quant/rna_expression/ \\\n",
      "    --fasta_with_adapters_etc TruSeq3-PE.fa  \\\n",
      "    --STAR-index /mnt/mfs/statgen/xqtl_workflow_testing/phenotype_master_control/reference_data/STAR_Index \\\n",
      "    --RSEM-index /mnt/mfs/statgen/xqtl_workflow_testing/phenotype_master_control/reference_data/RSEM_Index \\\n",
      "    --container /mnt/mfs/statgen/containers/rna_quantification.sif \\ \n",
      "    --mem 40G \\\n",
      "    --is_paired_end -J 50 -c csg.yml -q csg,q\n",
      "\n",
      "\n",
      "\n",
      "sos run /home/hs3163/GIT/xqtl-pipeline/pipeline/RNA_calling.ipynb rnaseqc_call \\\n",
      "    --cwd ./ \\\n",
      "    --samples  DLPFC_sample_fastq.list \\\n",
      "    --data-dir /mnt/mfs/statgen/xqtl_workflow_testing/rna_quant/rna_expression/ \\\n",
      "    --fasta_with_adapters_etc TruSeq3-PE.fa  \\\n",
      "    --STAR-index /mnt/mfs/statgen/xqtl_workflow_testing/phenotype_master_control/reference_data/STAR_Index \\\n",
      "    --RSEM-index /mnt/mfs/statgen/xqtl_workflow_testing/phenotype_master_control/reference_data/RSEM_Index \\\n",
      "    --container /mnt/mfs/statgen/containers/rna_quantification.sif \\ \n",
      "    --mem 40G \\\n",
      "    --is_paired_end -J 50 -c csg.yml -q csg,q\n",
      "\n",
      "\n",
      "\n",
      "sos run /home/hs3163/GIT/xqtl-pipeline/pipeline/RNA_calling.ipynb rnaseqc_call \\\n",
      "    --cwd ./ \\\n",
      "    --samples  PCC_sample_fastq \\\n",
      "    --data-dir /mnt/mfs/statgen/xqtl_workflow_testing/rna_quant/rna_expression/ \\\n",
      "    --fasta_with_adapters_etc TruSeq3-PE.fa  \\\n",
      "    --STAR-index /mnt/mfs/statgen/xqtl_workflow_testing/phenotype_master_control/reference_data/STAR_Index \\\n",
      "    --RSEM-index /mnt/mfs/statgen/xqtl_workflow_testing/phenotype_master_control/reference_data/RSEM_Index \\\n",
      "    --container /mnt/mfs/statgen/containers/rna_quantification.sif \\ \n",
      "    --mem 40G \\\n",
      "    --is_paired_end -J 50 -c csg.yml -q csg,q\n",
      "\n",
      "\n",
      "\n",
      "sos run /home/hs3163/GIT/xqtl-pipeline/pipeline/bulk_expression_QC.ipynb qc \\\n",
      "    --cwd . \\\n",
      "    --tpm-gct AC.rnaseqc.gene_tpm.gct.gz \\\n",
      "    --counts-gct  AC.rnaseqc.gene_readsCount.gct.gz \\\n",
      "    --low_expr_TPM 0.1  \\\n",
      "    --low_expr_TPM_percent 0.2 \\\n",
      "    --RLEFilterPercent 0.05 \\\n",
      "    --DSFilterPercent 0.05 \\\n",
      "    --topk_genes 100 \\\n",
      "    --cluster_percent 0.6 \\\n",
      "    --pvalues_cut 0.05 \\\n",
      "    --cluster_level 5 \\\n",
      "    --container /mnt/mfs/statgen/containers/rna_quantification.sif -J 50 -c csg.yml -q csg,q\n",
      "\n",
      "\n",
      "\n",
      "sos run /home/hs3163/GIT/xqtl-pipeline/pipeline/bulk_expression_QC.ipynb qc \\\n",
      "    --cwd . \\\n",
      "    --tpm-gct DLPFC.rnaseqc.gene_tpm.gct.gz \\\n",
      "    --counts-gct  DLPFC.rnaseqc.gene_readsCount.gct.gz \\\n",
      "    --low_expr_TPM 0.1  \\\n",
      "    --low_expr_TPM_percent 0.2 \\\n",
      "    --RLEFilterPercent 0.05 \\\n",
      "    --DSFilterPercent 0.05 \\\n",
      "    --topk_genes 100 \\\n",
      "    --cluster_percent 0.6 \\\n",
      "    --pvalues_cut 0.05 \\\n",
      "    --cluster_level 5 \\\n",
      "    --container /mnt/mfs/statgen/containers/rna_quantification.sif -J 50 -c csg.yml -q csg,q\n",
      "\n",
      "\n",
      "\n",
      "sos run /home/hs3163/GIT/xqtl-pipeline/pipeline/bulk_expression_QC.ipynb qc \\\n",
      "    --cwd . \\\n",
      "    --tpm-gct PCC.rnaseqc.gene_tpm.gct.gz \\\n",
      "    --counts-gct  PCC.rnaseqc.gene_readsCount.gct.gz \\\n",
      "    --low_expr_TPM 0.1  \\\n",
      "    --low_expr_TPM_percent 0.2 \\\n",
      "    --RLEFilterPercent 0.05 \\\n",
      "    --DSFilterPercent 0.05 \\\n",
      "    --topk_genes 100 \\\n",
      "    --cluster_percent 0.6 \\\n",
      "    --pvalues_cut 0.05 \\\n",
      "    --cluster_level 5 \\\n",
      "    --container /mnt/mfs/statgen/containers/rna_quantification.sif -J 50 -c csg.yml -q csg,q\n",
      "\n",
      "\n",
      "\n",
      "sos run /home/hs3163/GIT/xqtl-pipeline/pipeline/bulk_expression_normalization.ipynb normalize \\\n",
      "    --cwd /mnt/mfs/statgen/xqtl_workflow_testing/phenotype_master_control \\\n",
      "    --tpm-gct AC.rnaseqc.low_expression_filtered.outlier_removed.tpm.gct.gz \\\n",
      "    --counts-gct AC.rnaseqc.low_expression_filtered.outlier_removed.geneCount.gct.gz \\\n",
      "    --annotation-gtf  /mnt/mfs/statgen/xqtl_workflow_testing/phenotype_master_control/reference_data/Homo_sapiens.GRCh38.103.chr.reformatted..collapse_only.gene.ERCC.gtf  \\\n",
      "    --sample-participant-lookup /mnt/mfs/statgen/snuc_pseudo_bulk/data/reference_data/sampleSheetAfterQC.txt \\\n",
      "    --container /mnt/mfs/statgen/containers/rna_quantification.sif  \\\n",
      "    --tpm_threshold 0.1 \\\n",
      "    --count_threshold 6  \\\n",
      "    --sample_frac_threshold 0.2 \\\n",
      "    --normalization_method tmm  -J 50 -c csg.yml -q csg,q\n",
      "\n",
      "\n",
      "\n",
      "sos run /home/hs3163/GIT/xqtl-pipeline/pipeline/bulk_expression_normalization.ipynb normalize \\\n",
      "    --cwd /mnt/mfs/statgen/xqtl_workflow_testing/phenotype_master_control \\\n",
      "    --tpm-gct DLPFC.rnaseqc.low_expression_filtered.outlier_removed.tpm.gct.gz \\\n",
      "    --counts-gct DLPFC.rnaseqc.low_expression_filtered.outlier_removed.geneCount.gct.gz \\\n",
      "    --annotation-gtf  /mnt/mfs/statgen/xqtl_workflow_testing/phenotype_master_control/reference_data/Homo_sapiens.GRCh38.103.chr.reformatted..collapse_only.gene.ERCC.gtf  \\\n",
      "    --sample-participant-lookup /mnt/mfs/statgen/snuc_pseudo_bulk/data/reference_data/sampleSheetAfterQC.txt \\\n",
      "    --container /mnt/mfs/statgen/containers/rna_quantification.sif  \\\n",
      "    --tpm_threshold 0.1 \\\n",
      "    --count_threshold 6  \\\n",
      "    --sample_frac_threshold 0.2 \\\n",
      "    --normalization_method tmm  -J 50 -c csg.yml -q csg,q\n",
      "\n",
      "\n",
      "\n",
      "sos run /home/hs3163/GIT/xqtl-pipeline/pipeline/bulk_expression_normalization.ipynb normalize \\\n",
      "    --cwd /mnt/mfs/statgen/xqtl_workflow_testing/phenotype_master_control \\\n",
      "    --tpm-gct PCC.rnaseqc.low_expression_filtered.outlier_removed.tpm.gct.gz \\\n",
      "    --counts-gct PCC.rnaseqc.low_expression_filtered.outlier_removed.geneCount.gct.gz \\\n",
      "    --annotation-gtf  /mnt/mfs/statgen/xqtl_workflow_testing/phenotype_master_control/reference_data/Homo_sapiens.GRCh38.103.chr.reformatted..collapse_only.gene.ERCC.gtf  \\\n",
      "    --sample-participant-lookup /mnt/mfs/statgen/snuc_pseudo_bulk/data/reference_data/sampleSheetAfterQC.txt \\\n",
      "    --container /mnt/mfs/statgen/containers/rna_quantification.sif  \\\n",
      "    --tpm_threshold 0.1 \\\n",
      "    --count_threshold 6  \\\n",
      "    --sample_frac_threshold 0.2 \\\n",
      "    --normalization_method tmm  -J 50 -c csg.yml -q csg,q\n",
      "\n",
      "\n",
      "\n"
     ]
    }
   ],
   "source": [
    "cd /mnt/mfs/statgen/xqtl_workflow_testing/phenotype_master_control\n",
    "cat example_script | grep -v HINT"
   ]
  },
  {
   "cell_type": "markdown",
   "id": "graduate-chicago",
   "metadata": {
    "kernel": "SoS"
   },
   "source": [
    "## Download, Process, and index reference data (first time use)"
   ]
  },
  {
   "cell_type": "markdown",
   "id": "bbb2f3ce-097e-4e84-bf1f-3a37501529d4",
   "metadata": {
    "kernel": "SoS"
   },
   "source": [
    "### Download reference and annotation data (first time use)"
   ]
  },
  {
   "cell_type": "code",
   "execution_count": null,
   "id": "caring-seeking",
   "metadata": {
    "kernel": "SoS",
    "tags": []
   },
   "outputs": [],
   "source": [
    "[ref_data_1]\n",
    "output: f'{refd:a}/GRCh38_full_analysis_set_plus_decoy_hla.fa',\n",
    "        f\"{refd:a}/Homo_sapiens.GRCh38.103.chr.gtf\",\n",
    "        f\"{refd:a}/ERCC92.gtf\", f\"{refd:a}/ERCC92.fa\"\n",
    "report:  expand = \"$[ ]\", stderr = f'{_output}.stderr', stdout = f'{_output}.stdout'\n",
    "        sos run $[exe_dir]/pipeline/reference_data.ipynb download_hg_reference --cwd $[_output[0]:d]\n",
    "        sos run $[exe_dir]/pipeline/reference_data.ipynb download_gene_annotation --cwd $[_output[0]:d]\n",
    "        sos run $[exe_dir]/pipeline/reference_data.ipynb download_ercc_reference --cwd $[_output[0]:d]"
   ]
  },
  {
   "cell_type": "markdown",
   "id": "judicial-header",
   "metadata": {
    "kernel": "Bash"
   },
   "source": [
    "### Reformat reference and annotation data (first time use)"
   ]
  },
  {
   "cell_type": "code",
   "execution_count": null,
   "id": "conscious-provincial",
   "metadata": {
    "kernel": "SoS",
    "tags": []
   },
   "outputs": [],
   "source": [
    "[ref_data_2]\n",
    "output:  f'{_input:n}.noALT_noHLA_noDecoy_ERCC.fasta',f'{_input:bn}.noALT_noHLA_noDecoy_ERCC.dict'\n",
    "report:  expand = \"$[ ]\", stderr = f'{_output[0]}.stderr', stdout = f'{_output[0]}.stdout'\n",
    "        sos run $[exe_dir]/reference_data.ipynb hg_reference \\\n",
    "            --cwd $[_output[0]:d] \\\n",
    "            --ercc-reference $[_input[3]] \\\n",
    "            --hg-reference $[_input[1]] \\\n",
    "            --container $[container_rnaquant]"
   ]
  },
  {
   "cell_type": "code",
   "execution_count": null,
   "id": "27df42af-a2ef-48f8-9176-edf5294e69e2",
   "metadata": {
    "kernel": "Bash"
   },
   "outputs": [],
   "source": [
    "**Notice: you need to know if your RNA-seq data is stranded or unstranded. If it is stranded, you should add `--stranded` to the command below.**"
   ]
  },
  {
   "cell_type": "code",
   "execution_count": null,
   "id": "1ecc25b5-7dea-4c6a-81d4-6583068f956e",
   "metadata": {
    "kernel": "SoS",
    "tags": []
   },
   "outputs": [],
   "source": [
    "[gene_annotation]\n",
    "parameter: stranded = bool\n",
    "input: output_from(\"ref_data_1\"),output_from(\"ref_data_2\")[0]\n",
    "output: f'{_input[1]:n}.reformatted.ERCC.gtf', f'{_input[1]:n}.reformatted{\".collapse_only\" if stranded else \"\"}.gene.ERCC.gtf'\n",
    "report:  expand = \"$[ ]\", stderr = f'{_output[0]}.stderr', stdout = f'{_output[0]}.stdout'\n",
    "    sos run $[exe_dir]/reference_data.ipynb gene_annotation \\\n",
    "            --cwd $[_output[0]:d] \\\n",
    "            --ercc-gtf $[_input[2]] \\\n",
    "            --hg-gtf $[_input[1]] \\\n",
    "            --hg-reference $[_input[4]] \\\n",
    "            --container $[container_rnaquant] \\\n",
    "            $[\"--stranded\" if stranded else \"--no-stranded\"]  $[submission if yml.is_file() else \"\" ]"
   ]
  },
  {
   "cell_type": "markdown",
   "id": "constitutional-naples",
   "metadata": {
    "kernel": "Bash"
   },
   "source": [
    "### Generation of Index (First time only)"
   ]
  },
  {
   "cell_type": "code",
   "execution_count": null,
   "id": "artificial-ebony",
   "metadata": {
    "kernel": "SoS",
    "tags": []
   },
   "outputs": [],
   "source": [
    "[indexing]\n",
    "input: output_from(\"gene_annotation\")[1],output_from(\"ref_data_2\")[0]\n",
    "output: f\"{refd:a}/RSEM_Index/rsem_reference.n2g.idx.fa\", \n",
    "        f\"{refd:a}/RSEM_Index/rsem_reference.grp\", \n",
    "        f\"{refd:a}/RSEM_Index/rsem_reference.idx.fa\",\n",
    "        f\"{refd:a}/RSEM_Index/rsem_reference.ti\", \n",
    "        f\"{refd:a}/RSEM_Index/rsem_reference.chrlist\",\n",
    "        f\"{refd:a}/RSEM_Index/rsem_reference.seq\", \n",
    "        f\"{refd:a}/RSEM_Index/rsem_reference.transcripts.fa\",\n",
    "        f\"{refd:a}/STAR_Index/chrName.txt\",\n",
    "        f\"{refd:a}/STAR_Index/Log.out\", \n",
    "        f\"{refd:a}/STAR_Index/transcriptInfo.tab\",\n",
    "        f\"{refd:a}/STAR_Index/exonGeTrInfo.tab\", \n",
    "        f\"{refd:a}/STAR_Index/SAindex\",\n",
    "        f\"{refd:a}/STAR_Index/SA\",\n",
    "        f\"{refd:a}/STAR_Index/genomeParameters.txt\", \n",
    "        f\"{refd:a}/STAR_Index/chrStart.txt\",\n",
    "        f\"{refd:a}/STAR_Index/sjdbList.out.tab\", \n",
    "        f\"{refd:a}/STAR_Index/exonInfo.tab\",\n",
    "        f\"{refd:a}/STAR_Index/sjdbList.fromGTF.out.tab\", \n",
    "        f\"{refd:a}/STAR_Index/chrLength.txt\",\n",
    "        f\"{refd:a}/STAR_Index/sjdbInfo.txt\", \n",
    "        f\"{refd:a}/STAR_Index/Genome\",\n",
    "        f\"{refd:a}/STAR_Index/chrNameLength.txt\", \n",
    "        f\"{refd:a}/STAR_Index/geneInfo.tab\"\n",
    "report:  expand = \"$[ ]\", stderr = f'{_output[0]}.stderr', stdout = f'{_output[0]}.stdout'\n",
    "        sos run $[exe_dir]/reference_data.ipynb STAR_index RSEM_index \\\n",
    "            --cwd $[refd:a] \\\n",
    "            --hg-reference $[_input[1]] \\\n",
    "            --hg-gtf $[_input[0]] \\\n",
    "            --container $[container_rnaquant] \\\n",
    "            --mem 40G $[submission if yml.is_file() else \"\" ]"
   ]
  },
  {
   "cell_type": "markdown",
   "id": "significant-lodge",
   "metadata": {
    "kernel": "Bash"
   },
   "source": [
    "## Perform data quality summary via `fastqc`\n",
    "\n",
    "**You need to figure out from fastqc results what adapter reference sequence to use for `--fasta_with_adapters_etc`. See section Step 1 below for details**. We chose `--fasta_with_adapters_etc TruSeq3-PE.fa` for our toy example.\n",
    "\n",
    "* `fasta_with_adapters_etc`: **filename** for the adapter reference file. According to `Trimmomatic` documention,\n",
    "\n",
    "> As a rule of thumb newer libraries will use `TruSeq3`, but this really depends on your service provider. If you use FASTQC, the \"Overrepresented Sequences\" report can help indicate which adapter file is best suited for your data. \"Illumina Single End\" or \"Illumina Paired End\" sequences indicate single-end or paired-end `TruSeq2` libraries, and the appropriate adapter files are `TruSeq2-SE.fa` and `TruSeq2-PE.fa` respectively. \"TruSeq Universal Adapter\" or \"TruSeq Adapter, Index …\" indicates `TruSeq-3` libraries, and the appropriate adapter files are `TruSeq3-SE.fa` or `TruSeq3-PE.fa`, for single-end and paired-end data respectively. Adapter sequences for `TruSeq2` multiplexed libraries, indicated by \"Illumina Multiplexing \n",
    "…\", and the various RNA library preparations are not currently included.\n",
    "\n",
    "We have `fastqc` workflow defined as followed. Users should decide what fasta adapter reference to use based on `fastqc` results (or their own knowledge).\n",
    "It is assumed that all studies that were ran in one run are using the same adapter file\n",
    "\n",
    "\n"
   ]
  },
  {
   "cell_type": "code",
   "execution_count": null,
   "id": "d7113a92-d031-4c0b-b419-198db0413cd5",
   "metadata": {
    "kernel": "SoS",
    "tags": []
   },
   "outputs": [],
   "source": [
    "[fastqc]\n",
    "input: for_each = \"input_inv\"\n",
    "report:  expand = \"$[ ]\"\n",
    "    sos run $[exe_dir]/RNA_calling.ipynb fastqc \\\n",
    "        --cwd $[cwd:a]/output/rnaseq/fastqc/ \\\n",
    "        --samples $[_input_inv['Sample_fastq_list']] \\\n",
    "        --data-dir $[_input_inv['Data_dir']]   \\\n",
    "        --container $[container_rnaquant] $[submission if yml.is_file() else \"\" ]"
   ]
  },
  {
   "cell_type": "markdown",
   "id": "f23af610-1453-4c2f-9bbb-5ac8da7b390d",
   "metadata": {
    "kernel": "Bash"
   },
   "source": [
    "## Multi-sample RNA-seq Calling, QC, and normalizations (Automatically for every studies using the same set of ref/index/gtf)"
   ]
  },
  {
   "cell_type": "markdown",
   "id": "decent-monroe",
   "metadata": {
    "kernel": "Bash"
   },
   "source": [
    "### Call gene-level RNA expression via `rnaseqc`"
   ]
  },
  {
   "cell_type": "code",
   "execution_count": null,
   "id": "angry-sheffield",
   "metadata": {
    "kernel": "SoS",
    "tags": []
   },
   "outputs": [],
   "source": [
    "[rnaseqc]\n",
    "parameter:fasta_with_adapters_etc = \"TruSeq3-PE.fa\"\n",
    "input:  output_from(\"gene_annotation\")[-1],output_from(\"indexing\")[-1],for_each = \"input_inv\"\n",
    "output: f'{cwd}/{_input_inv[\"Theme\"]}.rnaseqc.gene_tpm.gct.gz',\n",
    "        f'{cwd}/{_input_inv[\"Theme\"]}.rnaseqc.gene_readsCount.gct.gz',\n",
    "        f'{cwd}/{_input_inv[\"Theme\"]}.rnaseqc.exon_readsCount.gct.gz',\n",
    "        f'{cwd}/{_input_inv[\"Theme\"]}.rnaseqc.metrics.tsv'\n",
    "report:  expand = \"$[ ]\", stderr = f'{_output[0]}.stderr', stdout = f'{_output[0]}.stdout'\n",
    "        sos run  $[exe_dir]/RNA_calling.ipynb rnaseqc_call \\\n",
    "            --cwd $[_output[0]:d]/ \\\n",
    "            --samples  $[_input_inv['Sample_fastq_list']] \\\n",
    "            --data-dir $[_input_inv['Data_dir']] \\\n",
    "            --fasta_with_adapters_etc $[fasta_with_adapters_etc]  \\\n",
    "            --STAR-index $[_input[1]:d] \\\n",
    "            --gtf $[_input[0]] \\\n",
    "            --container $[container_rnaquant] \\\n",
    "            --mem 40G $[submission if yml.is_file() else \"\" ]"
   ]
  },
  {
   "cell_type": "markdown",
   "id": "scenic-ensemble",
   "metadata": {
    "kernel": "Bash"
   },
   "source": [
    "### Call transcript level RNA expression via `RSEM`"
   ]
  },
  {
   "cell_type": "code",
   "execution_count": null,
   "id": "everyday-mountain",
   "metadata": {
    "kernel": "SoS",
    "tags": []
   },
   "outputs": [],
   "source": [
    "[RSEM]\n",
    "parameter:fasta_with_adapters_etc = \"TruSeq3-PE.fa\"\n",
    "parameter: paired_end = bool\n",
    "input:  output_from(\"indexing\")[0],output_from(\"indexing\")[-1],for_each = \"input_inv\"\n",
    "output: f'{cwd}/{_input_inv[\"Theme\"]}.rsem_transcripts_expected_count.txt.gz',\n",
    "        f'{cwd}/{_input_inv[\"Theme\"]}.rsem_transcripts_tpm.txt.gz',\n",
    "        f'{cwd}/{_input_inv[\"Theme\"]}.rsem_transcripts_fpkm.txt.gz',\n",
    "        f'{cwd}/{_input_inv[\"Theme\"]}.rsem_transcripts_isopct.txt.gz',\n",
    "        f'{cwd}/{_input_inv[\"Theme\"]}.rsem_genes_expected_count.txt.gz',\n",
    "        f'{cwd}/{_input_inv[\"Theme\"]}.rsem_genes_tpm.txt.gz',\n",
    "        f'{cwd}/{_input_inv[\"Theme\"]}.rsem_genes_fpkm.txt.gz'\n",
    "report:  expand = \"$[ ]\", stderr = f'{_output[0]}.stderr', stdout = f'{_output[0]}.stdout'\n",
    "        sos run $[exe_dir]/RNA_calling.ipynb rnaseqc_call \\\n",
    "            --cwd $[_output[0]:d]/ \\\n",
    "            --samples  $[_input_inv['Sample_fastq_list']] \\\n",
    "            --data-dir $[_input_inv['Data_dir']] \\\n",
    "            --fasta_with_adapters_etc $[fasta_with_adapters_etc]  \\\n",
    "            --STAR-index $[_input[1]:d] \\\n",
    "            --RSEM-index $[_input[0]:d] \\\n",
    "            --container $[container_rnaquant] \\ \n",
    "            --mem 40G \\\n",
    "            $[\"--paired_end\" if paired_end else \" \"] $[submission if yml.is_file() else \"\" ]"
   ]
  },
  {
   "cell_type": "markdown",
   "id": "little-circulation",
   "metadata": {
    "kernel": "Bash"
   },
   "source": [
    "## Multi-sample RNA-seq QC (For every set of samples)"
   ]
  },
  {
   "cell_type": "markdown",
   "id": "weekly-listening",
   "metadata": {
    "kernel": "Bash"
   },
   "source": [
    "We need to use a different MWE data-set that contains multiple samples -- here is the [Google Drive link](https://drive.google.com/drive/u/0/folders/1Rv2bWHBbX_tastTh49ToYVDMV6rFP5Wk)."
   ]
  },
  {
   "cell_type": "code",
   "execution_count": null,
   "id": "overhead-illness",
   "metadata": {
    "kernel": "SoS",
    "tags": []
   },
   "outputs": [],
   "source": [
    "[QC]\n",
    "parameter: low_expr_TPM = 0.1\n",
    "parameter: low_expr_TPM_percent = 0.2\n",
    "parameter: RLEFilterPercent = 0.05\n",
    "parameter: DSFilterPercent = 0.05\n",
    "parameter: topk_genes = 100\n",
    "parameter: cluster_percent = 0.6\n",
    "parameter: pvalues_cut = 0.05\n",
    "parameter: cluster_level = 5\n",
    "depends: output_from(\"RSEM\")\n",
    "input: output_from(\"rnaseqc\")\n",
    "output: f'{cwd}/{_input[0]:bnnn}.low_expression_filtered.outlier_removed.tpm.gct.gz', f'{cwd}/{_input[0]:bnnn}.low_expression_filtered.outlier_removed.geneCount.gct.gz'\n",
    "report:  expand = \"$[ ]\", stderr = f'{_output[0]}.stderr', stdout = f'{_output[0]}.stdout'\n",
    "    sos run $[exe_dir]/bulk_expression_QC.ipynb qc \\\n",
    "        --cwd $[_output[0]:d] \\\n",
    "        --tpm-gct $[_input[0]] \\\n",
    "        --counts-gct  $[_input[1]] \\\n",
    "        --low_expr_TPM $[low_expr_TPM]  \\\n",
    "        --low_expr_TPM_percent $[low_expr_TPM_percent] \\\n",
    "        --RLEFilterPercent $[RLEFilterPercent] \\\n",
    "        --DSFilterPercent $[DSFilterPercent] \\\n",
    "        --topk_genes $[topk_genes] \\\n",
    "        --cluster_percent $[cluster_percent] \\\n",
    "        --pvalues_cut $[pvalues_cut] \\\n",
    "        --cluster_level $[cluster_level] \\\n",
    "        --container $[container_rnaquant] $[submission if yml.is_file() else \"\" ]"
   ]
  },
  {
   "cell_type": "markdown",
   "id": "attached-oasis",
   "metadata": {
    "kernel": "Bash"
   },
   "source": [
    "## Multi-sample read count normalization (For every set of samples)"
   ]
  },
  {
   "cell_type": "code",
   "execution_count": null,
   "id": "awful-listening",
   "metadata": {
    "kernel": "SoS",
    "tags": []
   },
   "outputs": [],
   "source": [
    "[normalization]\n",
    "parameter: sample_participant_lookup = path\n",
    "parameter: tpm_threshold = 0.1\n",
    "parameter: count_threshold = 6\n",
    "parameter: sample_frac_threshold = 0.2\n",
    "parameter: normalization_method = 'tmm'\n",
    "input: output_from(\"QC\"),output_from(\"gene_annotation\")\n",
    "output: f'{cwd:a}/{_input[0]:bnnn}.{normalization_method}.expression.bed.gz'\n",
    "report:  expand = \"$[ ]\", stderr = f'{_output}.stderr', stdout = f'{_output}.stdout'\n",
    "    sos run $[exe_dir]/bulk_expression_normalization.ipynb normalize \\\n",
    "        --cwd $[_output:d] \\\n",
    "        --tpm-gct $[_input[0]] \\\n",
    "        --counts-gct $[_input[1]] \\\n",
    "        --annotation-gtf  $[_input[-1]]  \\\n",
    "        --sample-participant-lookup $[sample_participant_lookup] \\\n",
    "        --container $[container_rnaquant]  \\\n",
    "        --tpm_threshold $[tpm_threshold] \\\n",
    "        --count_threshold $[count_threshold]  \\\n",
    "        --sample_frac_threshold $[sample_frac_threshold] \\\n",
    "        --normalization_method $[normalization_method]  $[submission if yml.is_file() else \"\" ]"
   ]
  },
  {
   "cell_type": "code",
   "execution_count": null,
   "id": "48d0db7f-1049-473c-82e3-4609c4747631",
   "metadata": {
    "kernel": "Bash"
   },
   "outputs": [],
   "source": []
  }
 ],
 "metadata": {
  "kernelspec": {
   "display_name": "SoS",
   "language": "sos",
   "name": "sos"
  },
  "language_info": {
   "codemirror_mode": "sos",
   "file_extension": ".sos",
   "mimetype": "text/x-sos",
   "name": "sos",
   "nbconvert_exporter": "sos_notebook.converter.SoS_Exporter",
   "pygments_lexer": "sos"
  },
  "sos": {
   "kernels": [
    [
     "Bash",
     "bash",
     "Bash",
     "#E6EEFF",
     "shell"
    ],
    [
     "SoS",
     "sos",
     "",
     "",
     "sos"
    ]
   ],
   "version": "0.22.9"
  }
 },
 "nbformat": 4,
 "nbformat_minor": 5
}
