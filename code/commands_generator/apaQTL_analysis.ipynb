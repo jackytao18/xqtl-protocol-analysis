{
 "cells": [
  {
   "cell_type": "markdown",
   "id": "13c7bb78-8568-4739-8818-ffae4df312b4",
   "metadata": {
    "kernel": "SoS",
    "tags": []
   },
   "source": [
    "# APA QTL analysis\n",
    "\n",
    "This notebook aims to provide a master view of handling multiple apa QTL tasks for different project.\n",
    "\n",
    "## Aim\n",
    "*_on cluster only_ (calling in the batch format)\n",
    "\n",
    "This notebooks is designed to submit apa_calling tasks to the cluster in a easier way. Since `qsub` is used in this script. Please only call this tool when you are on the cluster. "
   ]
  },
  {
   "cell_type": "markdown",
   "id": "91562ffb-574d-4c99-93db-11df330746aa",
   "metadata": {
    "kernel": "SoS"
   },
   "source": [
    "## Pre-requiste \n",
    "Supposely you have runned the `UTR_reference` and `bam2tools` section in the apa_calling.ipynb \n",
    "\n",
    "You should have the folder structure like `/tissue_name/bacth_name/wig_files + flagstat_files` "
   ]
  },
  {
   "cell_type": "markdown",
   "id": "112820d1-d9cd-419c-8ff8-97c979e66402",
   "metadata": {
    "kernel": "SoS"
   },
   "source": [
    "## Input\n",
    "* tissue_dir : where your generated wig files and flagstat files stored\n",
    "* batch: the name of batches\n",
    "\n",
    "## Output\n",
    "This notebook is aimed to generate multiple shell scripts and submit them for each batch in each tissue.  \n",
    "It would generate the directory named `calling_scripts` under the batch directory.   \n",
    "The shell script and the log files would be stored in that location.  "
   ]
  },
  {
   "cell_type": "code",
   "execution_count": null,
   "id": "53934ffb-1431-4d8c-a4bb-bc821f55a1be",
   "metadata": {
    "kernel": "SoS"
   },
   "outputs": [],
   "source": [
    "# Generate multiple shell scripts\n",
    "[apa_1]\n",
    "task: trunk_workers = 1, trunk_size = 1, walltime = walltime, mem = mem, cores = ncore\n",
    "python3: expand = True\n",
    "    import os\n",
    "    if not os.path.exists(\"{tissue_dir}\"):\n",
    "        print(\"please check the tissue directory\")\n",
    "        exit(1)\n",
    "    for i in {batch}:\n",
    "        batch_dir = \"{tissue_dir}\".rstrip(\"/\") + \"/\" + i\n",
    "        if not os.path.exists(batch_dir):\n",
    "            print(\"please check the batch folder\" + i + \"under tissue directory\" + \"{tissue_dir}\")\n",
    "            exit(1)\n",
    "        script_dir = batch_dir + \"/calling_scripts\"\n",
    "        if not os.path.exists(script_dir):\n",
    "            os.makedirs(script_dir)\n",
    "        config_file = script_dir + \"/config.sh\"\n",
    "        dapars_file = script_dir + \"/dapars.sh\"\n",
    "        data = \"\"\n",
    "        data += \"#!/bin/sh\\n#$ -l h_rt=400:00:00\\n#$ -l h_vmem=4G\\n#$ -N job_submitter\\n#$ -cwd\\n#$ -S /bin/bash\\n#$ -q csg.q\\n\\n\"\n",
    "        data += \"export PATH=$HOME/miniconda3/bin:$PATH\\n\"\n",
    "        data += \"sos run /mnt/mfs/statgen/ls3751/github/xqtl-pipeline/code/molecular_phenotypes/calling/apa_calling.ipynb APAconfig --cwd \" + \\\n",
    "                 batch_dir + \" --bfile \" + batch_dir + \" --annotation \" + \"{annotation}\" + \\\n",
    "                 \" --container  /mnt/mfs/statgen/ls3751/container/dapars2_final.sif\" + \" -c /home/ls3751/project/ls3751/csgg.yml &> config.log\"\n",
    "        with open(config_file, 'w') as output:\n",
    "            output.write(data) \n",
    "        data2 = \"\"\n",
    "        data2 += \"#!/bin/sh\\n#$ -l h_rt=400:00:00\\n#$ -l h_vmem=64G\\n#$ -N job_submitter\\n#$ -cwd\\n#$ -S /bin/bash\\n#$ -q csg.q\\n\\n\"\n",
    "        data2 += \"export PATH=$HOME/miniconda3/bin:$PATH\\n\"\n",
    "        data2 += \"sos run /mnt/mfs/statgen/ls3751/github/xqtl-pipeline/code/molecular_phenotypes/calling/apa_calling.ipynb APAmain --cwd \" + \\\n",
    "                 batch_dir + \" --chrlist chr1 chr2 chr3 chr4 chr5 chr6 chr7 chr8 chr9 chr10 chr11 chr12 chr13 chr14 chr15 chr16 chr17 chr18 chr19 chr20 chr21 chr22 chrX chrY\" \\\n",
    "                 + \" --container  /mnt/mfs/statgen/ls3751/container/dapars2_final.sif\" + \" -c /home/ls3751/project/ls3751/csgg.yml &> calling.log\"\n",
    "        with open(dapars_file, 'w') as output2:\n",
    "            output2.write(data2)"
   ]
  },
  {
   "cell_type": "code",
   "execution_count": null,
   "id": "676dbcff-335e-47f4-8ce3-7018a437e54b",
   "metadata": {
    "kernel": "SoS"
   },
   "outputs": [],
   "source": [
    "# submit the task files to the cluster - config part\n",
    "[apa_2]\n",
    "task: trunk_workers = 1, trunk_size = 1, walltime = walltime, mem = mem, cores = ncore\n",
    "python3: expand = True\n",
    "    import os\n",
    "    for i in {batch}:\n",
    "        new_cmd = \"qsub\" + \" \" + \"{tissue_dir}\" + \"/\" + i + \"/calling_scripts/config.sh\"\n",
    "        os.system(new_cmd)"
   ]
  },
  {
   "cell_type": "code",
   "execution_count": null,
   "id": "905351c2-9f10-4e25-9da5-16780f5c7a1f",
   "metadata": {
    "kernel": "SoS"
   },
   "outputs": [],
   "source": [
    "# submit the task files to the cluster - dapars part\n",
    "[apa_3]\n",
    "task: trunk_workers = 1, trunk_size = 1, walltime = walltime, mem = mem, cores = ncore\n",
    "python: expand = True\n",
    "    import os\n",
    "    for i in {batch}:\n",
    "        new_cmd = \"qsub\" + \" \" + \"{tissue_dir}\" + \"/\" + i + \"/calling_scripts/dapars.sh\"\n",
    "        os.system(new_cmd)"
   ]
  }
 ],
 "metadata": {
  "kernelspec": {
   "display_name": "SoS",
   "language": "sos",
   "name": "sos"
  },
  "language_info": {
   "codemirror_mode": "sos",
   "file_extension": ".sos",
   "mimetype": "text/x-sos",
   "name": "sos",
   "nbconvert_exporter": "sos_notebook.converter.SoS_Exporter",
   "pygments_lexer": "sos"
  },
  "sos": {
   "kernels": [
    [
     "SoS",
     "sos",
     "",
     ""
    ]
   ],
   "version": "0.22.7"
  }
 },
 "nbformat": 4,
 "nbformat_minor": 5
}
