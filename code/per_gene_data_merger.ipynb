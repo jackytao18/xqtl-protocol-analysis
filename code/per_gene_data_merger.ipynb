{
 "cells": [
  {
   "cell_type": "markdown",
   "id": "b21f50c6-9c85-4cdc-8c73-45ff16dcd526",
   "metadata": {
    "kernel": "SoS",
    "tags": []
   },
   "source": [
    "## MWE\n",
    "MWE is uploaded in here:https://drive.google.com/drive/u/0/folders/1Ny3fzShONB-kfhvqcvnzL2VdyI1MC46J"
   ]
  },
  {
   "cell_type": "code",
   "execution_count": null,
   "id": "99b13a58-8eab-4319-93f0-594f9f429540",
   "metadata": {
    "kernel": "SoS"
   },
   "outputs": [],
   "source": [
    "sos run pipeline/per_gene_data_merger.ipynb data_merger \\\n",
    "--genoFile ./mwe.region_plink_files/plink_files_list.txt \\\n",
    "--cwd MWE/rds_per_gene/ \\\n",
    "--region-list MWE.region.list \\\n",
    "--phenoFile MWE.phenotype.list \\\n",
    "--covFile MWE.covar.list &"
   ]
  },
  {
   "cell_type": "code",
   "execution_count": null,
   "id": "b5d40343-a0e5-4d75-a754-9824a92320fe",
   "metadata": {
    "kernel": "SoS"
   },
   "outputs": [],
   "source": [
    "[global]\n",
    "parameter: genoFile = path\n",
    "parameter: phenoFile = path\n",
    "parameter: covFile = path\n",
    "parameter: region_list = path\n",
    "parameter: cwd = path\n",
    "parameter: name = \"demo\"\n",
    "import pandas as pd\n",
    "region_tbl = pd.read_csv(region_list,sep = \"\\t\")\n",
    "genoFile = pd.read_csv(genoFile,sep = \"\\t\",names = [\"gene_id\",\"path\"],header = 0).merge(region_tbl,on = \"gene_id\").to_dict(\"records\")\n",
    "\n",
    "# For cluster jobs, number commands to run per job\n",
    "parameter: job_size = 1\n",
    "# Wall clock time expected\n",
    "parameter: walltime = \"5h\"\n",
    "# Memory expected\n",
    "parameter: mem = \"16G\"\n",
    "# Number of threads\n",
    "parameter: numThreads = 1\n",
    "parameter: container = \"\""
   ]
  },
  {
   "cell_type": "code",
   "execution_count": null,
   "id": "c2fac71c-65a9-44a1-a47f-2993ba13239b",
   "metadata": {
    "kernel": "SoS"
   },
   "outputs": [],
   "source": [
    "[data_merger]\n",
    "parameter: max_L = 10\n",
    "# remove a variant if it has more than imiss missing individual data\n",
    "parameter: imiss = 1\n",
    "parameter: maf = 0\n",
    "input: phenoFile,covFile, for_each = \"genoFile\"\n",
    "output: f'{cwd:a}/{name}.{_genoFile[\"gene_id\"]}.rds'\n",
    "task: trunk_workers = 1, trunk_size = job_size, walltime = walltime, mem = mem, cores = numThreads\n",
    "R:  expand= \"${ }\", stderr = f'{_output:n}.stderr', stdout = f'{_output:n}.stdout',container = container\n",
    "    library(\"plink2R\")\n",
    "    library(\"dplyr\")\n",
    "    library(\"readr\")\n",
    "    library(\"purrr\")\n",
    "    ## Define function\n",
    "        compute_maf <- function(geno){\n",
    "      f <- mean(geno,na.rm = TRUE)/2\n",
    "      return(min(f, 1-f))\n",
    "    }\n",
    "\n",
    "    compute_missing <- function(geno){\n",
    "      miss <- sum(is.na(geno))/length(geno)\n",
    "      return(miss)\n",
    "    }\n",
    "    \n",
    "    mean_impute <- function(geno){\n",
    "      f <- apply(geno, 2, function(x) mean(x,na.rm = TRUE))\n",
    "      for (i in 1:length(f)) geno[,i][which(is.na(geno[,i]))] <- f[i]\n",
    "      return(geno)\n",
    "    }\n",
    "\n",
    "    is_zero_variance <- function(x) {\n",
    "      if (length(unique(x))==1) return(T)\n",
    "      else return(F)\n",
    "    }\n",
    "  \n",
    "    filter_X <- function(X, missing_rate_thresh, maf_thresh) {\n",
    "        rm_col <- which(apply(X, 2, compute_missing) > missing_rate_thresh)\n",
    "        if (length(rm_col)) X <- X[, -rm_col]\n",
    "        rm_col <- which(apply(X, 2, compute_maf) < maf_thresh)\n",
    "        if (length(rm_col)) X <- X[, -rm_col]\n",
    "        rm_col <- which(apply(X, 2, is_zero_variance))\n",
    "        if (length(rm_col)) X <- X[, -rm_col]\n",
    "        return(mean_impute(X))\n",
    "    }\n",
    "  \n",
    "    remove_covX = function(X,covar){\n",
    "    for ( i in 1:ncol(X) ) {\n",
    "        X[,i] = .lm.fit(x = cbind(1,covar), y = X[,i])$residuals\n",
    "        }\n",
    "     X = scale(X)\n",
    "    }\n",
    "    \n",
    "    read_gene_pheno = function(path){\n",
    "      arg = paste0(c(\"tabix -h \",path,\" ${_genoFile[\"#chr\"]}:${_genoFile[\"start\"]}-${_genoFile[\"start\"]+1}\"),collapse = \"\")\n",
    "      result = system(arg,intern = T)\n",
    "      output = read.table(text = result[2], sep = \"\\t\")\n",
    "      name = result[1]%>%stringr::str_split(\"\\t\")%>%unlist()\n",
    "      if(ncol(output) == 1) { output = matrix(,ncol = (length(name)))%>%as_tibble }\n",
    "      colnames(output) = name\n",
    "      return(output)\n",
    "      }\n",
    "    ## Data Loader\n",
    "    gene_id = \"${_genoFile[\"gene_id\"]}\"\n",
    "    ### Genotype\n",
    "    geno = read_plink(\"${path(_genoFile[\"path\"]):n}\")\n",
    "    X = filter_X(geno$bed,${imiss}, ${maf} )\n",
    "    ### Phenotype\n",
    "    phenotype_list = read_delim(\"${_input[0]}\",\"\\t\")\n",
    "    covar_list = read_delim(\"${_input[1]}\",\"\\t\")\n",
    "    covar_list = covar_list%>%mutate(covar = map(path, ~read_delim(.x,\"\\t\")%>%select(-`#id`)%>%na.omit%>%t()))\n",
    "    phenotype_list = inner_join(phenotype_list,covar_list, by = \"tissue\")\n",
    "    phenotype_list = phenotype_list%>%mutate(Y = map(path.x, ~read_gene_pheno(.x)%>%select(-c(`#chr`,start,end,gene_id))%>%t%>%as.matrix))%>%mutate(\n",
    "                                            #### Get residue for each of tissue, for the expression containing NA, the original NA matrix will be returned.\n",
    "                                                Y_resid = map2(Y,covar,~tryCatch(.lm.fit(x = cbind(1,.y), y = .x[rownames(.y),])$residuals%>%t%>%as_tibble,error = function(e) return(.x[rownames(.y),]%>%t%>%as_tibble))))\n",
    "    Y = phenotype_list%>%select(Y)%>%tidyr::unnest(Y)%>%t%>%as.matrix\n",
    "    Y_resid = phenotype_list%>%select(Y_resid)%>%tidyr::unnest(Y_resid)%>%t%>%as.matrix\n",
    "    colnames(Y_resid) = phenotype_list$tissue\n",
    "    X_list = phenotype_list%>%mutate( X_data = map(covar,~X[intersect(rownames(X),paste0(rownames(.x),\":\",rownames(.x))),]),   # Get only the intersect samples\n",
    "                                          X_resid = map2(X_data,covar,~remove_covX(X = .x, covar = .y)))%>%pull(X_resid)       # Remove covariate by tissues\n",
    "    list(X,\"X_resid\" = X_list$X_resid,Y ,Y_resid)%>%saveRDS(\"${_output}\")\n",
    "  "
   ]
  }
 ],
 "metadata": {
  "kernelspec": {
   "display_name": "SoS",
   "language": "sos",
   "name": "sos"
  },
  "language_info": {
   "codemirror_mode": "sos",
   "file_extension": ".sos",
   "mimetype": "text/x-sos",
   "name": "sos",
   "nbconvert_exporter": "sos_notebook.converter.SoS_Exporter",
   "pygments_lexer": "sos"
  },
  "sos": {
   "kernels": [
    [
     "SoS",
     "sos",
     "",
     ""
    ]
   ],
   "version": "0.22.6"
  }
 },
 "nbformat": 4,
 "nbformat_minor": 5
}
