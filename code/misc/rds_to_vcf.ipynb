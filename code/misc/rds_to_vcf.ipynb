{
 "cells": [
  {
   "cell_type": "markdown",
   "id": "responsible-acceptance",
   "metadata": {
    "kernel": "SoS",
    "tags": []
   },
   "source": [
    "# Summary statistics in VCF format\n",
    "\n",
    "modified from the create_vcf of mrcieu/gwasvcf package to transform the mash output matrixs from the rds format into a vcf file, with a effect size = to the coef and the se = 1, named as EF:SE.\n",
    "\n",
    "Input:\n",
    "a collection of gene-level rds file, each file is a matrix of mash output, with colnames = studies, rownames = snps, snps shall be in the form of chr:pos_alt_ref,\n",
    "A list of aforementioned MASH output\n",
    "\n",
    "output:\n",
    "A collection of gene-level vcf output:vcf file and corresponding index\n",
    "a list of aforementioned vcf\n",
    "\n",
    "Required R packages:\n",
    "   dplyr\n",
    "   readr\n",
    "   VariantAnnotation\n",
    "   \n",
    "\n",
    "The output format of this workflow is following this specification https://github.com/MRCIEU/gwas-vcf-specification, with each study stands for a column"
   ]
  },
  {
   "cell_type": "markdown",
   "id": "covered-thomson",
   "metadata": {
    "kernel": "SoS"
   },
   "source": [
    "## Sample output\n",
    "\n",
    "```\n",
    "##fileformat=VCFv4.2\n",
    "##fileDate=20220103\n",
    "##FORMAT=<ID=ES,Number=A,Type=Float,Description=\"Effect size estimate relative to the alternative allele\">\n",
    "##FORMAT=<ID=SE,Number=A,Type=Float,Description=\"Standard error of effect size estimate\">\n",
    "##contig=<ID=10>\n",
    "#CHROM\tPOS\tID\tREF\tALT\tQUAL\tFILTER\tINFO\tFORMAT\tAC\tDLPFC\tPCC\n",
    "10\t104559\t10:104559\tG\tA\t.\tPASS\t.\tES:SE\t-0.0526809:0.0305599\t0.0535111:0.0251836\t-0.0526809:0.0305599\n",
    "10\t107045\t10:107045\tT\tC\t.\tPASS\t.\tES:SE\t-0.0306955:0.0129309\t-0.168938:0.0440613\t-0.0306955:0.0129309\n",
    "10\t112455\t10:112455\tG\tA\t.\tPASS\t.\tES:SE\t-0.0533215:0.0290866\t-0.159363:0.071302\t-0.0533215:0.0290866\n",
    "10\t116387\t10:116387\tC\tA\t.\tPASS\t.\tES:SE\t0.0328615:0.0226517\t0.267323:0.0797036\t0.0328615:0.0226517\n",
    "```\n"
   ]
  },
  {
   "cell_type": "code",
   "execution_count": null,
   "id": "provincial-cache",
   "metadata": {
    "kernel": "SoS"
   },
   "outputs": [],
   "source": [
    "[global]\n",
    "import glob\n",
    "# single column file each line is the data filename\n",
    "parameter: analysis_units = path\n",
    "# Path to data directory\n",
    "parameter: data_dir = \"/\"\n",
    "# data file suffix\n",
    "parameter: data_suffix = \"\"\n",
    "# Path to work directory where output locates\n",
    "parameter: wd = path(\"./output\")\n",
    "# An identifier for your run of analysis\n",
    "parameter: name = \"\"\n",
    "\n",
    "regions = [x.replace(\"\\\"\", \"\" ).strip().split() for x in open(analysis_units).readlines() if x.strip() and not x.strip().startswith('#')]\n",
    "genes = regions\n",
    "# Containers that contains the necessary packages\n",
    "parameter: container = 'gaow/twas'\n"
   ]
  },
  {
   "cell_type": "code",
   "execution_count": null,
   "id": "ranking-evolution",
   "metadata": {
    "kernel": "SoS"
   },
   "outputs": [],
   "source": [
    "[rds_to_vcf_1]\n",
    "input: genes, group_by = 1\n",
    "output: vcf = f'{wd:a}/mash_vcf/{_input:bn}.vcf.bgz'\n",
    "task: trunk_workers = 1, walltime = '1h', trunk_size = 1, mem = '10G', cores = 1, tags = f'{_output:bn}'\n",
    "R: expand = '$[ ]', stdout = f\"{_output[0]:nn}.stdout\", stderr = f\"{_output[0]:nn}.stderr\"\n",
    "    library(\"dplyr\")\n",
    "    library(\"stringr\")\n",
    "    library(\"readr\")\n",
    "    library(\"purrr\")\n",
    "    ## Define a wrapper, modified from the gwasvcf packages, to create the vcf of needed.\n",
    "    \n",
    "        create_vcf = function (chrom, pos, nea, ea, snp = NULL, ea_af = NULL, effect = NULL, \n",
    "        se = NULL, pval = NULL, n = NULL, ncase = NULL, name = NULL) \n",
    "    {\n",
    "        stopifnot(length(chrom) == length(pos))\n",
    "        if (is.null(snp)) {\n",
    "            snp <- paste0(chrom, \":\", pos)\n",
    "        }\n",
    "        snp <- paste0(chrom, \":\", pos)\n",
    "        nsnp <- length(chrom)\n",
    "        gen <- list()\n",
    "        ## Setupt data content for each sample column\n",
    "        if (!is.null(ea_af)) \n",
    "            gen[[\"AF\"]] <- matrix(ea_af, nsnp)\n",
    "        if (!is.null(effect)) \n",
    "            gen[[\"ES\"]] <- matrix(effect, nsnp)\n",
    "        if (!is.null(se)) \n",
    "            gen[[\"SE\"]] <- matrix(se, nsnp)\n",
    "        if (!is.null(pval)) \n",
    "            gen[[\"LP\"]] <- matrix(-log10(pval), nsnp)\n",
    "        if (!is.null(n)) \n",
    "            gen[[\"SS\"]] <- matrix(n, nsnp)\n",
    "        if (!is.null(ncase)) \n",
    "            gen[[\"NC\"]] <- matrix(ncase, nsnp)\n",
    "        gen <- S4Vectors::SimpleList(gen)\n",
    "        \n",
    "      ## Setup snps info for the fix columns\n",
    "        gr <- GenomicRanges::GRanges(chrom, IRanges::IRanges(start = pos, \n",
    "            end = pos + pmax(nchar(nea), nchar(ea)) - 1, names = snp))\n",
    "      ## Setup meta informations\n",
    "         coldata <- S4Vectors::DataFrame(Studies = name, row.names = name)\n",
    "        hdr <- VariantAnnotation::VCFHeader(header = IRanges::DataFrameList(fileformat = S4Vectors::DataFrame(Value = \"VCFv4.2\", \n",
    "            row.names = \"fileformat\")), sample = name)\n",
    "        VariantAnnotation::geno(hdr) <- S4Vectors::DataFrame(Number = c(\"A\", \n",
    "            \"A\", \"A\", \"A\", \"A\", \"A\"), Type = c(\"Float\", \"Float\", \n",
    "            \"Float\", \"Float\", \"Float\", \"Float\"), Description = c(\"Effect size estimate relative to the alternative allele\", \n",
    "            \"Standard error of effect size estimate\", \"-log10 p-value for effect estimate\", \n",
    "            \"Alternate allele frequency in the association study\", \n",
    "            \"Sample size used to estimate genetic effect\", \"Number of cases used to estimate genetic effect\"), \n",
    "            row.names = c(\"ES\", \"SE\", \"LP\", \"AF\", \"SS\", \"NC\"))\n",
    "      ## Save only the meta information in the sample columns \n",
    "        VariantAnnotation::geno(hdr) <- subset(VariantAnnotation::geno(hdr), \n",
    "            rownames(VariantAnnotation::geno(hdr)) %in% names(gen))\n",
    "      ## Save VCF values\n",
    "        vcf <- VariantAnnotation::VCF(rowRanges = gr, colData = coldata, \n",
    "            exptData = list(header = hdr), geno = gen)\n",
    "        VariantAnnotation::alt(vcf) <- Biostrings::DNAStringSetList(as.list(ea))\n",
    "        VariantAnnotation::ref(vcf) <- Biostrings::DNAStringSet(nea)\n",
    "      ## Write fixed values\n",
    "        VariantAnnotation::fixed(vcf)$FILTER <- \"PASS\"\n",
    "            return(sort(vcf))\n",
    "        }\n",
    "  \n",
    "        input = readRDS($[_input:r])\n",
    "        input_effect = input$PosteriorMean\n",
    "        if(is.null(input$PosteriorSD)){\n",
    "           input$PosteriorSD = matrix(1,nrow = nrow(input_effect),ncol = ncol(input_effect) )\n",
    "          }\n",
    "        input_se = input$PosteriorSD\n",
    "        df = tibble(snps = input$snps)\n",
    "        df = df%>%mutate(    chr = map_dbl(snps,~str_remove(read.table(text = .x,sep = \":\",as.is = T)$V1, \"chr\")%>%as.numeric),\n",
    "                     pos_alt_ref = map_chr(snps,~read.table(text = .x,sep = \":\",as.is = TRUE)$V2),\n",
    "                     pos = map_dbl(pos_alt_ref,~read.table(text = .x,sep = \"_\",as.is = TRUE)$V1),\n",
    "                     alt = map_chr(pos_alt_ref,~read.table(text = .x,sep = \"_\",as.is = TRUE, colClass = \"character\")$V2),\n",
    "                     ref = map_chr(pos_alt_ref,~read.table(text = .x,sep = \"_\",as.is = TRUE, colClass = \"character\")$V3))\n",
    "    \n",
    "  \n",
    "        vcf = create_vcf(\n",
    "           chrom = df$chr,\n",
    "            pos = df$pos,\n",
    "            ea = df$alt,\n",
    "            nea = df$ref,\n",
    "            effect = input_effect ,\n",
    "            se =  input_se,\n",
    "            name = colnames(input_effect))\n",
    "    \n",
    "      VariantAnnotation::writeVcf(vcf,$[_output:nr],index = TRUE)\n",
    "        "
   ]
  },
  {
   "cell_type": "code",
   "execution_count": null,
   "id": "covered-finish",
   "metadata": {
    "kernel": "SoS"
   },
   "outputs": [],
   "source": [
    "[rds_to_vcf_2]\n",
    "input:  group_by = \"all\"\n",
    "output: vcf_list = f'{_input[0]:d}/vcf_output_list.txt'\n",
    "bash: expand = '${ }', stdout = f\"{_output[0]:nn}.stdout\", stderr = f\"{_output[0]:nn}.stderr\"\n",
    "        cd ${_input[0]:d}\n",
    "        ls *.vcf.bgz > ${_output}"
   ]
  },
  {
   "cell_type": "code",
   "execution_count": null,
   "id": "competitive-innocent",
   "metadata": {
    "kernel": "SoS"
   },
   "outputs": [],
   "source": []
  }
 ],
 "metadata": {
  "kernelspec": {
   "display_name": "SoS",
   "language": "sos",
   "name": "sos"
  },
  "language_info": {
   "codemirror_mode": "sos",
   "file_extension": ".sos",
   "mimetype": "text/x-sos",
   "name": "sos",
   "nbconvert_exporter": "sos_notebook.converter.SoS_Exporter",
   "pygments_lexer": "sos"
  },
  "sos": {
   "kernels": [
    [
     "SoS",
     "sos",
     "",
     ""
    ]
   ],
   "version": "0.22.6"
  }
 },
 "nbformat": 4,
 "nbformat_minor": 5
}
