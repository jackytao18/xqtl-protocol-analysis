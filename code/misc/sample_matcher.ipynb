{
 "cells": [
  {
   "cell_type": "markdown",
   "id": "4bb7f059-544c-4bdd-9993-74d877113b45",
   "metadata": {
    "kernel": "SoS",
    "tags": []
   },
   "source": [
    "# Sample Matcher\n",
    "This module trimmed phenotype/genotype files so that they only have what is in a sample_lookup list, as shown [in this ticket](https://github.com/cumc/xqtl-pipeline/issues/137)"
   ]
  },
  {
   "cell_type": "markdown",
   "id": "f9b8b10a-041a-4c24-8c51-93271b67ab80",
   "metadata": {
    "kernel": "SoS"
   },
   "source": [
    "## Input\n",
    "1. sample_lookup file\n",
    "\n",
    "    A tab delimated table wit two columns `sample_name_in_pheno(and cov), sample_name_in_geno` that takes only the OVERLAP between these data-set. This will also serve as a sample name matching file if sample names dont agree.\n",
    "    \n",
    "2. phenotype_file\n",
    "    \n",
    "    A gct like table, Output of bulk_expression_QC or external input before gene_annotation.\n",
    "    \n",
    "    Noted, for preping input to normalization, phenotype_trimming need to be run on geneCount and geneTPM each independently\n",
    "    \n",
    "3. genotype_file\n",
    "    \n",
    "    A plink file, as output of VCF_QC module\n",
    "\n",
    "## Output\n",
    "    \n",
    "1. A gct like phenoFile that is ready to be fed into Normalization/gene_annotation\n",
    "2. A plink genoFile that is ready to be fed into downstream analysis"
   ]
  },
  {
   "cell_type": "markdown",
   "id": "ffc02bd1-20a7-42c8-9440-93a9b94196cf",
   "metadata": {
    "kernel": "SoS"
   },
   "source": [
    "## MWE\n",
    "**FIXME:WIP**"
   ]
  },
  {
   "cell_type": "code",
   "execution_count": null,
   "id": "72b6f66b-8443-4e5c-adc1-720cc93a0926",
   "metadata": {
    "kernel": "SoS"
   },
   "outputs": [],
   "source": []
  },
  {
   "cell_type": "code",
   "execution_count": null,
   "id": "a126e009-81ad-4eba-af2c-28268d32c45e",
   "metadata": {
    "kernel": "SoS"
   },
   "outputs": [],
   "source": [
    "[global]\n",
    "# The output directory for generated files. MUST BE FULL PATH\n",
    "parameter: cwd = path(\"output\")\n",
    "# Input 1\n",
    "parameter: sample_participant_lookup = path\n",
    "# For cluster jobs, number commands to run per job\n",
    "parameter: job_size = 1\n",
    "# Wall clock time expected\n",
    "parameter: walltime = \"5h\"\n",
    "# Memory expected\n",
    "parameter: mem = \"16G\"\n",
    "# Number of threads\n",
    "parameter: numThreads = 8\n",
    "# Software container option\n",
    "parameter: container = \"\"\n",
    "parameter: name = \"\""
   ]
  },
  {
   "cell_type": "code",
   "execution_count": null,
   "id": "32240802-d3b2-4307-b751-ec6b3896a5c9",
   "metadata": {
    "kernel": "SoS"
   },
   "outputs": [],
   "source": [
    "[phenotype_trimming]\n",
    "# The molecular phenotype matrix\n",
    "parameter: phenoFile = path\n",
    "input: phenoFile,sample_participant_lookup\n",
    "output: f'{_input[0]:nn}.sample_matched.gct.gz'\n",
    "task: trunk_workers = 1, trunk_size = job_size, walltime = walltime, mem = mem, cores = numThreads, tags = f'{step_name}_{_output:bn}'\n",
    "R: expand = \"$[ ]\", stderr = f'{_output:nn}.stderr', stdout = f'{_output:nn}.stdout', container = container\n",
    "    library(\"dplyr\")\n",
    "    library(\"readr\")\n",
    "    phenoFile = read_delim($[_input[0]:ar], \"\\t\", col_names = T, comment = \"#\")\n",
    "    sample_lookup = read_delim($[_input[1]:ar], \"\\t\" ,col_names = T, comment = \"#\")\n",
    "    ## Make phenoFile consistant with sampleLookup, remove samples by select()\n",
    "    int = intersect(colnames(phenoFile),unlist(sample_lookup[,1]))\n",
    "    phenoFile_tmp = phenoFile%>%select(c(colnames(phenoFile)[1],all_of(int)))\n",
    "    ## Add 2 header lines, https://github.com/getzlab/rnaseqc/blob/286f99dfd4164d33014241dd4f3149da0cddf5bf/src/RNASeQC.cpp#L426\n",
    "    cat(paste(\"#1.2\\n#\", nrow(phenoFile_tmp), ncol(phenoFile_tmp) - 2, \"\\n\"), file=$[_output:nr], append=FALSE)\n",
    "    phenoFile_tmp%>%write_delim($[_output:nr],delim = \"\\t\",col_names = T, append = T)"
   ]
  },
  {
   "cell_type": "code",
   "execution_count": null,
   "id": "ec681265-d4ae-4d20-a5e1-c7b1e7ea8042",
   "metadata": {
    "kernel": "SoS"
   },
   "outputs": [],
   "source": [
    "[genotype_trimming]\n",
    "# The path to bed of plink trio\n",
    "parameter: genoFile = path\n",
    "input: genoFile, sample_participant_lookup\n",
    "output: f'{cwd}/{_input[0]:bn}.sample_filtered.bed'\n",
    "task: trunk_workers = 1, trunk_size = job_size, walltime = walltime, mem = mem, cores = numThreads, tags = f'{step_name}_{_output:bn}'\n",
    "bash:  expand= \"${ }\", stderr = f'{_output[0]:n}.stderr', stdout = f'{_output[0]:n}.stdout', container = container\n",
    "    paste ${_input[1]} ${_input[1]} | cut -f 2,4 > ${_input[1]}_geno\n",
    "    plink \\\n",
    "      --bfile ${_input[0]:n} \\\n",
    "      --keep ${_input[1]}_geno \\\n",
    "      --make-bed \\\n",
    "      --out ${_output:n} \\\n",
    "      --threads ${numThreads} \\\n",
    "      --memory ${int(expand_size(mem) * 0.9)/1e6}\n",
    "    rm ${_input[1]}_geno"
   ]
  },
  {
   "cell_type": "code",
   "execution_count": null,
   "id": "933fbdb7-fea2-4c04-8a37-9400dcc77477",
   "metadata": {
    "kernel": "SoS"
   },
   "outputs": [],
   "source": [
    "[filtered_sample_list]\n",
    "# A genotype fam file\n",
    "parameter: genoFile = path\n",
    "# A phenotype file, can be bed.gz or tsv\n",
    "parameter: phenoFile = path\n",
    "# Whether the phenoFile sample name was translated into genoFile sample name already.\n",
    "parameter: translated_phenoFile = False\n",
    "input: genoFile,phenoFile,sample_participant_lookup\n",
    "output: f'{cwd}/{path(_input[2]):bn}.filtered.txt', f'{cwd}/{path(_input[2]):bn}.filtered_geno.txt'\n",
    "task: trunk_workers = 1, trunk_size = job_size, walltime = walltime, mem = mem, cores = numThreads, tags = f'{step_name}_{_output:bn}'\n",
    "R: expand = \"$[ ]\", stderr = f'{_output[0]:nn}.stderr', stdout = f'{_output[0]:nn}.stdout', container = container\n",
    "    library(\"dplyr\")\n",
    "    library(\"readr\")\n",
    "    # Read data\n",
    "    genoFam = read_delim($[_input[0]:ar],\"\\t\", col_names = F)\n",
    "    phenoFile = read_delim($[_input[1]:ar], \"\\t\", col_names = T)\n",
    "    sample_lookup = read_delim($[_input[2]:ar], \"\\t\" ,col_names = T)\n",
    "    ## Get pheno sample list and geno sample list\n",
    "    sample_lookup = sample_lookup%>%filter( participant_id%in%genoFam$X1,$[f\"participant_id\" if translated_phenoFile else \"sample_id\"]%in%colnames(phenoFile))\n",
    "    cbind(0,sample_lookup$participant_id)%>%as_tibble%>%write_delim($[_output[1]:r],\"\\t\")\n",
    "    sample_lookup%>%write_delim($[_output[0]:r],\"\\t\")"
   ]
  },
  {
   "cell_type": "code",
   "execution_count": null,
   "id": "c5d1f763-b6de-4275-a597-40ef4f57adf1",
   "metadata": {
    "kernel": "SoS"
   },
   "outputs": [],
   "source": []
  }
 ],
 "metadata": {
  "kernelspec": {
   "display_name": "SoS",
   "language": "sos",
   "name": "sos"
  },
  "language_info": {
   "codemirror_mode": "sos",
   "file_extension": ".sos",
   "mimetype": "text/x-sos",
   "name": "sos",
   "nbconvert_exporter": "sos_notebook.converter.SoS_Exporter",
   "pygments_lexer": "sos"
  },
  "sos": {
   "kernels": [
    [
     "SoS",
     "sos",
     "",
     ""
    ]
   ],
   "version": "0.22.6"
  }
 },
 "nbformat": 4,
 "nbformat_minor": 5
}
