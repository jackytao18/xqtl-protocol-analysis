{
 "cells": [
  {
   "cell_type": "markdown",
   "id": "nearby-right",
   "metadata": {
    "kernel": "SoS",
    "tags": []
   },
   "source": [
    "## Allele filp QC YML generator\n",
    "This module takes in a table of sumstat, with the columns: #chr, theme1, theme2, theme3 and each rows as 1 chr and the sumstat of corresponding chr and generate a list of yml to be used"
   ]
  },
  {
   "cell_type": "code",
   "execution_count": null,
   "id": "35176739-d838-4947-b724-493786d4d617",
   "metadata": {
    "kernel": "SoS"
   },
   "outputs": [],
   "source": [
    "sos run pipeline/yml_generator.ipynb yml_list \\\n",
    "    --sumstat-list output/TensorQTL.cis._recipe.tsv  \\\n",
    "    --cwd  output/data_intergration/TensorQTL --name MWE &"
   ]
  },
  {
   "cell_type": "code",
   "execution_count": 1,
   "id": "premier-uniform",
   "metadata": {
    "kernel": "SoS"
   },
   "outputs": [],
   "source": [
    "[global]\n",
    "# List of path to the index of sumstat, each correspond to 1 recipe file documenting the path to the sumstat of each chromosome.\n",
    "parameter: sumstat_list = paths\n",
    "# List of names that corresponding to each of the studies\n",
    "parameter: name = list\n",
    "parameter: cwd = path(\"output\")\n",
    "import pandas as pd\n",
    "input_list = sumstat_list\n",
    "sumstat_list = pd.read_csv(input_list[0],sep = \"\\t\")\n",
    "sumstat_list = sumstat_list.sort_values('#chr').reset_index(drop=True)\n",
    "if len(input_list) > 1:\n",
    "    for x in range(1,len(input_list)):\n",
    "        sumstat_list = sumstat_list.merge(pd.read_csv(input_list[x],sep = \"\\t\"), on = \"#chr\")\n",
    "sumstat_meta = sumstat_list.filter(regex='column').iloc[0].values.tolist()\n",
    "sumstat_list = sumstat_list.drop(sumstat_list.filter(regex='column').columns,axis = 1)\n",
    "sumstat_list.columns = [\"#chr\"] + name\n",
    "sumstat_inv = sumstat_list.values.tolist()\n",
    "names = \"_\".join(name)\n",
    "parameter: container = \"\""
   ]
  },
  {
   "cell_type": "code",
   "execution_count": null,
   "id": "mexican-letter",
   "metadata": {
    "kernel": "SoS"
   },
   "outputs": [],
   "source": [
    "[yml_generator]\n",
    "input: for_each  = \"sumstat_inv\"\n",
    "output: f'{cwd:a}/{names}.{_sumstat_inv[0]}/{names}.{_sumstat_inv[0]}.yml'\n",
    "python: expand = \"$[ ]\", stderr = f'{_output}.stderr', stdout = f'{_output}.stdout' , container = container\n",
    "    import os\n",
    "    import yaml\n",
    "    import pandas as pd\n",
    "    output = dict()\n",
    "    ## Input dict\n",
    "    output[\"INPUT\"] = [pd.read_csv(y,\"\\t\",index_col = 0,names = [x],header = 0 ).to_dict() for x,y in zip($[_sumstat_inv[1:len(_sumstat_inv)]],$[sumstat_meta])]       \n",
    "    ## Output dict\n",
    "    output[\"OUTPUT\"] = [$[_output:dr]]\n",
    "    with open($[_output:ar], 'w') as f:\n",
    "        yaml.dump(output,f,sort_keys = False)"
   ]
  },
  {
   "cell_type": "code",
   "execution_count": null,
   "id": "accepting-worker",
   "metadata": {
    "kernel": "SoS"
   },
   "outputs": [],
   "source": [
    "[yml_list]\n",
    "input: output_from(\"yml_generator\"),group_by = \"all\"\n",
    "output: f'{cwd:a}/yml_list.txt', f'{cwd:a}/qced_sumstat_list.txt'\n",
    "import pandas as pd\n",
    "yml_df = pd.DataFrame({\"#chr\" : sumstat_list[\"#chr\"].values.tolist()  ,  \"dir\" : _input})\n",
    "yml_df.to_csv(_output[0],sep = \"\\t\",index = 0)\n",
    "data_dir_tmp = pd.Series(_input)\n",
    "data_dir = [f'{x:d}' for x in data_dir_tmp ]\n",
    "theme = sumstat_list.columns.values.tolist()[1:]\n",
    "for i in theme:\n",
    "    sumstat_list = sumstat_list.assign(**{i : data_dir+ pd.Series([f'/{path(x):b}'  for x in  sumstat_list[i].values.tolist()])  } )\n",
    "sumstat_list.to_csv(_output[1],sep = \"\\t\", index = 0)"
   ]
  }
 ],
 "metadata": {
  "kernelspec": {
   "display_name": "SoS",
   "language": "sos",
   "name": "sos"
  },
  "language_info": {
   "codemirror_mode": "sos",
   "file_extension": ".sos",
   "mimetype": "text/x-sos",
   "name": "sos",
   "nbconvert_exporter": "sos_notebook.converter.SoS_Exporter",
   "pygments_lexer": "sos"
  },
  "sos": {
   "kernels": [
    [
     "SoS",
     "sos",
     "",
     ""
    ]
   ],
   "version": "0.22.6"
  }
 },
 "nbformat": 4,
 "nbformat_minor": 5
}
