{
 "cells": [
  {
   "cell_type": "markdown",
   "id": "surgical-niger",
   "metadata": {
    "kernel": "SoS",
    "tags": []
   },
   "source": [
    "# transQTL analysis workflows \n",
    "This is the qtl association pipeline for xqtl workflow, containing the generation of:\n",
    "1. Norminal cis QTL sumstat \n",
    "\n",
    "and/or\n",
    "    \n",
    "2. Norminal trans QTL sumstat\n"
   ]
  },
  {
   "cell_type": "code",
   "execution_count": 2,
   "id": "reasonable-maryland",
   "metadata": {
    "kernel": "SoS"
   },
   "outputs": [],
   "source": [
    "[global]\n",
    "import os\n",
    "# Work directory & output directory\n",
    "parameter: wd = path\n",
    "# The filename name for output data\n",
    "parameter: container = 'gaow/twas'\n",
    "# name for the analysis output\n",
    "parameter: name = 'ROSMAP'\n",
    "# For cluster jobs, number commands to run per job\n",
    "parameter: job_size = 1\n",
    "# Wall clock time expected\n",
    "parameter: walltime = \"5h\"\n",
    "# Memory expected\n",
    "parameter: mem = \"16G\"\n",
    "# Number of threads\n",
    "parameter: numThreads = 20\n",
    "# Diretory to the executable\n",
    "parameter: exe_dir = path(\"~/GIT/ADSPFG-xQTL/workflow\")\n",
    "# yml template\n",
    "parameter: yml = f'{exe_dir:d}/code/csg.yml'\n",
    "# queue for analysis\n",
    "parameter: queue = \"csg\"\n",
    "# Number of submission\n",
    "parameter: J = 200\n",
    "# The aforementioned Recipe\n",
    "parameter: recipe = path\n",
    "\n",
    "# QTL options\n",
    "\n",
    "\n",
    "# cis_windows\n",
    "parameter: window = 500000\n",
    "\n",
    "\n",
    "\n",
    "\n",
    "\n",
    "import pandas as pd\n",
    "file_dict = pd.read_csv(recipe, delimiter=\"\\t\").to_dict(\"list\")\n",
    "parameter: molecular_pheno_chr_list = file_dict[\"molecular_pheno_chr_list\"][0]\n",
    "parameter: covariate_factor_pca = file_dict[\"covariate_factor_pca\"][0]\n",
    "parameter: grm_list = file_dict[\"grm_list\"][0]\n",
    "parameter: qced_plink_genotype_list = file_dict[\"qced_plink_genotype_list\"][0]\n",
    "parameter: qced_vcf_genotype_list = file_dict[\"qced_vcf_genotype_list\"][0]\n",
    "\n",
    "## They should have same number of partitioned for there should be same number of chr\n",
    "molecular_pheno_chr_inv = pd.read_csv(molecular_pheno_chr_list,header = None)\n",
    "grm_inv = [x.strip().split() for x in open(grm_list).readlines() if x.strip() and not x.strip().startswith('#')]\n",
    "qced_plink_genotype_inv = [x.strip().split() for x in open(qced_plink_genotype_list).readlines() if x.strip() and not x.strip().startswith('#')]\n",
    "qced_vcf_genotype_inv = [x.strip().split() for x in open(qced_vcf_genotype_list).readlines() if x.strip() and not x.strip().startswith('#')]\n",
    "\n",
    "data_chr_inv = molecular_pheno_chr_inv.assign(covariate_factor_pca = covariate_factor_pca , \n",
    "                                              grm_inv = grm_inv, \n",
    "                                              qced_plink_genotype_inv = qced_plink_genotype_inv,\n",
    "                                              qced_vcf_genotype_inv = qced_vcf_genotype_inv  ).values.tolist()"
   ]
  },
  {
   "cell_type": "markdown",
   "id": "through-genetics",
   "metadata": {
    "kernel": "SoS",
    "tags": []
   },
   "source": [
    "## APEX\n",
    "This section is the APEX option for CIS and Trans analysis, including a shared step of generating lmm\n",
    "\n",
    "### APEX cis\n"
   ]
  },
  {
   "cell_type": "code",
   "execution_count": null,
   "id": "electric-biotechnology",
   "metadata": {
    "kernel": "SoS"
   },
   "outputs": [],
   "source": [
    "apex cis --vcf /mnt/mfs/statgen/xqtl_workflow_testing/testing_3/Data_Processing/Genotype/PCC_vcf_geno/PCC_chr22.vcf.gz \\\n",
    "--bed /mnt/mfs/statgen/xqtl_workflow_testing/testing_3/Data_Processing/Phenotype/PCC.chr21.mol_phe.bed.gz \\\n",
    "--cov ./test.cov \\\n",
    "--out /mnt/mfs/statgen/xqtl_workflow_testing/testing_3/QTL_association/APEX/cis/PCC.chr21.mol_phe \\\n",
    "--grm  /mnt/mfs/statgen/xqtl_workflow_testing/testing_3/Data_Processing/Genotype/GRM/PCC_chr22.grm \\\n",
    "--theta-file /mnt/mfs/statgen/xqtl_workflow_testing/testing_3/QTL_association/APEX/cis/PCC.chr21.mol_phe.theta.gz \\\n",
    "--long"
   ]
  },
  {
   "cell_type": "code",
   "execution_count": null,
   "id": "latter-costa",
   "metadata": {
    "kernel": "SoS"
   },
   "outputs": [],
   "source": [
    "[APEX_cis_1]\n",
    "input:  for_each = \"data_chr_inv\"\n",
    "output: f'{wd}/APEX/cis/{_data_chr_inv[0].split(\"/\")[-1].replace(\".bed.gz\",\"\")}.theta.gz',\n",
    "        f'{wd}/APEX/cis/{_data_chr_inv[0].split(\"/\")[-1].replace(\".bed.gz\",\"\")}.cis_gene_table.txt.gz',\n",
    "        f'{wd}/APEX/cis/{_data_chr_inv[0].split(\"/\")[-1].replace(\".bed.gz\",\"\")}.cis_sumstats.txt.gz',\n",
    "        APEX_cis = f'{wd}/APEX/cis/{_data_chr_inv[0].split(\"/\")[-1].replace(\".bed.gz\",\"\")}.cis_long_table.reformated.txt'\n",
    "task: trunk_workers = 1, trunk_size = 1, walltime = '24h',  mem = '40G', tags = f'{step_name}_{_output[0]:bn}'\n",
    "bash: expand = \"$[ ]\", stderr = f'{_output[0]}.stderr', stdout = f'{_output[0]}.stdout'\n",
    "    sos run $[exe_dir]/QTL_association/APEX/APEX.ipynb APEX_cis \\\n",
    "            --wd $[wd]/APEX/cis/ \\\n",
    "            --container $[container] \\\n",
    "            --name $[name] \\\n",
    "            --molecular_pheno $[_data_chr_inv[0]] \\\n",
    "            --covariate $[_data_chr_inv[1]]\\\n",
    "            --genotype_file $[_data_chr_inv[4][1]] \\\n",
    "            --grm $[_data_chr_inv[2][1]] \\\n",
    "            --window $[window] -J $[J] -q $[queue] -c $[yml]"
   ]
  },
  {
   "cell_type": "markdown",
   "id": "reverse-tissue",
   "metadata": {
    "kernel": "SoS"
   },
   "source": [
    "### Apex Trans"
   ]
  },
  {
   "cell_type": "code",
   "execution_count": null,
   "id": "banned-judges",
   "metadata": {
    "kernel": "SoS"
   },
   "outputs": [],
   "source": [
    "[APEX_trans_1]\n",
    "input: recipe, for_each = \"data_chr_inv\"\n",
    "output: f'{wd}/APEX/trans/{_data_chr_inv[0].split(\"/\")[-1].replace(\".bed.gz\",\"\")}.theta.gz',\n",
    "        f'{wd}/APEX/trans/{_data_chr_inv[0].split(\"/\")[-1].replace(\".bed.gz\",\"\")}.trans_gene_table.txt.gz',\n",
    "        APEX_trans = f'{wd}/QTL_association/APEX/trans/{_data_chr_inv[0].split(\"/\")[-1].replace(\".bed.gz\",\"\")}.trans_long_table.txt.gz'\n",
    "task: trunk_workers = 1, trunk_size = 1, walltime = '24h',  mem = '40G', tags = f'{step_name}_{_output[0]:bn}'\n",
    "bash: expand = \"$[ ]\", stderr = f'{_output[0]}.stderr', stdout = f'{_output[0]}.stdout'\n",
    "    sos run $[exe_dir]/QTL_association/APEX/APEX.ipynb APEX_trans \\\n",
    "            --wd $[wd]/APEX/trans/ \\\n",
    "            --container $[container] \\\n",
    "            --name $[name] \\\n",
    "            --molecular_pheno $[_data_chr_inv[0]] \\\n",
    "            --covariate $[_data_chr_inv[1][1]]\\\n",
    "            --genotype_file $[_data_chr_inv[4][1]] \\\n",
    "            --grm $[_data_chr_inv[2]] -J $[J] -q $[queue] -c $[yml]"
   ]
  },
  {
   "cell_type": "markdown",
   "id": "collaborative-needle",
   "metadata": {
    "kernel": "Markdown",
    "tags": []
   },
   "source": [
    "## TensorQTL\n",
    "This section is the TensorQTL option for CIS and Trans analysis\n",
    "\n",
    "### TensorQTL Cis\n"
   ]
  },
  {
   "cell_type": "code",
   "execution_count": null,
   "id": "british-malaysia",
   "metadata": {
    "kernel": "SoS"
   },
   "outputs": [],
   "source": [
    "[TensorQTL_cis_1]\n",
    "input: recipe, for_each = \"data_chr_inv\"\n",
    "output: f'{wd}/TensorQTL/cis/{_data_chr_inv[0].split(\"/\")[-1].replace(\".bed.gz\",\"\")}.emprical.cis_sumstats.txt',\n",
    "        TensorQTL_cis = f'{wd}/TensorQTL/cis/{_data_chr_inv[0].split(\"/\")[-1].replace(\".bed.gz\",\"\")}.norminal.cis_long_table.txt'\n",
    "task: trunk_workers = 1, trunk_size = 1, walltime = '24h',  mem = '40G', tags = f'{step_name}_{_output[0]:bn}'\n",
    "bash: expand = \"$[ ]\", stderr = f'{_output[0]}.stderr', stdout = f'{_output[0]}.stdout'\n",
    "    sos run $[exe_dir]/QTL_association/TensorQTL/TensorQTL.ipynb tensor_cis \\\n",
    "            --wd $[wd]/TensorQTL/cis/ \\\n",
    "            --container $[container] \\\n",
    "            --Prefix $[name] \\\n",
    "            --molecular_pheno $[_data_chr_inv[0]] \\\n",
    "            --covariate $[_data_chr_inv[1]]\\\n",
    "            --genotype_file $[_data_chr_inv[3][1]] \\\n",
    "            --window $[window] -J $[J] -q $[queue] -c $[yml]"
   ]
  },
  {
   "cell_type": "markdown",
   "id": "through-miracle",
   "metadata": {
    "kernel": "SoS"
   },
   "source": [
    "### TensorQTL Trans"
   ]
  },
  {
   "cell_type": "code",
   "execution_count": null,
   "id": "behavioral-selection",
   "metadata": {
    "kernel": "SoS"
   },
   "outputs": [],
   "source": [
    "[TensorQTL_trans_1]\n",
    "input: recipe, for_each = \"data_chr_inv\"\n",
    "output:  TensorQTL_trans = f'{wd}/TensorQTL/trans/{_data_chr_inv[0].split(\"/\")[-1].replace(\".bed.gz\",\"\")}.trans_sumstats.txt'\n",
    "task: trunk_workers = 1, trunk_size = 1, walltime = '24h',  mem = '40G', tags = f'{step_name}_{_output[0]:bn}'\n",
    "bash: expand = \"$[ ]\", stderr = f'{_output[0]}.stderr', stdout = f'{_output[0]}.stdout'\n",
    "    sos run $[exe_dir]/QTL_association/TensorQTL/TensorQTL.ipynb tensor_trans \\\n",
    "            --wd $[wd]/TensorQTL/cis/ \\\n",
    "            --container $[container] \\\n",
    "            --Prefix $[name] \\\n",
    "            --molecular_pheno $[_data_chr_inv[0][1]] \\\n",
    "            --covariate $[_data_chr_inv[1]]\\\n",
    "            --genotype_file $[_data_chr_inv[3][1]]  -J $[J] -q $[queue] -c $[yml]"
   ]
  },
  {
   "cell_type": "code",
   "execution_count": null,
   "id": "incorrect-worst",
   "metadata": {
    "kernel": "SoS"
   },
   "outputs": [],
   "source": []
  },
  {
   "cell_type": "markdown",
   "id": "polished-title",
   "metadata": {
    "kernel": "SoS",
    "tags": []
   },
   "source": [
    "## Output Recipe Generation\n",
    "This step generate a list to document all the output of this step, so that they could be easily accessible by the next step"
   ]
  },
  {
   "cell_type": "code",
   "execution_count": 2,
   "id": "greatest-salvation",
   "metadata": {
    "kernel": "SoS"
   },
   "outputs": [],
   "source": [
    "[APEX_cis_Recipe]\n",
    "input: output_from(\"APEX_cis_1\")[\"APEX_cis\"], group_by = \"all\"\n",
    "output: f'{wd}/{name}.APEX_cis_QTL_recipe.tsv'\n",
    "python: expand = \"$[ ]\", stderr = f'{_output[0]}.stderr', stdout = f'{_output[0]}.stdout'\n",
    "    import csv\n",
    "    import pandas as pd \n",
    "    data_tempt = pd.DataFrame({\n",
    "    \"sumstat_dir\" : [$[_input:r,]]\n",
    "    })\n",
    "    data_tempt.to_csv(\"$[_output]\",index = False,sep = \"\\t\" )"
   ]
  },
  {
   "cell_type": "code",
   "execution_count": null,
   "id": "tutorial-citizenship",
   "metadata": {
    "kernel": "SoS"
   },
   "outputs": [],
   "source": [
    "[APEX_trans_Recipe]\n",
    "input: output_from(\"APEX_trans_1\")[\"APEX_trans\"], group_by = \"all\"\n",
    "output: f'{wd}/{name}.APEX_trans_QTL_recipe.tsv'\n",
    "python: expand = \"$[ ]\", stderr = f'{_output[0]}.stderr', stdout = f'{_output[0]}.stdout'\n",
    "    import csv\n",
    "    import pandas as pd \n",
    "    data_tempt = pd.DataFrame({\n",
    "    \"sumstat_dir\" : [$[_input:r,]]\n",
    "    })\n",
    "    data_tempt.to_csv(\"$[_output]\",index = False,sep = \"\\t\" )"
   ]
  },
  {
   "cell_type": "code",
   "execution_count": null,
   "id": "former-credit",
   "metadata": {
    "kernel": "SoS"
   },
   "outputs": [],
   "source": [
    "[TensorQTL_cis_Recipe]\n",
    "input: output_from(\"TensorQTL_cis_1\")[\"TensorQTL_cis\"], group_by = \"all\"\n",
    "output: f'{wd}/{name}.TensorQTL_cis_QTL_recipe.tsv'\n",
    "python: expand = \"$[ ]\", stderr = f'{_output[0]}.stderr', stdout = f'{_output[0]}.stdout'\n",
    "    import csv\n",
    "    import pandas as pd \n",
    "    data_tempt = pd.DataFrame({\n",
    "    \"sumstat_dir\" : [$[_input:r,]]\n",
    "    })\n",
    "    data_tempt.to_csv(\"$[_output]\",index = False,sep = \"\\t\" )"
   ]
  },
  {
   "cell_type": "code",
   "execution_count": null,
   "id": "lovely-diary",
   "metadata": {
    "kernel": "SoS"
   },
   "outputs": [],
   "source": [
    "[TensorQTL_trans_Recipe]\n",
    "input: named_output(\"TensorQTL_trans\"), group_by = \"all\"\n",
    "output: f'{wd}/{name}.APEX_cis_QTL_recipe.tsv'\n",
    "python: expand = \"$[ ]\", stderr = f'{_output[0]}.stderr', stdout = f'{_output[0]}.stdout'\n",
    "    import csv\n",
    "    import pandas as pd \n",
    "    data_tempt = pd.DataFrame({\n",
    "    \"sumstat_dir\" : [$[_input:r,]]\n",
    "    })\n",
    "    data_tempt.to_csv(\"$[_output]\",index = False,sep = \"\\t\" )"
   ]
  }
 ],
 "metadata": {
  "kernelspec": {
   "display_name": "SoS",
   "language": "sos",
   "name": "sos"
  },
  "language_info": {
   "codemirror_mode": "sos",
   "file_extension": ".sos",
   "mimetype": "text/x-sos",
   "name": "sos",
   "nbconvert_exporter": "sos_notebook.converter.SoS_Exporter",
   "pygments_lexer": "sos"
  },
  "sos": {
   "kernels": [
    [
     "Bash",
     "bash",
     "Bash",
     "#E6EEFF",
     ""
    ],
    [
     "Markdown",
     "markdown",
     "markdown",
     "",
     ""
    ],
    [
     "SoS",
     "sos",
     "",
     "",
     "sos"
    ]
   ],
   "version": "0.22.9"
  }
 },
 "nbformat": 4,
 "nbformat_minor": 5
}
