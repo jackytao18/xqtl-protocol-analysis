{
 "cells": [
  {
   "cell_type": "markdown",
   "id": "4f40855d-97ea-492a-bc33-2d4fe2cae037",
   "metadata": {
    "kernel": "SoS",
    "tags": []
   },
   "source": [
    "# Association result processing\n",
    "This notebook analysis the result of association scan based on a merged vcf file.\n",
    "see https://github.com/cumc/xqtl-pipeline/issues/215 for detail\n",
    "Input: \n",
    "   - list of vcf\n",
    "\n",
    "Output: \n",
    "   - list of vcf with adjusted pvalue\n",
    "   - a table summerized the number of significant finding, after multiple testing correction\n",
    "   - a table of adjusted, best norminal pvalue for each gene."
   ]
  },
  {
   "cell_type": "code",
   "execution_count": null,
   "id": "93b2bd0e-9108-49da-b65b-45170eb2b37a",
   "metadata": {
    "kernel": "SoS"
   },
   "outputs": [],
   "source": [
    "sos run pipeline/assoc_result_processing.ipynb genome \\\n",
    "    --vcf  `ls output/data_intergration/TensorQTL/*merged.vcf.gz` \\\n",
    "    --padjust-method \"bonferroni\"  "
   ]
  },
  {
   "cell_type": "code",
   "execution_count": null,
   "id": "9bc63f9a-5e4b-45e3-8f56-3b166a8148d1",
   "metadata": {
    "kernel": "SoS"
   },
   "outputs": [],
   "source": [
    "[global]\n",
    "# list of vcf to be analysised, best to be for all chromosome by `ls *.merged.vcf.gz` in the output folder of sumstat merger\n",
    "parameter: vcf = paths\n",
    "# For cluster jobs, number commands to run per job\n",
    "parameter: job_size = 1\n",
    "# Wall clock time expected\n",
    "parameter: walltime = \"5h\"\n",
    "# Memory expected\n",
    "parameter: mem = \"16G\"\n",
    "# Number of threads\n",
    "parameter: numThreads = 20\n",
    "parameter: container = \"\""
   ]
  },
  {
   "cell_type": "code",
   "execution_count": 1,
   "id": "dd84f1ef-8579-4edf-86db-cb686699133f",
   "metadata": {
    "kernel": "SoS"
   },
   "outputs": [],
   "source": [
    "[per_chrom]\n",
    "# Way to do gene level multiple correction for each snps, bonferroni or fdr\n",
    "parameter: padjust_method = \"fdr\"\n",
    "input: for_each = \"vcf\"\n",
    "output: rds = f'{_vcf:nn}.rds', processed_vcf = f'{_vcf:nn}.p_adjusted.vcf.bgz'\n",
    "task: trunk_workers = 1, trunk_size = job_size, walltime = walltime, mem = mem, cores = numThreads, tags = f'{step_name}_{_output:bn}'\n",
    "R: expand= \"$[ ]\", stderr = f'{_output[0]}.stderr', stdout = f'{_output[0]}.stdout', container = container\n",
    "   library(\"dplyr\")\n",
    "   # Read VCF\n",
    "   data = VariantAnnotation::readVcf(\"$[_vcf]\")\n",
    "   # Extract p-val\n",
    "   pval = VariantAnnotation::geno(data)$P%>%as_tibble(rownames = \"ID\")%>%mutate(GENE = VariantAnnotation::info(data)$GENE, ID = sub(\"[^:]*:\",\"\", ID) )\n",
    "   # Adjust pvalue per gene based on fdr or beferroni\n",
    "   pval_adj = pval%>%group_by(GENE)%>%mutate(across(colnames(VariantAnnotation::geno(data)$P),~.x%>%p.adjust(\"$[padjust_method]\")))\n",
    "   ## Get the number of sig association\n",
    "   n_asso = (pval_adj%>%ungroup%>%select(-ID,-GENE) < 0.05)%>%colSums(na.rm = TRUE)%>%t%>%as_tibble\n",
    "   ## Get the number of sig snps\n",
    "   n_snp = (pval_adj%>%ungroup%>%group_by(ID)%>%summarize(across(colnames(VariantAnnotation::geno(data)$P),~.x%>%coalesce(9)%>%min))%>%select(-ID)< 0.05)%>%colSums(na.rm = TRUE)%>%t%>%as_tibble\n",
    "   ## Get the top  snps for each genes\n",
    "   pval_adj_gene = pval_adj%>%group_by(GENE)%>%summarize(across(colnames(VariantAnnotation::geno(data)$P),~.x%>%min))\n",
    "   pval_adj_gene_snps = pval_adj%>%group_by(GENE)%>%summarize(across(colnames(VariantAnnotation::geno(data)$P),~list(pval_adj[(which(.x == min(.x))),1])))\n",
    "   output = list(\"n_asso\" = n_asso,\"n_snp\" = n_snp,\"pval_adj_gene\" = pval_adj_gene,\"pval_adj_gene_snps\" = pval_adj_gene_snps )\n",
    "   saveRDS(output,\"$[_output[0]]\")\n",
    "   # Edit the VCF and output it\n",
    "   VariantAnnotation::geno(VariantAnnotation::header(data))[\"P_ADJ\",] = list(\"1\",\"Float\",\"P value adjusted by $[padjust_method] among each genes\")\n",
    "   VariantAnnotation::geno(data)$P_ADJ = VariantAnnotation::geno(data)$P\n",
    "   VariantAnnotation::geno(data)$P_ADJ = pval_adj%>%ungroup%>%select(-ID,-GENE)%>%as.matrix\n",
    "   VariantAnnotation::meta(VariantAnnotation::header(data))$n_sig_asso = paste0(n_asso,collapse = \":\")\n",
    "   VariantAnnotation::meta(VariantAnnotation::header(data))$n_sig_snp = paste0(n_snp,collapse = \":\")\n",
    "   VariantAnnotation::writeVcf(data,\"$[_output[1]:n]\",index = TRUE)"
   ]
  },
  {
   "cell_type": "code",
   "execution_count": null,
   "id": "1bd690b2-a6fa-41eb-a8ba-b0899af93128",
   "metadata": {
    "kernel": "SoS"
   },
   "outputs": [],
   "source": [
    "[genome]\n",
    "input: output_from(\"per_chrom\")[\"rds\"], group_by = \"all\"\n",
    "output: f'{_input[0]:nn}.n_sig.txt',f'{_input[0]:nn}.gene_p_adj.txt'\n",
    "task: trunk_workers = 1, trunk_size = job_size, walltime = walltime, mem = mem, cores = numThreads, tags = f'{step_name}_{_output:bn}'\n",
    "R: expand= \"$[ ]\", stderr = f'{_output[0]}.stderr', stdout = f'{_output[0]}.stdout', container = container\n",
    "   library(\"dplyr\")\n",
    "   library(\"readr\")\n",
    "   library(\"tidyr\")\n",
    "   library(\"purrr\")\n",
    "   # Read data\n",
    "   input_ls = list($[_input:r,])\n",
    "   data = tibble(input_ls)%>%mutate(rds = map(input_ls,~read_rds(.x)),\n",
    "                                    n_assoc = map(rds,~.x$n_asso),\n",
    "                                    n_snp = map(rds,~.x$n_snp),\n",
    "                                    pval_adj_gene = map(rds,~.x$pval_adj_gene)\n",
    "                                      )\n",
    "   # Total number of significant association, snps, and genes\n",
    "   n_assoc = data%>%select(n_assoc)%>%unnest(\"n_assoc\")%>%colSums(na.rm = TRUE)\n",
    "   n_snp = data%>%select(n_snp)%>%unnest(\"n_snp\")%>%colSums(na.rm = TRUE)\n",
    "   pval_adj_gene_adj = data%>%select(pval_adj_gene)%>%unnest(\"pval_adj_gene\")%>%mutate(across(colnames(n_assoc),~.x%>%p.adjust(\"fdr\") ))\n",
    "   n_gene = (pval_adj_gene_adj%>%select(-GENE)< 0.05 )%>%colSums(na.rm = TRUE)\n",
    "   n_sum = cbind(n_assoc,n_snp,n_gene)%>%as_tibble(rownames = \"tissue\")\n",
    "   n_sum%>%write_delim(\"$[_output[0]]\",\"\\t\")\n",
    "   pval_adj_gene_adj%>%write_delim(\"$[_output[1]]\",\"\\t\")"
   ]
  },
  {
   "cell_type": "code",
   "execution_count": null,
   "id": "1bb8d254-f727-4cc5-98d5-d31178c39a01",
   "metadata": {
    "kernel": "SoS"
   },
   "outputs": [],
   "source": []
  }
 ],
 "metadata": {
  "kernelspec": {
   "display_name": "SoS",
   "language": "sos",
   "name": "sos"
  },
  "language_info": {
   "codemirror_mode": "sos",
   "file_extension": ".sos",
   "mimetype": "text/x-sos",
   "name": "sos",
   "nbconvert_exporter": "sos_notebook.converter.SoS_Exporter",
   "pygments_lexer": "sos"
  },
  "sos": {
   "kernels": [
    [
     "SoS",
     "sos",
     "",
     ""
    ]
   ],
   "version": "0.22.6"
  }
 },
 "nbformat": 4,
 "nbformat_minor": 5
}
