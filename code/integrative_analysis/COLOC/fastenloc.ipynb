{
 "cells": [
  {
   "cell_type": "markdown",
   "id": "necessary-moderator",
   "metadata": {
    "kernel": "SoS"
   },
   "source": [
    "# Colocalization with FastENLOC "
   ]
  },
  {
   "cell_type": "markdown",
   "id": "olive-institute",
   "metadata": {
    "kernel": "SoS"
   },
   "source": [
    "## Aim"
   ]
  },
  {
   "cell_type": "markdown",
   "id": "grateful-crawford",
   "metadata": {
    "kernel": "SoS"
   },
   "source": [
    "The purpose of this notebook is to demonstrate a colocalization analysis workflow utilizing fastENLOC"
   ]
  },
  {
   "cell_type": "markdown",
   "id": "neural-mediterranean",
   "metadata": {
    "kernel": "SoS"
   },
   "source": [
    "## Input"
   ]
  },
  {
   "cell_type": "markdown",
   "id": "domestic-mouth",
   "metadata": {
    "kernel": "SoS"
   },
   "source": [
    "1) __GWAS summary statistics file__ including the following columns at minimum (no header)\n",
    "\n",
    "- snp_id: variant ID. Format: chr#_bp_a1_a2_build. Example: chr21_25380778_A_G_b38\n",
    "- chr: chromosome number\n",
    "- pos: base pair position\n",
    "- z_score: z-score values\n",
    "\n",
    "2) __eQTL SNPs data file__ including the following columns (no header) \n",
    "\n",
    "- gene: gene name\n",
    "- snp: variant ID\n",
    "- tss: distance to transcription starting site\n",
    "- pval: p-value\n",
    "- beta: beta-hat, effect size\n",
    "- se: standard error of beta-hat\n",
    "\n",
    "3) __LD correlation matrix file__ for all SNPs included in eQTL data file. (no header)\n",
    "\n",
    "\n",
    "4) __eQTL Z-score file__ with the following columns (no header)\n",
    "\n",
    "- snp: variant ID. Format: chr#_bp_a1_A2. Example: chr21_25380778_A_G\n",
    "- z score\n",
    "\n",
    "5) __SNP vcf file__ to annotate all SNP positions, with the following columns (include header)\n",
    "\n",
    "- CHROM: chromosome number. Format chr#. Example: chr1\n",
    "- POS: base pair position\n",
    "- ID: variant ID. Format: chr#_bp_a1_a2. Example: chr21_25380778_A_G\n",
    "- REF: Effect allele\n",
    "- ALT: Other allele\n"
   ]
  },
  {
   "cell_type": "markdown",
   "id": "adjusted-incident",
   "metadata": {
    "kernel": "SoS"
   },
   "source": [
    "## Output "
   ]
  },
  {
   "cell_type": "markdown",
   "id": "affecting-palestinian",
   "metadata": {
    "kernel": "SoS"
   },
   "source": [
    "1) Enrichment analysis result `prefix.enloc.enrich.rst`: estimated enrichment parameters and standard errors.\n",
    "\n",
    "2) Signal-level colocalization result `prefix.enloc.sig.out`: the main output from the colocalization analysis wi th the following format\n",
    "- column 1: signal cluster name (from eQTL analysis)\n",
    "- column 2: number of member SNPs\n",
    "- column 3: cluster PIP of eQTLs\n",
    "- column 4: cluster PIP of GWAS hits (without eQTL prior)\n",
    "- column 5: cluster PIP of GWAS hits (with eQTL prior)\n",
    "- column 6: regional colocalization probability (RCP)\n",
    "\n",
    "3) SNP-level colocalization result `prefix.enloc.snp.out`: SNP-level colocalization output with the following form at\n",
    "- column 1: signal cluster name\n",
    "- column 2: SNP name\n",
    "- column 3: SNP-level PIP of eQTLs\n",
    "- column 4: SNP-level PIP of GWAS (without eQTL prior)\n",
    "- column 5: SNP-level PIP of GWAS (with eQTL prior)\n",
    "- column 6: SNP-level colocalization probability\n",
    "\n",
    "4) Sorted list of colocalization signals with  \n",
    "\n",
    "  ```sort -grk6 prefix.enloc.sig.out ```"
   ]
  },
  {
   "cell_type": "markdown",
   "id": "incorrect-cross",
   "metadata": {
    "kernel": "SoS"
   },
   "source": [
    "## Workflow"
   ]
  },
  {
   "cell_type": "markdown",
   "id": "regulation-poison",
   "metadata": {
    "kernel": "SoS"
   },
   "source": [
    "### Step 0 : Prepare Intermediate Input Files"
   ]
  },
  {
   "cell_type": "markdown",
   "id": "equivalent-sleep",
   "metadata": {
    "kernel": "SoS"
   },
   "source": [
    "- `gene.prior.txt.gz` : eQTL SNP data file "
   ]
  },
  {
   "cell_type": "markdown",
   "id": "environmental-spectrum",
   "metadata": {
    "kernel": "SoS"
   },
   "source": [
    "### FIXME:In R, I want to read in input eqtl snp .txt file (somehow obtain the full file name), create a z-score txt file and a vcf file, and then gzip the vcf file (somehow obtain the full filename of this)"
   ]
  },
  {
   "cell_type": "code",
   "execution_count": null,
   "id": "maritime-disclaimer",
   "metadata": {
    "kernel": "SoS"
   },
   "outputs": [],
   "source": [
    "[global]\n",
    "parameter: container = \"/home/at3535/fastenloc/fastenloc.sif\"\n",
    "parameter: wd = path(\"./\")\n",
    "parameter: exe_dir = \"/usr/local/bin/\"\n",
    "parameter: name = \"demo\"\n",
    "parameter: sumstats = path(\"./\")\n",
    "paramter: eqtl = path(\"./\")"
   ]
  },
  {
   "cell_type": "code",
   "execution_count": null,
   "id": "assigned-policy",
   "metadata": {
    "kernel": "SoS"
   },
   "outputs": [],
   "source": [
    "[eqtl_z1]\n",
    "parameter: sumstats = path\n",
    "input: sumstats\n",
    "bash:\n",
    "    mkdir z_files vcfs dap_rst_dir annot\n",
    "    gunzip -c gene.prior.txt.gz   "
   ]
  },
  {
   "cell_type": "code",
   "execution_count": null,
   "id": "forward-northern",
   "metadata": {
    "kernel": "SoS"
   },
   "outputs": [],
   "source": [
    "[eqtl_z2]\n",
    "R: \n",
    "    # create z file \n",
    "    library(\"tidyverse\")\n",
    "    data = data.table::fread(\"{_input}\", header = F)\n",
    "    gene = as.character(data[1,1])\n",
    "    data = data %>% mutate(z = V5/V6) %>% select(c(V2, z))\n",
    "    filename = paste0(\"z_files/\",paste(gene, \"z\",\"txt\",sep = \".\"))\n",
    "    write.table(data,filename,colnames = F, rownames = F, quote = F) \n",
    "  \n",
    "    # create vcf file\n",
    "    eqtl.split = function(var.id){\n",
    "      rows = dim(var.id)[1]\n",
    "      chr = vector(length = rows)\n",
    "      pos = vector(length = rows)\n",
    "      a1 = vector(length = rows)\n",
    "      a2 = vector(length = rows)\n",
    "      for (i in 1:rows){\n",
    "        split = str_split(var.id[i], \"_\")\n",
    "        chr[i]= split[[1]][1]\n",
    "        pos[i] = split[[1]][2]\n",
    "        a1[i] = split[[1]][3]\n",
    "        a2[i] = split[[1]][4]\n",
    "      }\n",
    "      eqtl.df = data.frame(chr,pos,var.id,a1,a2)\n",
    "    }\n",
    "  \n",
    "    vcf = eqtl.split(data[,2])\n",
    "    colnames(vcf) = c(\"CHROM\", \"POS\", \"ID\", \"REF\", \"ALT\")\n",
    "    vcf.filename = paste0(\"vcfs/\",paste(gene, \"vcf\",sep = \".\"))\n",
    "    write.table(vcf,vcf.filename,col.names = F, row.names = F, quote = F)"
   ]
  },
  {
   "cell_type": "code",
   "execution_count": null,
   "id": "inappropriate-survivor",
   "metadata": {
    "kernel": "SoS"
   },
   "outputs": [],
   "source": [
    "[eqtl_z3]\n",
    "bash: \n",
    "    gzip gene.vcf"
   ]
  },
  {
   "cell_type": "markdown",
   "id": "satisfied-symposium",
   "metadata": {
    "kernel": "SoS"
   },
   "source": [
    "### Step 1: Prepare GWAS PIP "
   ]
  },
  {
   "cell_type": "markdown",
   "id": "peaceful-still",
   "metadata": {
    "kernel": "SoS"
   },
   "source": [
    "- `gwas_z.txt` : GWAS summary statistics file"
   ]
  },
  {
   "cell_type": "markdown",
   "id": "political-martin",
   "metadata": {
    "kernel": "SoS"
   },
   "source": [
    "__Part 1__: Assign LD block for each SNP."
   ]
  },
  {
   "cell_type": "code",
   "execution_count": null,
   "id": "lesser-webmaster",
   "metadata": {
    "kernel": "SoS"
   },
   "outputs": [],
   "source": [
    "[ld_block]\n",
    "bash: \n",
    "    perl format2torus.pl gwas_z.txt > gwas.zval\n",
    "    gzip gwas.zval"
   ]
  },
  {
   "cell_type": "markdown",
   "id": "concerned-photography",
   "metadata": {
    "kernel": "SoS"
   },
   "source": [
    "__Part 2__: Convert z-scores to PIPs."
   ]
  },
  {
   "cell_type": "code",
   "execution_count": null,
   "id": "blank-aspect",
   "metadata": {
    "kernel": "SoS"
   },
   "outputs": [],
   "source": [
    "[gwas_pip]\n",
    "bash:\n",
    "    torus -d gwas.zval.gz --load_zval -dump_pip gwas.pip\n",
    "    gzip gwas.pip"
   ]
  },
  {
   "cell_type": "markdown",
   "id": "sustainable-affect",
   "metadata": {
    "kernel": "SoS"
   },
   "source": [
    "### Step 2: Prepare eQTL Annotation File"
   ]
  },
  {
   "cell_type": "markdown",
   "id": "backed-monaco",
   "metadata": {
    "kernel": "SoS"
   },
   "source": [
    "#### Method 1: Use pre-computed GTEx multi-tissue eQTL annotation files"
   ]
  },
  {
   "cell_type": "markdown",
   "id": "european-appeal",
   "metadata": {
    "kernel": "SoS"
   },
   "source": [
    "download: \n",
    "\n",
    "- hg38 Position ID: https://drive.google.com/open?id=1kfH_CffxyCtZcx3z7k63rIARNidLv1_P\n",
    "- rsID: https://drive.google.com/open?id=1rSaHenk8xOFtQo7VuDZevRkjUz6iwuj0\n",
    "\n",
    "obtain:\n",
    "- gtex_v8.eqtl_annot.vcf.gz\n",
    "- gtex_v8.eqtl_annot_rsid.vcf.gz"
   ]
  },
  {
   "cell_type": "markdown",
   "id": "ranging-exemption",
   "metadata": {
    "kernel": "SoS"
   },
   "source": [
    "#### Method 2: Derive annotations based on own eQTL data, using DAP-G"
   ]
  },
  {
   "cell_type": "markdown",
   "id": "accepting-empire",
   "metadata": {
    "kernel": "SoS"
   },
   "source": [
    "DAP-G annotations are produced through 2 parts: "
   ]
  },
  {
   "cell_type": "markdown",
   "id": "alpine-radius",
   "metadata": {
    "kernel": "SoS"
   },
   "source": [
    "__Part 1__: Estimate priors with `torus`"
   ]
  },
  {
   "cell_type": "markdown",
   "id": "charged-degree",
   "metadata": {
    "kernel": "SoS"
   },
   "source": [
    "- `gene.prior.txt.gz` : eQTL SNP data file "
   ]
  },
  {
   "cell_type": "code",
   "execution_count": null,
   "id": "white-buyer",
   "metadata": {
    "kernel": "SoS"
   },
   "outputs": [],
   "source": [
    "[estimate_prior]\n",
    "bash: \n",
    "    torus -d for_prior/gene.prior.txt.gz --fastqtl -dump_prior dumpgene"
   ]
  },
  {
   "cell_type": "markdown",
   "id": "certified-oklahoma",
   "metadata": {
    "kernel": "SoS"
   },
   "source": [
    "__Part 2__: Annotate with `DAP-G`"
   ]
  },
  {
   "cell_type": "markdown",
   "id": "filled-organization",
   "metadata": {
    "kernel": "SoS"
   },
   "source": [
    "- `z_file.txt` : eQTL z-score file\n",
    "- `chr1_ld.ld.bin` : eQTL LD correlation matrix\n",
    "- `genes.vcf.gz` : eQTL SNP vcf file"
   ]
  },
  {
   "cell_type": "code",
   "execution_count": null,
   "id": "practical-wyoming",
   "metadata": {
    "kernel": "SoS"
   },
   "outputs": [],
   "source": [
    "[dap_annot]\n",
    "bash: \n",
    "    dap-g -d_z z_file.txt -d_ld chr1_ld.ld.bin -p dumpgene/gene.prior -ld_control 0.5 --all -t 4 > dap_rst_dir \n",
    "    perl summarize_dap2enloc.pl -dir dap_rst_dir -vcf vcfs/gene.vcf.gz | gzip - > annot/gene.annot.vcf.gz"
   ]
  },
  {
   "cell_type": "markdown",
   "id": "small-enemy",
   "metadata": {
    "kernel": "SoS"
   },
   "source": [
    "### Step 3: Colocalization with fastENLOC"
   ]
  },
  {
   "cell_type": "code",
   "execution_count": null,
   "id": "native-looking",
   "metadata": {
    "kernel": "SoS"
   },
   "outputs": [],
   "source": [
    "[fastenloc]\n",
    "bash: \n",
    "    fastenloc -eqtl annot/gene.annot.vcf.gz -gwas gwas.pip.gz "
   ]
  },
  {
   "cell_type": "markdown",
   "id": "sudden-ontario",
   "metadata": {
    "kernel": "SoS"
   },
   "source": [
    "## Minimum Working Example: "
   ]
  },
  {
   "cell_type": "code",
   "execution_count": null,
   "id": "greek-blend",
   "metadata": {
    "kernel": "SoS"
   },
   "outputs": [],
   "source": [
    "[example]\n",
    "bash:\n",
    "    mkdir dap_rst_dir annot \n",
    "    perl format2torus.pl ad.0921.sumstats.txt > ad.0921.sumstats.zval\n",
    "    gzip ad.0921.sumstats.zval\n",
    "    torus -d ad.0921.sumstats.zval.gz --load_zval -dump_pip ad.0921.sumstats.pip\n",
    "    gzip ad.0921.sumstats.pip\n",
    "    torus -d for_prior/ENSG00000203710.prior.txt.gz --fastqtl -dump_prior dumpENSG00000203710\n",
    "    dap-g -d_z z_files/ENSG00000203710.z.txt -d_ld lds/ENSG00000203710.ld -p dumpENSG00000203710/ENSG00000203710.prior -ld_control 0.5 --all -t 4 > dap_rst_dir/ENSG00000110079.dap\n",
    "    perl summarize_dap2enloc.pl -dir dap_rst_dir -vcf vcfs/ENSG00000203710.vcf.gz | gzip - > annot/ENSG00000203710.annot.vcf.gz\n",
    "    fastenloc -eqtl annot/ENSG00000203710.annot.vcf.gz -gwas ad.0921.sumstats.pip.gz"
   ]
  },
  {
   "cell_type": "markdown",
   "id": "aquatic-aging",
   "metadata": {
    "kernel": "SoS"
   },
   "source": [
    "#### Summary: "
   ]
  },
  {
   "cell_type": "code",
   "execution_count": 1,
   "id": "domestic-separation",
   "metadata": {
    "kernel": "Bash"
   },
   "outputs": [
    {
     "name": "stdout",
     "output_type": "stream",
     "text": [
      "                Intercept   -13.668           -\n",
      "Enrichment (no shrinkage)    12.122       1.145\n",
      "Enrichment (w/ shrinkage)     5.244       0.753\n"
     ]
    }
   ],
   "source": [
    "head enloc.enrich.out"
   ]
  },
  {
   "cell_type": "code",
   "execution_count": 3,
   "id": "junior-strike",
   "metadata": {
    "kernel": "Bash"
   },
   "outputs": [
    {
     "name": "stdout",
     "output_type": "stream",
     "text": [
      "Signal\tNum_SNP\tCPIP_qtl\tCPIP_gwas_marginal\tCPIP_gwas_qtl_prior\tRCP\n",
      "ENSG00000203710:1      4  9.972e-01 1.395e-01    8.832e-01      8.688e-01\n"
     ]
    }
   ],
   "source": [
    "head enloc.sig.out"
   ]
  },
  {
   "cell_type": "code",
   "execution_count": 4,
   "id": "continued-mailman",
   "metadata": {
    "kernel": "Bash"
   },
   "outputs": [
    {
     "name": "stdout",
     "output_type": "stream",
     "text": [
      "Signal\tSNP\tPIP_qtl\tPIP_gwas_marginal\tPIP_gwas_qtl_prior\tSCP\n",
      "ENSG00000203710:1   chr1_207684192_T_G   1.789e-01 3.882e-02    1.627e-01      1.582e-01\n",
      "ENSG00000203710:1   chr1_207685965_A_C   1.220e-01 3.726e-02    1.119e-01      1.074e-01\n",
      "ENSG00000203710:1   chr1_207692049_A_G   1.896e-01 2.799e-02    1.632e-01      1.603e-01\n",
      "ENSG00000203710:1   chr1_207738077_T_C   5.066e-01 3.540e-02    4.454e-01      4.429e-01\n"
     ]
    }
   ],
   "source": [
    "head enloc.snp.out"
   ]
  }
 ],
 "metadata": {
  "kernelspec": {
   "display_name": "SoS",
   "language": "sos",
   "name": "sos"
  },
  "language_info": {
   "codemirror_mode": "sos",
   "file_extension": ".sos",
   "mimetype": "text/x-sos",
   "name": "sos",
   "nbconvert_exporter": "sos_notebook.converter.SoS_Exporter",
   "pygments_lexer": "sos"
  },
  "sos": {
   "kernels": [
    [
     "Bash",
     "bash",
     "Bash",
     "#E6EEFF",
     "shell"
    ],
    [
     "SoS",
     "sos",
     "",
     "",
     "sos"
    ]
   ],
   "version": "0.22.4"
  }
 },
 "nbformat": 4,
 "nbformat_minor": 5
}
