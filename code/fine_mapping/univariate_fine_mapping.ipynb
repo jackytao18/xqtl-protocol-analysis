{
 "cells": [
  {
   "cell_type": "markdown",
   "id": "veterinary-poison",
   "metadata": {
    "kernel": "SoS",
    "tags": []
   },
   "source": [
    "# Univariate fine-mapping workflows"
   ]
  },
  {
   "cell_type": "markdown",
   "id": "executive-camera",
   "metadata": {
    "kernel": "Bash",
    "tags": []
   },
   "source": [
    "1. Using `susieR::susie_rss()`\n",
    "2. Using `susieR::susie()`\n",
    "3. Using `polyfun`"
   ]
  },
  {
   "cell_type": "markdown",
   "id": "03c5178c-5b91-4e64-a1c4-e9cb8b4a38dd",
   "metadata": {
    "kernel": "SoS"
   },
   "source": [
    "## Univariate SuSiE"
   ]
  },
  {
   "cell_type": "code",
   "execution_count": null,
   "id": "53caf474-8d43-4b3b-ba23-46eb584dfd4d",
   "metadata": {
    "kernel": "SoS"
   },
   "outputs": [],
   "source": [
    "nohup sos run /home/hs3163/GIT/xqtl-pipeline/pipeline/fine_mapping/SuSiE/SuSiE.ipynb uni_susie  \\\n",
    "        --phenotype_list /mnt/mfs/statgen/xqtl_workflow_testing/demo/phenotype_reformat/demo.processed_phenotype.per_gene.recipe  \\\n",
    "        --genotype_list /mnt/mfs/statgen/xqtl_workflow_testing/demo/genotype_reformmating/demo_per_gene_plink/plink_per_gene_list  \\\n",
    "        --region_list  /home/hs3163/GIT/ADSPFG-xQTL/MWE/mwe_region_long \\\n",
    "        --container /mnt/mfs/statgen/containers/twas_latest.sif \\\n",
    "        --wd ./ \\\n",
    "        --name \"demo\" &  "
   ]
  },
  {
   "cell_type": "markdown",
   "id": "38ce5e3d-d602-439a-aaca-f3e982944eb9",
   "metadata": {
    "kernel": "SoS"
   },
   "source": [
    "## Univariate SuSiE with summary statistics"
   ]
  },
  {
   "cell_type": "code",
   "execution_count": null,
   "id": "4d844ead-3d13-4793-8c0c-2dd6a2b30fe7",
   "metadata": {
    "kernel": "SoS"
   },
   "outputs": [],
   "source": [
    "nohup sos run /home/hs3163/GIT/xqtl-pipeline/pipeline/fine_mapping/SuSiE/SuSiE_RSS.ipynb UniSuSiE_summary_stats_analysis  \\\n",
    "        --merged_analysis_unit /mnt/mfs/statgen/xqtl_workflow_testing/module/Merge/merge/RDS/PCC_DLPFC_AC.analysis_unit  \\\n",
    "        --LD_Recipe /home/hs3163/GIT/ADSPFG-xQTL/MWE/LD_Recipe \\\n",
    "        --container /mnt/mfs/statgen/containers/twas_latest.sif \\\n",
    "        --wd ./ \\\n",
    "        --Theme_prefix \"PCC_DLPFC_AC\" &  "
   ]
  }
 ],
 "metadata": {
  "kernelspec": {
   "display_name": "SoS",
   "language": "sos",
   "name": "sos"
  },
  "language_info": {
   "codemirror_mode": "sos",
   "file_extension": ".sos",
   "mimetype": "text/x-sos",
   "name": "sos",
   "nbconvert_exporter": "sos_notebook.converter.SoS_Exporter",
   "pygments_lexer": "sos"
  },
  "sos": {
   "kernels": [
    [
     "Bash",
     "bash",
     "Bash",
     "#E6EEFF",
     ""
    ],
    [
     "Markdown",
     "markdown",
     "markdown",
     "",
     ""
    ],
    [
     "SoS",
     "sos",
     "",
     "",
     "sos"
    ]
   ],
   "version": "0.22.6"
  }
 },
 "nbformat": 4,
 "nbformat_minor": 5
}
