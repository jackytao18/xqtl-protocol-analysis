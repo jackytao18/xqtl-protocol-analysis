{
 "cells": [
  {
   "cell_type": "markdown",
   "id": "recognized-expansion",
   "metadata": {
    "kernel": "SoS",
    "tags": []
   },
   "source": [
    "# Multivariate fine-mapping workflows "
   ]
  },
  {
   "cell_type": "markdown",
   "id": "752b143a-59fd-439f-add3-a3a2a33c906b",
   "metadata": {
    "kernel": "SoS"
   },
   "source": [
    "## Mixture Prior"
   ]
  },
  {
   "cell_type": "code",
   "execution_count": null,
   "id": "aa38206d-e199-47d3-ae45-badd1f849127",
   "metadata": {
    "kernel": "SoS"
   },
   "outputs": [],
   "source": [
    "nohup sos run /home/hs3163/GIT/xqtl-pipeline/pipeline/multivariate/MASH/mixture_prior.ipynb ed_bovy \\\n",
    "--cwd ./ \\\n",
    "--container /mnt/mfs/statgen/containers/twas_latest.sif \\\n",
    "--name \"PCC_DLPFC_AC\" \\\n",
    "--data /mnt/mfs/statgen/xqtl_workflow_testing/module/MASH/PCC_DLPFC_AC.rds \\\n",
    "--mixture_components_dir /mnt/mfs/statgen/xqtl_workflow_testing/module/MASH/  -s force &"
   ]
  },
  {
   "cell_type": "markdown",
   "id": "03688769-02c2-466d-91f8-ca48f522e150",
   "metadata": {
    "kernel": "SoS"
   },
   "source": [
    "## MvSuSIE with summary statistics"
   ]
  },
  {
   "cell_type": "code",
   "execution_count": null,
   "id": "9299f721-a328-4b9a-b2dd-af291d1b5445",
   "metadata": {
    "kernel": "SoS"
   },
   "outputs": [],
   "source": [
    "nohup sos run /home/hs3163/GIT/xqtl-pipeline/pipeline/fine_mapping/SuSiE/SuSiE_RSS.ipynb MvSuSiE_summary_stats_analysis  \\\n",
    "        --merged_analysis_unit /mnt/mfs/statgen/xqtl_workflow_testing/module/Merge/merge/RDS/PCC_DLPFC_AC.analysis_unit  \\\n",
    "        --resid_cor /mnt/mfs/statgen/xqtl_workflow_testing/module/MASH/PCC_DLPFC_AC.EZ.V_simple.rds \\\n",
    "        --prior /mnt/mfs/statgen/xqtl_workflow_testing/module/mixture_prior/PCC_DLPFC_AC.ed_bovy.V_simple.rds \\\n",
    "        --LD_Recipe /home/hs3163/GIT/ADSPFG-xQTL/MWE/LD_Recipe \\\n",
    "        --container /mnt/mfs/statgen/containers/twas_latest.sif \\\n",
    "        --wd ./ \\\n",
    "        --Theme_prefix \"PCC_DLPFC_AC\" &  #\\"
   ]
  },
  {
   "cell_type": "code",
   "execution_count": null,
   "id": "6ed7db2f-3c61-40a6-a3c2-45e17cb1901f",
   "metadata": {
    "kernel": "SoS"
   },
   "outputs": [],
   "source": []
  }
 ],
 "metadata": {
  "kernelspec": {
   "display_name": "SoS",
   "language": "sos",
   "name": "sos"
  },
  "language_info": {
   "codemirror_mode": "sos",
   "file_extension": ".sos",
   "mimetype": "text/x-sos",
   "name": "sos",
   "nbconvert_exporter": "sos_notebook.converter.SoS_Exporter",
   "pygments_lexer": "sos"
  },
  "sos": {
   "kernels": [
    [
     "Bash",
     "bash",
     "Bash",
     "#E6EEFF",
     ""
    ],
    [
     "Markdown",
     "markdown",
     "markdown",
     "",
     ""
    ],
    [
     "SoS",
     "sos",
     "",
     "",
     "sos"
    ]
   ],
   "version": "0.22.6"
  }
 },
 "nbformat": 4,
 "nbformat_minor": 5
}
