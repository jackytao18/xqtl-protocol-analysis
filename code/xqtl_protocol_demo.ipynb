{
 "cells": [
  {
   "cell_type": "markdown",
   "id": "7a42fb48-8147-4fa1-82c5-f963a1a0d357",
   "metadata": {
    "kernel": "SoS",
    "tags": []
   },
   "source": [
    "# Demonstration of computational protocols for molecular QTL analyses\n",
    "\n",
    "This notebook illustrates the computational protocols available from this repository for the detection and analysis of molecular QTLs (xQTLs). A minimal toy data-set consisting of 49 de-identified samples are used for the analysis."
   ]
  },
  {
   "cell_type": "markdown",
   "id": "23cdedb3-0480-4927-9804-01053cfd2853",
   "metadata": {
    "kernel": "SoS",
    "tags": []
   },
   "source": [
    "## Analysis\n",
    "\n",
    "Please visit [the homepage of the protocol website](https://cumc.github.io/xqtl-pipeline/) for the general background on this resource. To perform a complete analysis from molecular phenotype quantification to xQTL discovery, please conduct your analysis in the order listed below, each link contains a mini-protocol for a specific task. \n",
    "\n",
    "### Bulk RNA-seq molecular phenotype quantification\n",
    "\n",
    "1. [Reference data munging](https://cumc.github.io/xqtl-pipeline/code/data_preprocessing/reference_data.html)\n",
    "2. [Quantification of gene expression](https://cumc.github.io/xqtl-pipeline/code/molecular_phenotypes/bulk_expression.html)\n",
    "3. [Quantification of alternative splicing events](https://cumc.github.io/xqtl-pipeline/code/molecular_phenotypes/splicing.html)\n",
    "\n",
    "### xQTL association analysis\n",
    "\n",
    "1. [Phenotype data munging](https://cumc.github.io/xqtl-pipeline/code/data_preprocessing/phenotype_preprocessing.html)\n",
    "2. [Genotype data munging](https://cumc.github.io/xqtl-pipeline/code/data_preprocessing/genotype_preprocessing.html)\n",
    "3. [Covariates data munging](https://cumc.github.io/xqtl-pipeline/code/data_preprocessing/covariate_preprocessing.html)\n",
    "4. [cis-QTL association testing](https://cumc.github.io/xqtl-pipeline/code/association_scan/cisQTL_scan.html)\n",
    "5. [trans-QTL association testing](https://cumc.github.io/xqtl-pipeline/code/association_scan/transQTL_scan.html)"
   ]
  },
  {
   "cell_type": "markdown",
   "id": "479cb9f9-25b4-4d07-9d42-b95d2c042941",
   "metadata": {
    "kernel": "SoS",
    "tags": []
   },
   "source": [
    "## Data \n",
    "\n",
    "The input data and some of the intermediate output data can be download from [this Synapse folder](https://www.synapse.org/#!Synapse:syn36416601). To download the files, a synapse account and synapse clients are both needed. To setup a synapse client, please follow [this post](https://help.synapse.org/docs/Installing-Synapse-API-Clients.1985249668.html)."
   ]
  },
  {
   "cell_type": "markdown",
   "id": "2336d7dd-3286-4af4-9379-bd5ab0bc2f68",
   "metadata": {
    "kernel": "SoS",
    "tags": []
   },
   "source": [
    "## Software Enviorments (To be updated)"
   ]
  }
 ],
 "metadata": {
  "kernelspec": {
   "display_name": "Bash",
   "language": "bash",
   "name": "bash"
  },
  "language_info": {
   "codemirror_mode": "shell",
   "file_extension": ".sh",
   "mimetype": "text/x-sh",
   "name": "bash"
  },
  "sos": {
   "kernels": [
    [
     "SoS",
     "sos",
     "",
     ""
    ]
   ],
   "version": "0.22.6"
  }
 },
 "nbformat": 4,
 "nbformat_minor": 5
}
