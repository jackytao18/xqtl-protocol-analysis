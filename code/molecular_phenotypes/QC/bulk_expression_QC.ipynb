{
 "cells": [
  {
   "cell_type": "markdown",
   "id": "damaged-entrepreneur",
   "metadata": {
    "kernel": "SoS"
   },
   "source": [
    "# Sample level RNA-seq quality control\n",
    "\n",
    "This pipeline implements RNA-seq QC that identifies and removes genes and samples from the TPM matrix."
   ]
  },
  {
   "cell_type": "markdown",
   "id": "shaped-reggae",
   "metadata": {
    "kernel": "SoS"
   },
   "source": [
    "## Methods overview\n",
    "\n",
    "### GTEx V8 QC procedures\n",
    "\n",
    "From https://gtexportal.org/home/documentationPage#staticTextAnalysisMethods : \n",
    "\n",
    "\n",
    "1. RNA-seq expression outliers were identified and excluded using a multidimensional extension of the statistic described in (Wright et al., Nat. Genet. 2014 ). Briefly, for each tissue, read counts from each sample were normalized using size factors calculated with DESeq2 and log-transformed with an offset of 1; genes with a log-transformed value >1 in >10% of samples were selected, and the resulting read counts were centered and unit-normalized. The resulting matrix was then hierarchically clustered (based on average and cosine distance), and a chi2 p-value was calculated based on Mahalanobis distance. Clusters with ≥60% samples with Bonferroni-corrected p-values <0.05 were marked as outliers, and their samples were excluded.\n",
    "2. Samples with <10 million mapped reads were removed.\n",
    "3. Genes were selected based on expression thresholds of >0.1 TPM in at least 20% of samples and ≥6 reads in at least 20% of samples. \n",
    "\n",
    "### Our implementation\n",
    "\n",
    "For #1 and #2 above because the GTEx source code is not available, we adopted [some R scripts developed in this paper](https://bmcbioinformatics.biomedcentral.com/articles/10.1186/s12859-021-04307-0) to perform gene and sample QC using TPM data, which we implements GTEx recommendations. #3 above is implemented in the gene expression normalization module.\n",
    "\n",
    "\n",
    "## Three statistics to identify outliers\n",
    "\n",
    "### RLE\n",
    "\n",
    "RLE(Relative Log Expression)is assume that most expressions in a sample should be near a mean value, only a few genes have differential expression, which means higher or lower than other genes. To calculate it, for each gene *i* , calculate it median in *N* sample as *Medi* , for each sample *j* , and expression value *eij*, count the difference between *eij* and *Medi* : *deij = eij-Medi* , than boxplot each sample base on *deij* and sort by IQR(interquartile range), the sample with lager IQR is more likely to be an outlier. \n",
    "\n",
    "### Hierarchical clustering\n",
    "\n",
    "We use(1 - spearman's correlation) as distances between samples and assume samples should be homogeneous, so all samples should have short distances between others and clustered homogeneously. So samples far away others may be outliers. So we first use distances which is 1-spearmen correlation to hierarchically clustered, than use top 100 gene sort by variance to calculate Mahalanobis Distance, then a chi2 p-value will be calculated based on mahalanobis distance. Then clusters with $ \\geq 60\\%$ samples with Bonferroni-corrected p-values < 0.05 were marked as outliers.\n",
    "\n",
    "### D-statistic\n",
    "\n",
    "For each sample, D-statistic represent the average correlation between its expression and other samples. A sample with lower D-statistic is more likely to be an outlier.\n",
    "\n"
   ]
  },
  {
   "cell_type": "markdown",
   "id": "printable-deposit",
   "metadata": {
    "kernel": "SoS",
    "name": "setup",
    "tags": [
     "remove_cell"
    ]
   },
   "source": [
    "## Input\n",
    "\n",
    "Gene expression in TPM. A data table with gene ID as first column and each sample ID as a subsquent columns.\n",
    "\n",
    "## Output\n",
    "\n",
    "1. A set of three diagnostic plots from each of the outlier detection method\n",
    "2. A TPM file with low expression genes, samples with missing data, and outliers removed\n",
    "3. Raw gene count file will also be processed to remove the same individuals and genes, as determined by the QC on TPM data."
   ]
  },
  {
   "cell_type": "markdown",
   "id": "cultural-helicopter",
   "metadata": {
    "kernel": "SoS"
   },
   "source": [
    "## Minimal working example\n",
    "\n",
    "The MWE data can be found on [Google Drive](https://drive.google.com/drive/u/0/folders/1Rv2bWHBbX_tastTh49ToYVDMV6rFP5Wk)"
   ]
  },
  {
   "cell_type": "code",
   "execution_count": null,
   "id": "instrumental-interval",
   "metadata": {
    "kernel": "Bash"
   },
   "outputs": [],
   "source": [
    "sos run bulk_expression_QC.ipynb qc \\\n",
    "    --cwd output \\\n",
    "    --tpm-gct data/mwe.TPM.gct.gz \\\n",
    "    --counts-gct data/mwe.Counts.gct.gz \\\n",
    "    --container container/rna_quantification.sif"
   ]
  },
  {
   "cell_type": "code",
   "execution_count": null,
   "id": "imposed-intervention",
   "metadata": {
    "kernel": "Bash"
   },
   "outputs": [],
   "source": [
    "head output/mwe.low_expression_filtered.log"
   ]
  },
  {
   "cell_type": "markdown",
   "id": "featured-berry",
   "metadata": {
    "kernel": "Bash"
   },
   "source": [
    "```\n",
    "[1] \"Gene expression profiles loaded successfully!\"\n",
    "[1] \"19 genes and 1118 samples are loaded from data/mwe.TPM.gct\"\n",
    "[1] \"0 genes are filtered, because > 20 % samples have expression values < 0.1\"\n",
    "[1] \"19 genes left, saving output.\"\n",
    "```"
   ]
  },
  {
   "cell_type": "code",
   "execution_count": null,
   "id": "planned-railway",
   "metadata": {
    "kernel": "Bash"
   },
   "outputs": [],
   "source": [
    "cat output/mwe.low_expression_filtered.outlier_removed.log"
   ]
  },
  {
   "cell_type": "code",
   "execution_count": null,
   "id": "hollow-arthritis",
   "metadata": {
    "kernel": "Bash"
   },
   "outputs": [],
   "source": [
    "ls output/*.pdf"
   ]
  },
  {
   "cell_type": "markdown",
   "id": "after-repeat",
   "metadata": {
    "kernel": "Bash"
   },
   "source": [
    "```\n",
    "output/mwe.low_expression_filtered.outlier_removed.tpm.gct.cluster.pdf  output/mwe.low_expression_filtered.outlier_removed.tpm.gct.D_stat_hist.pdf  output/mwe.low_expression_filtered.outlier_removed.tpm.gct.preQC_cluster.pdf  output/mwe.low_expression_filtered.outlier_removed.tpm.gct.RLEplot.pdf\n",
    "```"
   ]
  },
  {
   "cell_type": "markdown",
   "id": "intimate-manhattan",
   "metadata": {
    "kernel": "SoS"
   },
   "source": [
    "## Command interface"
   ]
  },
  {
   "cell_type": "code",
   "execution_count": 1,
   "id": "native-lingerie",
   "metadata": {
    "kernel": "Bash"
   },
   "outputs": [
    {
     "name": "stdout",
     "output_type": "stream",
     "text": [
      "usage: sos run bulk_expression_QC.ipynb\n",
      "               [workflow_name | -t targets] [options] [workflow_options]\n",
      "  workflow_name:        Single or combined workflows defined in this script\n",
      "  targets:              One or more targets to generate\n",
      "  options:              Single-hyphen sos parameters (see \"sos run -h\" for details)\n",
      "  workflow_options:     Double-hyphen workflow-specific parameters\n",
      "\n",
      "Workflows:\n",
      "  qc\n",
      "\n",
      "Global Workflow Options:\n",
      "  --tpm-gct VAL (as path, required)\n",
      "                        Required input is TPM file\n",
      "  --counts-gct . (as path)\n",
      "                        Raw counts file is optional and if available, it will be\n",
      "                        filtered to match with the TPM file sample and genes\n",
      "  --cwd output (as path)\n",
      "  --container ''\n",
      "\n",
      "Sections\n",
      "  qc_1:\n",
      "    Workflow Options:\n",
      "      --low-expr-TPM 0.1 (as float)\n",
      "      --low-expr-TPM-percent 0.2 (as float)\n",
      "  qc_2:\n",
      "    Workflow Options:\n",
      "      --RLEFilterPercent 0.05 (as float)\n",
      "      --DSFilterPercent 0.05 (as float)\n",
      "      --topk-genes 100 (as int)\n",
      "      --cluster-percent 0.6 (as float)\n",
      "      --pvalue-cutoff 0.05 (as float)\n",
      "      --cluster-level 5 (as int)\n",
      "  qc_3:\n"
     ]
    }
   ],
   "source": [
    "sos run bulk_expression_QC.ipynb -h"
   ]
  },
  {
   "cell_type": "markdown",
   "id": "entitled-increase",
   "metadata": {
    "kernel": "Bash"
   },
   "source": [
    "## Workflow implementation"
   ]
  },
  {
   "cell_type": "code",
   "execution_count": 2,
   "id": "packed-argentina",
   "metadata": {
    "kernel": "SoS",
    "tags": []
   },
   "outputs": [],
   "source": [
    "[global]\n",
    "# Required input is TPM file\n",
    "parameter: tpm_gct = path\n",
    "# Raw counts file is optional and if available, it will be filtered to match with the TPM file sample and genes\n",
    "parameter: counts_gct = path()\n",
    "parameter: cwd = path(\"output\")\n",
    "parameter: container = \"\"\n",
    "cwd = path(f'{cwd:a}')\n",
    "# For cluster jobs, number commands to run per job\n",
    "parameter: job_size = 1\n",
    "# Wall clock time expected\n",
    "parameter: walltime = \"5h\"\n",
    "# Memory expected\n",
    "parameter: mem = \"16G\"\n",
    "\n",
    "# Number of threads\n",
    "parameter: numThreads = 8"
   ]
  },
  {
   "cell_type": "code",
   "execution_count": 1,
   "id": "broken-diabetes",
   "metadata": {
    "kernel": "SoS"
   },
   "outputs": [],
   "source": [
    "[qc_1 (basic check and low expression filtering)]\n",
    "parameter: low_expr_TPM = 0.1\n",
    "parameter: low_expr_TPM_percent = 0.2\n",
    "input: tpm_gct\n",
    "output: f'{cwd}/{_input:bnnn}.low_expression_filtered.tpm.gct.gz'\n",
    "task: trunk_workers = 1, trunk_size = job_size, walltime = walltime, mem = mem, cores = numThreads\n",
    "R: expand = \"$[ ]\", stderr = f'{_output:nnn}.stderr', stdout = f'{_output:nnn}.log',container = container \n",
    "    # Load packages\n",
    "    library(dplyr)\n",
    "    library(readr)\n",
    "    library(tibble)\n",
    "    library(purrr)\n",
    "    ## Setting inputs\n",
    "    low_expr_TPM <- $[low_expr_TPM]\n",
    "    low_expr_TPM_percent <- $[low_expr_TPM_percent]\n",
    "    ## QC\n",
    "    ### Data integrity check. The input file should has sample ID as column name; the first column is gene ID\n",
    "    TPM_data <- read_tsv($[_input:ar], col_names = TRUE, comment = \"#\")%>%as.data.frame()\n",
    "    names(TPM_data)[1] <- \"feature\"\n",
    "    if( sum(duplicated(TPM_data$feature)) > 0){\n",
    "      message(\"feature (e.g. gene names) should be in the first column. Please remove duplicated feature IDs, Exit!\")\n",
    "      quit(save = \"no\", status = 1, runLast = FALSE)\n",
    "    }else{\n",
    "      rownames(TPM_data) <- TPM_data$feature\n",
    "      TPM_data = TPM_data[,-1]\n",
    "      loaded_sample_count <- ncol(TPM_data)\n",
    "    }\n",
    "    #### NA check\n",
    "    if(sum(is.na(TPM_data)) > 0 ){      \n",
    "      message(paste0(\"NA is not allowed in the data, there are \",sum(is.na(TPM_data)),\" NAs, Exit!\"))\n",
    "      quit(save = \"no\", status = 1, runLast = FALSE)}\n",
    "    #### make sure every expr column is in numeric type\n",
    "    matrix_check <- map(TPM_data, is.numeric) %>% unlist\n",
    "    if(sum(!matrix_check) > 0){\n",
    "      message(\"The following column(s) in expression matrix is/are NOT in numeric type. Plese check, Proceed by excluding those samples\")\n",
    "      message(paste(names(matrix_check)[!matrix_check], collapse = \"; \"))\n",
    "      TPM_data = TPM_data[,matrix_check]\n",
    "    }\n",
    "    message(\"Gene expression profiles loaded successfully!\")\n",
    "    message(paste(nrow(TPM_data), \"genes and\", ncol(TPM_data), \"samples are loaded from\", $[_input:r], sep = \" \"))\n",
    "    \n",
    "    #### Filter out low exp genes\n",
    "    keep_genes_idx <- (rowMeans(TPM_data>low_expr_TPM)>low_expr_TPM_percent) \n",
    "    TPM_data = TPM_data[keep_genes_idx,]\n",
    "    message(paste(sum(1 - keep_genes_idx), \"genes are filtered by filter: >\", low_expr_TPM_percent*100, \"% samples have expression values <\", low_expr_TPM))\n",
    "    message(paste(sum(keep_genes_idx), \"genes left, saving output to $[_output].\"))\n",
    "    TPM_data%>%as_tibble(rownames = \"gene_ID\")%>%write_delim(\"$[_output]\",\"\\t\")"
   ]
  },
  {
   "cell_type": "markdown",
   "id": "classical-husband",
   "metadata": {
    "kernel": "SoS"
   },
   "source": [
    "**CAUTION: I (GW) am not sure what to do with the offset for log-transformation on TPM. GTEx suggests using offset = 1. Here I keep the recommendation from [these authors](https://github.com/stormlovetao/eQTLQC/blob/master/Sample/src/report.Rmd) where both 0.0001 and 1 were used in different steps.**"
   ]
  },
  {
   "cell_type": "code",
   "execution_count": null,
   "id": "traditional-trance",
   "metadata": {
    "kernel": "SoS"
   },
   "outputs": [],
   "source": [
    "[qc_2 (remove outliers)]\n",
    "parameter: RLEFilterPercent = 0.05\n",
    "parameter: DSFilterPercent = 0.05\n",
    "parameter: topk_genes = 100\n",
    "parameter: cluster_percent = 0.6\n",
    "parameter: pvalue_cutoff = 0.05\n",
    "parameter: cluster_level = 5\n",
    "output: f'{cwd}/{_input:bnnn}.outlier_removed.tpm.gct.gz'\n",
    "task: trunk_workers = 1, trunk_size = job_size, walltime = walltime, mem = mem, cores = numThreads\n",
    "R: expand = \"$[ ]\", stderr = f'{_output:nnn}.stderr', stdout = f'{_output:nnn}.log', container = container \n",
    "    library(RColorBrewer)\n",
    "    library(ape)\n",
    "    library(reshape2)\n",
    "    library(dplyr)\n",
    "    library(readr)\n",
    "    ## Setting parameters\n",
    "    RLEFilterPercent <-$[RLEFilterPercent]\n",
    "    DSFilterPercent <- $[DSFilterPercent]\n",
    "    ### Hcluster parameter\n",
    "    pvalues.cut <- $[pvalue_cutoff]\n",
    "    topk_genes <- $[topk_genes]\n",
    "    cluster_percent <- $[cluster_percent]\n",
    "    treesNum <- $[cluster_level]\n",
    "    ## Define functions to accomodate rank deficient covariance matrices in https://github.com/cumc/xqtl-pipeline/issues/307\n",
    "    mahalanobis = function (x, center, cov, inverted = FALSE, ...) \n",
    "        {\n",
    "            x <- if (is.vector(x)) \n",
    "                matrix(x, ncol = length(x))\n",
    "            else as.matrix(x)\n",
    "            if (!isFALSE(center)) \n",
    "                x <- sweep(x, 2L, center)\n",
    "            if (!inverted) \n",
    "                cov <- MASS::ginv(cov, ...)\n",
    "            setNames(rowSums(x %*% cov * x), rownames(x))\n",
    "        }\n",
    "          \n",
    "    ## laod Data\n",
    "    TPM_data <- read_tsv($[_input:ar], col_names = TRUE, comment = \"#\")%>%as.data.frame()\n",
    "    rownames(TPM_data) <- TPM_data$gene_ID\n",
    "    TPM_data = TPM_data[,-1]\n",
    "    RLEFilterLength <- RLEFilterPercent*ncol(TPM_data)\n",
    "    DSFilter <- DSFilterPercent*ncol(TPM_data)\n",
    "  \n",
    "    ## Outlier detection\n",
    "  \n",
    "    ### RLE\n",
    "    # https://github.com/stormlovetao/eQTLQC/blob/86dcc388c8da7f1bd5b223f4b9b26f09c907eb15/Sample/src/report.Rmd#L71\n",
    "    log_offset <- 0.0001\n",
    "    logtpm = log10(TPM_data%>%as.matrix + log_offset)\n",
    "    rle=logtpm-apply(logtpm, 1, median) # change \"/\" to \"-\" so that we got log(fold-change) which centered on 0 on the RLE plot.\n",
    "    iqr = apply(rle,2,IQR)\n",
    "    rle=melt( rle , variable.name = \"Sample\",value.name =\"TPM\", id=\"feature\")\n",
    "    names(rle) <- c(\"feature\",\"Sample\",\"TPM\")\n",
    "    rle_IQR <- rle %>% group_by(Sample) %>% summarise(IQR = IQR(TPM))\n",
    "    rle_IQR_range <- rle_IQR$IQR %>% range %>% abs() %>% max()\n",
    "    rle_IQR_range <- 2*rle_IQR_range %>% ceiling()\n",
    "    bymedian <- with(rle, reorder(Sample, TPM, IQR))  # sort by IQR\n",
    "    par(mar=c(3,3,3,3))\n",
    "    pdf(file = \"$[_output:n].RLEplot.pdf\")\n",
    "    boxplot(TPM ~ bymedian, data=rle, outline=F, ylim = c(-rle_IQR_range, rle_IQR_range), las=2, boxwex=1, col='gray', cex.axis=0.3, main=\"RLE plot before QC\", xlab=\"\", ylab=\"Residual expression levels\", frame=F)\n",
    "    dev.off()\n",
    "    ExpPerSample <- nrow(TPM_data)\n",
    "    RLEFilterList <- unique(bymedian[((length(bymedian)-ExpPerSample*RLEFilterLength)+1):length(bymedian)]) #filtered\n",
    "    RLEFilterList <- as.character(RLEFilterList)\n",
    "    message(paste0(\"The right most \", RLEFilterPercent*100, \"% samples (N = \", length(RLEFilterList), \") are marked as candidate outliers in this step:\") )\n",
    "    message(RLEFilterList)\n",
    "\n",
    "    ### hcluster  \n",
    "    sampleDists <- 1 - cor(logtpm, method='spearman')\n",
    "    hc <- hclust(as.dist(sampleDists), method = \"complete\")\n",
    "    hcphy <- as.phylo(hc)\n",
    "  \n",
    "    pdf(file = \"$[_output:n].preQC_cluster.pdf\")\n",
    "    plot(hcphy, type = \"unrooted\", cex=.2, lab4ut='axial',underscore = T, main=\"Sample clustering before QC (Spearman - Cor.)\")\n",
    "    dev.off()\n",
    "    # https://github.com/stormlovetao/eQTLQC/blob/86dcc388c8da7f1bd5b223f4b9b26f09c907eb15/Sample/src/report.Rmd#L102\n",
    "    log_offset <- 1\n",
    "    logtpm = log10(TPM_data%>%as.matrix + log_offset)\n",
    "    ntop <- topk_genes\n",
    "    Pvars <- apply(logtpm, 1, var)\n",
    "    select <- order(Pvars, decreasing =TRUE)[seq_len(min(ntop, length(Pvars)))]\n",
    "    MD_matrix <- logtpm[select, ]\n",
    "    MahalanobisDistance = mahalanobis(t(MD_matrix), colMeans(t(MD_matrix)), cov(t(MD_matrix))) \n",
    "    # Note: t(MD_matrix)=sample_row*gene_column, Manhalanobis() returns one vector with length=row number\n",
    "    pvalues = pchisq(MahalanobisDistance, df=nrow(MD_matrix), lower.tail=F)\n",
    "    pvalues.adjust = p.adjust(pvalues, method =\"bonferroni\") # adjusted pvalues for each sample\n",
    "    pvalues.low <- pvalues.adjust[pvalues.adjust<pvalues.cut]\n",
    "    \n",
    "    HCoutliers <- character()\n",
    "    for(x in c(1:treesNum)){\n",
    "      trees <- cutree(hc,k=x)\n",
    "      idx <- c(1:x)#which tree is checking\n",
    "      for(i in idx)\n",
    "      {\n",
    "        group <- hc$labels[which(trees == i)]\n",
    "        if(sum(group %in% names(pvalues.low))/length(group) >= cluster_percent)\n",
    "        {\n",
    "          HCoutliers <- union(HCoutliers,group)\n",
    "        }\n",
    "      }\n",
    "    }\n",
    "    \n",
    "    message(paste(length(HCoutliers), \"samples are marked as candidate outlier(s) in this step.\", sep = \" \"))\n",
    "    if(length(HCoutliers)>0){\n",
    "      message(\"Sample outliers are marked in red as follows:\")\n",
    "      message(HCoutliers)\n",
    "      co1 = hc$labels%in%HCoutliers\n",
    "      co1[which(co1 == \"FALSE\")]<-\"gray0\"\n",
    "      co1[which(co1 == \"TRUE\")]<-\"red\"\n",
    "      par(mar=c(3,3,3,3))\n",
    "  \n",
    "    pdf(file = \"$[_output:n].cluster.pdf\")\n",
    "    plot(hcphy, tip.col = co1, type = \"unrooted\", cex=.2, lab4ut='axial',underscore = T, main=\"Label Outliers in Red\")\n",
    "    Xcol = c(\"gray0\", \"red\")\n",
    "    Xtext = c(\"Normal Sample\", \"Outliers\")\n",
    "    legend('bottomleft',pch=21,Xtext, col='white',pt.bg=Xcol, cex=1)\n",
    "    dev.off()\n",
    "    }else{\n",
    "      message(\"No outlier detected.\")\n",
    "    }\n",
    "    \n",
    "    ### D-s\n",
    "    D = apply(1-sampleDists, 1, median)\n",
    "    pdf(file = \"$[_output:n].D_stat_hist.pdf\")\n",
    "    hist(D, breaks=100, ylab=\"Number of samples\", xlab=\"D-statistic\", main=\"Histogram of Sample D-statistics before data QC\")\n",
    "    dev.off()\n",
    "    \n",
    "    DSFilter <- sort(D)[DSFilter]\n",
    "    D<-as.data.frame(D)\n",
    "    D<-data.frame(Sample = rownames(D),D = D$D)\n",
    "    D_filterList = D%>%filter(D <= DSFilter)\n",
    "    D_filterList <- D_filterList$Sample\n",
    "    D_filterList<-as.character(D_filterList)\n",
    "    message(paste0(\"The right most \", DSFilterPercent*100, \"% samples (N=\", length(D_filterList), \") are marked as candidate outliers in this step:\") )\n",
    "    message(D_filterList)\n",
    "    \n",
    "    ## Outliers are the intersect of three candidates list\n",
    "    outliersList <- intersect(RLEFilterList,intersect(HCoutliers,D_filterList))\n",
    "    message(\"Outliers:\")\n",
    "    message(outliersList)\n",
    "    outliersIndex <- which(colnames(logtpm) %in% outliersList)\n",
    "    if(!length(outliersIndex) == 0){\n",
    "        TPM_data <- TPM_data[,-outliersIndex]\n",
    "    }\n",
    "    ## Add 2 header lines, https://github.com/getzlab/rnaseqc/blob/286f99dfd4164d33014241dd4f3149da0cddf5bf/src/RNASeQC.cpp#L426\n",
    "    cat(paste(\"#1.2\\n#\", nrow(TPM_data), ncol(TPM_data) - 2, \"\\n\"), file=$[_output:nr], append=FALSE)\n",
    "    TPM_data%>%as_tibble(rownames = \"gene_ID\")%>%write_delim($[_output:nr],delim = \"\\t\",col_names = T, append = T)\n",
    "  \n",
    "bash: expand = \"$[ ]\", stderr = f'{_output:nnn}.stderr', stdout = f'{_output:nnn}.log', container = container\n",
    "    gzip -f --best $[_output:n]"
   ]
  },
  {
   "cell_type": "markdown",
   "id": "lucky-edward",
   "metadata": {
    "kernel": "SoS"
   },
   "source": [
    "Additional formatting:\n",
    "\n",
    "1. Filter out the geneCount table based on TPM table.\n",
    "2. Adds two comment lines above the header of TPM and geneCount table to mimick the original output from RNASeQC."
   ]
  },
  {
   "cell_type": "code",
   "execution_count": null,
   "id": "dental-scheduling",
   "metadata": {
    "kernel": "SoS"
   },
   "outputs": [],
   "source": [
    "[qc_3 (remove gene and samples from raw counts)]\n",
    "stop_if(not counts_gct.is_file())\n",
    "output: f'{cwd}/{_input:bnnn}.geneCount.gct.gz'\n",
    "task: trunk_workers = 1, trunk_size = job_size, walltime = walltime, mem = mem, cores = numThreads\n",
    "R: expand = \"$[ ]\", stderr = f'{_output:nn}.stderr', stdout = f'{_output:nn}.stdout', container = container\n",
    "    library(\"dplyr\")\n",
    "    library(\"readr\")\n",
    "    # Reason to use read.table: 1.accomodate both \" \" and \"\\t\"\n",
    "    tpm = read_delim($[_input:ar], \"\\t\", col_names = T, comment = \"#\")\n",
    "    geneCount = read_delim($[counts_gct:ar], \"\\t\" ,col_names = T, comment = \"#\")\n",
    "    ## Make geneCount consistant with tpm, remove gene by filter() and remove samples by select()\n",
    "    geneCount = geneCount%>%filter(gene_ID %in% tpm$gene_ID)%>%select(colnames(tpm))\n",
    "    ## Add 2 header lines, https://github.com/getzlab/rnaseqc/blob/286f99dfd4164d33014241dd4f3149da0cddf5bf/src/RNASeQC.cpp#L426\n",
    "    cat(paste(\"#1.2\\n#\", nrow(geneCount), ncol(geneCount) - 2, \"\\n\"), file=$[_output:nr], append=FALSE)\n",
    "    ## Save each file with 3 header line\n",
    "    geneCount%>%write_delim($[_output:nr],delim = \"\\t\",col_names = T, append = T)\n",
    "\n",
    "bash: expand = \"$[ ]\", stderr = f'{_output:nnn}.stderr', stdout = f'{_output:nnn}.log', container = container\n",
    "    gzip -f --best $[_output:n]"
   ]
  }
 ],
 "metadata": {
  "jupytext": {
   "cell_metadata_filter": "warning,tags,message,name,-all",
   "main_language": "R",
   "notebook_metadata_filter": "-all"
  },
  "kernelspec": {
   "display_name": "SoS",
   "language": "sos",
   "name": "sos"
  },
  "language_info": {
   "codemirror_mode": "sos",
   "file_extension": ".sos",
   "mimetype": "text/x-sos",
   "name": "sos",
   "nbconvert_exporter": "sos_notebook.converter.SoS_Exporter",
   "pygments_lexer": "sos"
  },
  "sos": {
   "kernels": [
    [
     "Bash",
     "bash",
     "Bash",
     "#E6EEFF",
     "shell"
    ],
    [
     "SoS",
     "sos",
     "",
     "",
     "sos"
    ]
   ],
   "version": "0.22.6"
  }
 },
 "nbformat": 4,
 "nbformat_minor": 5
}
