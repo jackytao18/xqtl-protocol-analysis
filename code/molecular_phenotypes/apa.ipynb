{
 "cells": [
  {
   "cell_type": "markdown",
   "id": "63ec91b2-4b97-4384-b4ec-5e6a3837604b",
   "metadata": {
    "kernel": "SoS",
    "tags": []
   },
   "source": [
    "# Alternative polyadenylation\n",
    "\n",
    "This document shows the use of various modules to prepare reference data, perform APA calling, Peer correction and imputation. In particular,\n",
    "\n",
    "* apa_calling.ipynb\n",
    "\n",
    "* PEER_factor.ipynb\n",
    "\n",
    "A minimal working example is available on [Google Drive](https://drive.google.com/drive/u/0/folders/1H6PfQjU44Sk0NEz_l_qzsP0Bqai2jv2_).\n",
    "\n",
    "## Prerequisite\n",
    "\n",
    "Make sure you have the comprehensive gene annotation files on the reference chromosomes (gtf). \n",
    "\n",
    "## Generate the 3'UTR region"
   ]
  },
  {
   "cell_type": "code",
   "execution_count": null,
   "id": "c6399406-39d3-48f5-a536-c6bf2aa71de7",
   "metadata": {
    "kernel": "SoS"
   },
   "outputs": [],
   "source": [
    "sos run /mnt/mfs/statgen/ls3751/github/xqtl-pipeline/code/molecular_phenotypes/calling/apa_calling.ipynb UTR_reference \\\n",
    "    --cwd /mnt/mfs/statgen/ls3751/MWE_dapars2/Output \\\n",
    "    --hg_gtf /mnt/mfs/statgen/ls3751/MWE_dapars2/gencode.v39.annotation.gtf \\\n",
    "    --container /mnt/mfs/statgen/ls3751/container/dapars2_final.sif"
   ]
  },
  {
   "cell_type": "markdown",
   "id": "ac7ab209-5d16-4bbf-b2c8-593956499bb9",
   "metadata": {
    "kernel": "SoS"
   },
   "source": [
    "## Convert bam files into wig files and flagstate files"
   ]
  },
  {
   "cell_type": "code",
   "execution_count": null,
   "id": "8ef74063-4fa4-49a0-a35f-78b6f835972a",
   "metadata": {
    "kernel": "SoS"
   },
   "outputs": [],
   "source": [
    "sos run /mnt/mfs/statgen/ls3751/github/xqtl-pipeline/code/molecular_phenotypes/calling/apa_calling.ipynb bam2tools \\\n",
    "    --n 0 1 2 3 4 5 6 7 8 \\\n",
    "    --container /mnt/mfs/statgen/ls3751/container/dapars2_final.sif"
   ]
  },
  {
   "cell_type": "markdown",
   "id": "a56bfd39-a152-439a-8b2f-0a548e8c10ec",
   "metadata": {
    "kernel": "SoS"
   },
   "source": [
    "## Compile config files"
   ]
  },
  {
   "cell_type": "code",
   "execution_count": null,
   "id": "17445030-9434-44d4-b400-a2fba2c6710a",
   "metadata": {
    "kernel": "SoS"
   },
   "outputs": [],
   "source": [
    "sos run /mnt/mfs/statgen/ls3751/github/xqtl-pipeline/code/molecular_phenotypes/calling/apa_calling.ipynb APAconfig \\\n",
    "    --cwd /mnt/mfs/statgen/ls3751/rosmap/dlpfcTissue/batch0 \\\n",
    "    --bfile /mnt/mfs/statgen/ls3751/rosmap/dlpfcTissue/batch0 \\\n",
    "    --annotation /mnt/mfs/statgen/ls3751/MWE_dapars2/Output/gencode.v39.annotation_3UTR.bed \\\n",
    "    --container /mnt/mfs/statgen/ls3751/container/dapars2_final.sif"
   ]
  },
  {
   "cell_type": "markdown",
   "id": "0a78154d-7fdc-4d37-ae71-20a07748b24f",
   "metadata": {
    "kernel": "SoS"
   },
   "source": [
    "## Use Dapars2 to quantify APA events"
   ]
  },
  {
   "cell_type": "code",
   "execution_count": null,
   "id": "269cf67e-61ab-40f8-b19a-19a0d41eda90",
   "metadata": {
    "kernel": "SoS"
   },
   "outputs": [],
   "source": [
    "sos run /mnt/mfs/statgen/ls3751/github/xqtl-pipeline/code/molecular_phenotypes/calling/apa_calling.ipynb APAmain \\\n",
    "    --cwd /mnt/mfs/statgen/ls3751/rosmap/dlpfcTissue/batch0 \\\n",
    "    --chrlist chr21 chr14 chr1 \\\n",
    "    --container /mnt/mfs/statgen/ls3751/container/dapars2_final.sif"
   ]
  },
  {
   "cell_type": "markdown",
   "id": "35b13ac5-39fa-4de0-9f05-c2c225617773",
   "metadata": {
    "kernel": "SoS"
   },
   "source": [
    "## Use PEER to estimate cofounders "
   ]
  },
  {
   "cell_type": "code",
   "execution_count": null,
   "id": "4745330d-af96-45a7-9085-0dbf588cea4c",
   "metadata": {
    "kernel": "SoS"
   },
   "outputs": [],
   "source": [
    "sos run PEER_factor.ipynb PEER \\\n",
    "    --cwd output \\\n",
    "    --phenoFile AC.mol_phe.annotated.bed.gz \\\n",
    "    --covFile output/AC.APEX.pca.cov.gz \\\n",
    "    --name demo -N 3 \\\n",
    "    --container PEER.sif"
   ]
  },
  {
   "cell_type": "markdown",
   "id": "4a4f2a0d-9c3b-4fea-84fe-ed29c2874b12",
   "metadata": {
    "kernel": "SoS"
   },
   "source": [
    "## Impute missing values and quality check"
   ]
  },
  {
   "cell_type": "code",
   "execution_count": null,
   "id": "0e165f85-c359-41e1-a833-50596b14ed70",
   "metadata": {
    "kernel": "SoS"
   },
   "outputs": [],
   "source": [
    "sos run /mnt/mfs/statgen/ls3751/github/xqtl-pipeline/pipeline/molecular_phenotypes/calling/apa_calling.ipynb APAimpute \\\n",
    "    --cwd /mnt/mfs/statgen/ls3751/MWE_dapars2/Output \\\n",
    "    --cov /data/example.cov.txt\n",
    "    --chrlist chr1 \\\n",
    "    --container /mnt/mfs/statgen/ls3751/container/dapars2.sif"
   ]
  }
 ],
 "metadata": {
  "kernelspec": {
   "display_name": "SoS",
   "language": "sos",
   "name": "sos"
  },
  "language_info": {
   "codemirror_mode": "sos",
   "file_extension": ".sos",
   "mimetype": "text/x-sos",
   "name": "sos",
   "nbconvert_exporter": "sos_notebook.converter.SoS_Exporter",
   "pygments_lexer": "sos"
  },
  "sos": {
   "kernels": [
    [
     "SoS",
     "sos",
     "",
     ""
    ]
   ],
   "version": "0.22.9"
  }
 },
 "nbformat": 4,
 "nbformat_minor": 5
}
