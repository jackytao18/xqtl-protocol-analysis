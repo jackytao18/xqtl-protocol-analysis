{
 "cells": [
  {
   "cell_type": "markdown",
   "id": "monthly-offer",
   "metadata": {
    "kernel": "SoS",
    "tags": []
   },
   "source": [
    "# Methylation"
   ]
  },
  {
   "cell_type": "markdown",
   "id": "supreme-fighter",
   "metadata": {
    "kernel": "SoS"
   },
   "source": [
    "## Quantification of methylation data\n",
    "\n",
    "`code/molecular_phenotypes/calling/methylation_calling.ipynb`"
   ]
  }
 ],
 "metadata": {
  "kernelspec": {
   "display_name": "Bash",
   "language": "bash",
   "name": "bash"
  },
  "language_info": {
   "codemirror_mode": "shell",
   "file_extension": ".sh",
   "mimetype": "text/x-sh",
   "name": "bash"
  },
  "sos": {
   "kernels": [
    [
     "Bash",
     "bash",
     "Bash",
     "#E6EEFF",
     "shell"
    ],
    [
     "SoS",
     "sos",
     "",
     "",
     "sos"
    ]
   ],
   "version": "0.22.6"
  }
 },
 "nbformat": 4,
 "nbformat_minor": 5
}
