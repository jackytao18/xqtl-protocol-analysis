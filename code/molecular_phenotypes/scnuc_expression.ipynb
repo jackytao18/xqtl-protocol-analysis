{
 "cells": [
  {
   "cell_type": "markdown",
   "id": "maritime-temple",
   "metadata": {
    "kernel": "SoS"
   },
   "source": [
    "# scRNA-seq expression calling"
   ]
  },
  {
   "cell_type": "markdown",
   "id": "spanish-friday",
   "metadata": {
    "kernel": "SoS"
   },
   "source": [
    "Coming up soon"
   ]
  },
  {
   "cell_type": "code",
   "execution_count": null,
   "id": "communist-paintball",
   "metadata": {
    "kernel": "SoS"
   },
   "outputs": [],
   "source": []
  }
 ],
 "metadata": {
  "kernelspec": {
   "display_name": "SoS",
   "language": "sos",
   "name": "sos"
  },
  "language_info": {
   "codemirror_mode": "sos",
   "file_extension": ".sos",
   "mimetype": "text/x-sos",
   "name": "sos",
   "nbconvert_exporter": "sos_notebook.converter.SoS_Exporter",
   "pygments_lexer": "sos"
  },
  "sos": {
   "kernels": [
    [
     "SoS",
     "sos",
     "",
     ""
    ]
   ],
   "version": "0.22.4"
  }
 },
 "nbformat": 4,
 "nbformat_minor": 5
}
