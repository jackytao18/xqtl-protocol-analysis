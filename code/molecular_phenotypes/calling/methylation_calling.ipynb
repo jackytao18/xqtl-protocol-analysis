{
 "cells": [
  {
   "cell_type": "markdown",
   "id": "monthly-offer",
   "metadata": {
    "kernel": "SoS",
    "tags": []
   },
   "source": [
    "# Quantification of methylation data"
   ]
  },
  {
   "cell_type": "markdown",
   "id": "supreme-fighter",
   "metadata": {
    "kernel": "SoS",
    "tags": []
   },
   "source": [
    "## Methods overview\n",
    "\n",
    "This notebook implements two methods to quantify methylation data, using `sesame` and `minfi`. We recommend `sesame` over `minfi`.\n",
    "\n",
    "\n",
    "|Procedure|`minfi`|`sesame`|\n",
    "|--------------|-------|---------------|\n",
    "|SNP/Cross reaction removal |  dropLociWithSnps + manual removal  | Q (qualityMask)  |\n",
    "|sample quality|detectionP + mean |sesameQC_calcStats + \"detection\" + frac_dt |\n",
    "|Bias correction|preprocessQuantile|D ( dyeBiasNL)|\n",
    "|Probe quality|detectionP|\"P (pOOBAH\tDetection p-value masking using oob)\" |\n",
    "|Background substraction|NA|B (noob)|"
   ]
  },
  {
   "cell_type": "markdown",
   "id": "rough-robinson",
   "metadata": {
    "kernel": "SoS",
    "tags": []
   },
   "source": [
    "## Input\n",
    "\n",
    "1. `sample_sheet`: path to csv/tsv file that documenting all the meta-information of the bisulfite sequencing. The user need to manually ensure/rename the column names corresponding  to the first and second half of the idat file names are \"Sentrix_ID\" and \"Sentrix_Position\" \n",
    "2. [optional] `idat_folder`: path to the folder containing all the IDAT files to generate methylation data matrices from. Default is set to using the same folder where `sample_sheet` locates.\n",
    "3. [optional] `cross_reactive_probes`: A list of CpG probes that are reported to [map to multiple regions in the genome.](https://academic.oup.com/nargab/article/2/4/lqaa105/6040968) "
   ]
  },
  {
   "cell_type": "markdown",
   "id": "former-desert",
   "metadata": {
    "kernel": "SoS"
   },
   "source": [
    "## Output\n",
    "\n",
    "- A pair bed.gz file for `beta` and `M` value.\n",
    "- Probe to gene annotation."
   ]
  },
  {
   "cell_type": "markdown",
   "id": "olympic-optics",
   "metadata": {
    "kernel": "SoS"
   },
   "source": [
    "## Minimal working example\n",
    "\n",
    "\n"
   ]
  },
  {
   "cell_type": "code",
   "execution_count": null,
   "id": "5d2c7881-2243-41a3-b77c-27bcaa44f56d",
   "metadata": {
    "kernel": "SoS"
   },
   "outputs": [],
   "source": [
    "sos run pipeline/methylation_calling.ipynb sesame \\\n",
    "    --sample-sheet data/MWE/MWE_Sample_sheet.csv \\\n",
    "    --container containers/methylation.sif"
   ]
  },
  {
   "cell_type": "markdown",
   "id": "temporal-worse",
   "metadata": {
    "kernel": "Bash"
   },
   "source": [
    "## Command interface"
   ]
  },
  {
   "cell_type": "code",
   "execution_count": 1,
   "id": "supported-mozambique",
   "metadata": {
    "kernel": "Bash"
   },
   "outputs": [
    {
     "name": "stdout",
     "output_type": "stream",
     "text": [
      "usage: sos run methylation_calling.ipynb\n",
      "               [workflow_name | -t targets] [options] [workflow_options]\n",
      "  workflow_name:        Single or combined workflows defined in this script\n",
      "  targets:              One or more targets to generate\n",
      "  options:              Single-hyphen sos parameters (see \"sos run -h\" for details)\n",
      "  workflow_options:     Double-hyphen workflow-specific parameters\n",
      "\n",
      "Workflows:\n",
      "  sesame\n",
      "  minfi\n",
      "\n",
      "Global Workflow Options:\n",
      "  --cwd output (as path)\n",
      "                        The output directory for generated files.\n",
      "  --sample-sheet VAL (as path, required)\n",
      "                        The companion sample sheet csv file as outlined in the\n",
      "                        input section.\n",
      "  --idat-folder  path(f\"{sample_sheet:d}\")\n",
      "\n",
      "                        Raw data folder\n",
      "  --[no-]keep-only-cpg-probes (default to False)\n",
      "                        Remove probes that are SNPs\n",
      "  --job-size 1 (as int)\n",
      "                        For cluster jobs, number commands to run per job\n",
      "  --walltime 5h\n",
      "                        Wall clock time expected\n",
      "  --mem 16G\n",
      "                        Memory expected\n",
      "  --numThreads 8 (as int)\n",
      "                        Number of threads\n",
      "  --container ''\n",
      "                        Software container option\n",
      "\n",
      "Sections\n",
      "  sesame_1:\n",
      "    Workflow Options:\n",
      "      --samples-frac-dt-cutoff 0.8 (as float)\n",
      "                        threshold to filter out samples based on frac_dt\n",
      "                        (Percentage of probe Detection Success)  percentage\n",
      "      --sample-sheet-header-rows 7 (as int)\n",
      "                        The header rows in the sample sheet csv\n",
      "  minfi_1:\n",
      "    Workflow Options:\n",
      "      --samples-pval-cutoff 0.05 (as float)\n",
      "                        threshold to filter out samples based on detection P\n",
      "                        value\n",
      "      --probe-pval-cutoff 0.01 (as float)\n",
      "                        threshold to filter out probes based on detection P\n",
      "                        value\n",
      "      --cross-reactive-probes /opt/cross_reactive_probe_Hop2020.txt (as path)\n",
      "                        FIXME: document here where this list is obtained from.\n",
      "                        Also the documentation below doesn't sound right. Please\n",
      "                        fix. Use the default list in our docker, if want to skip\n",
      "                        methylation, specify it as \".\"\n",
      "      --GRCh-build 38 (as int)\n",
      "                        38 (hg38) or 37 (hg19) for epic data, by default 38.\n",
      "                        Noted for 450K data only GRCh37 is availble\n",
      "  *_methylation_2:\n"
     ]
    }
   ],
   "source": [
    "sos run methylation_calling.ipynb -h"
   ]
  },
  {
   "cell_type": "markdown",
   "id": "alpine-frame",
   "metadata": {
    "kernel": "SoS"
   },
   "source": [
    "## Global parameters\n",
    "\n",
    "`keep_only_cpg_probes` option dictate whether only cpg probes should be kept:\n",
    "\n",
    "- On an Illumina methylation bead chip, there are three types of probes,whose nature were indicated by their names.\n",
    "       - cg: cpg probe;\n",
    "       - rs: explict snp probe;\n",
    "       - ch: non-CpG targeting probes; [reported to be more prone to cross-hybirdization](https://www.ncbi.nlm.nih.gov/pmc/articles/PMC4909830/)\n",
    "        \n",
    "  Following the guideline of [Zhou W 2016](https://www.ncbi.nlm.nih.gov/pmc/articles/PMC5389466/), by default we do not remove all the rs and ch probes. However, for research that are focusing on the CpG sites, like mQTL discovery, we should use `keep_only_cpg_probes` parameter to filter out other types of probes.\n",
    "  "
   ]
  },
  {
   "cell_type": "code",
   "execution_count": 6,
   "id": "passing-measurement",
   "metadata": {
    "kernel": "SoS"
   },
   "outputs": [],
   "source": [
    "[global]\n",
    "# The output directory for generated files.\n",
    "parameter: cwd = path(\"output\")\n",
    "# The companion sample sheet csv file as outlined in the input section.\n",
    "parameter: sample_sheet = path\n",
    "# Raw data folder\n",
    "parameter: idat_folder = path(f\"{sample_sheet:d}\")\n",
    "# Remove probes that are SNPs\n",
    "parameter: keep_only_cpg_probes = False\n",
    "# For cluster jobs, number commands to run per job\n",
    "parameter: job_size = 1\n",
    "# Wall clock time expected\n",
    "parameter: walltime = \"5h\"\n",
    "# Memory expected\n",
    "parameter: mem = \"16G\"\n",
    "\n",
    "# Number of threads\n",
    "parameter: numThreads = 8\n",
    "# Software container option\n",
    "parameter: container = \"\"\n",
    "\n",
    "cwd = path(f'{cwd:a}')"
   ]
  },
  {
   "cell_type": "markdown",
   "id": "b5dd26a0-3da2-452d-a332-07be2615dfef",
   "metadata": {
    "kernel": "SoS",
    "tags": []
   },
   "source": [
    "## `Sesame` \n",
    "\n",
    "Getting the beta value from EPIC450 IDAT for 750 samples from 3000 wells take ~40 mins.\n",
    "\n",
    "Based on [sesame documentation](https://www.bioconductor.org/packages/release/bioc/vignettes/sesame/inst/doc/sesame.html), the processing procedure suitable for human on EPIC 450 and 850 platform is \"QCDPB\"\n",
    "\n",
    "The code for each processing procedure are as followed:\n",
    "_____________\n",
    "\n",
    "| Code | Name | Detail |\n",
    "| -----|------|--------|\n",
    "| Q | qualityMask | Mask probes of poor design | \n",
    "| C | inferInfiniumIChannel | Infer channel for Infinium-I probes | \n",
    "| D | dyeBiasNL | Dye bias correction (non-linear) | \n",
    "| P | pOOBAH | Detection p-value masking using oob | \n",
    "| B | noob | Background subtraction using oob | \n",
    "\n",
    "\n",
    "\n",
    "Other potential procedures are \n",
    "\n",
    "\n",
    "| Code | Name | Detail |\n",
    "| -----|------|--------|\n",
    "|0|resetMask|Reset mask to all FALSE |\n",
    "|G|prefixMaskButCG|Mask all but cg- probes |\n",
    "|H|prefixMaskButC|Mask all but cg- and ch-probes |\n",
    "|E|dyeBiasL|Dye bias correction (linear) |\n",
    "|I|detectionIB|Mask detection by intermediate beta values |\n",
    " \n",
    "\n",
    "M value is calculated as M = log2(beta/(1-beta))\n",
    "The way we handle beta == 0 or beta == 1 is by replacing them with the next min/max value among the beta matrix, which is based on [here](https://github.com/xuz1/ENmix/blob/master/R/utils.R) \n",
    "\n"
   ]
  },
  {
   "cell_type": "code",
   "execution_count": 1,
   "id": "3c8b3d2e-ebbe-4780-aa48-1c4a990c94b7",
   "metadata": {
    "kernel": "SoS"
   },
   "outputs": [],
   "source": [
    "[sesame_1]\n",
    "processing_option = \"QCDGPB\" if keep_only_cpg_probes else \"QCDPB\"\n",
    "# threshold to filter out samples based on frac_dt (Percentage of probe Detection Success)  percentage\n",
    "parameter: samples_frac_dt_cutoff = 0.8\n",
    "# The header rows in the sample sheet csv\n",
    "parameter: sample_sheet_header_rows = 7 \n",
    "input: sample_sheet\n",
    "output: f'{cwd}/{_input:bn}.sesame.rds',f'{cwd}/{_input:bn}.sesame.beta.tsv',f'{cwd}/{_input:bn}.sesame.M.tsv'\n",
    "task: trunk_workers = 1, trunk_size = job_size, walltime = walltime, mem = mem, cores = numThreads\n",
    "R: expand= \"${ }\", stderr = f'{_output[0]:n}.stderr', stdout = f'{_output[0]:n}.stdout', container=container\n",
    "    library(sesame)\n",
    "    library(dplyr)\n",
    "    library(tibble)\n",
    "    library(purrr)\n",
    "    # Define function \n",
    "    B2M<-function (x)\n",
    "    {\n",
    "    x[x == 0] <- min(x[x != 0])\n",
    "    x[x == 1] <- max(x[x != 1])\n",
    "    log2(x) - log2(1 - x)\n",
    "    }\n",
    "    # Load the sample sheet to get the sample names\n",
    "    sample_sheet = readr::read_delim(\"${_input}\" , skip = ${sample_sheet_header_rows} )\n",
    "    sample_sheet%>%dplyr::mutate(well_name = paste0(Sentrix_ID,\"_\",Sentrix_Position))%>%dplyr::select(Sample_Name = colnames(sample_sheet)[1],well_name) -> sample_index\n",
    "    # scan and load the data\n",
    "    sdfs = openSesame(${idat_folder:r}, prep = \"\", func = NULL)\n",
    "    # Keep only the samples in the sample_sheet to save memory\n",
    "    sdfs = sdfs[which(sdfs%>%names %in% sample_index$well_name)]\n",
    "    message(\"IDAT files loaded.\")\n",
    "    # Get Sample level QC:\n",
    "    qcs = openSesame(sdfs, prep=\"\", func=sesameQC_calcStats)\n",
    "    message(\"Sample-level QC completed.\")\n",
    "    # Get poor samples base on percentage of probe fail\n",
    "    poor_samples = tibble(samples = names(qcs), frac_dt = map_dbl(qcs,~sesameQC_getStats(.x,\"frac_dt\") ))%>%dplyr::filter(frac_dt < ${samples_frac_dt_cutoff})%>%pull(samples)\n",
    "    ## This handles the case where poor_sample is empty\n",
    "    sdfs = sdfs[which(!sdfs%>%names %in% poor_samples)]\n",
    "    message(paste0(ifelse(length(poor_samples) > 0, poor_samples , \"No sample\" ) , \" removed due to low quality based on frac_dt < ${samples_frac_dt_cutoff} \"))\n",
    "    # Preprocess the data via QCDPB procedure\n",
    "    ## The masking procedure of sesame is not removing the probes, but instead introduce NA in the masked probes. Therefore it makesense to na.rm it.\n",
    "    beta = openSesame(sdfs,prep = \"${processing_option}\")\n",
    "    message(\"Beta calculated!\")\n",
    "    beta = beta[rowSums(is.na(beta)) != ncol(beta), ] # Use this instead of na.omit because if not the full rows are NA, then the probe is not masked.\n",
    "    M = B2M(beta)\n",
    "    message(\"M values calculated.\")\n",
    "    beta%>%as_tibble(rownames = \"ID\")%>%rename_at(vars(intersect(colnames(beta),sample_index$well_name)), function(x) sample_index%>%filter(well_name %in% x)%>%pull(Sample_Name) )%>%readr::write_delim(\"${_output[1]}\",\"\\t\")\n",
    "    M%>%as_tibble(rownames = \"ID\")%>%rename_at(vars(intersect(colnames(beta),sample_index$well_name)), function(x) sample_index%>%filter(well_name %in% x)%>%pull(Sample_Name) )%>%readr::write_delim(\"${_output[2]}\",\"\\t\")\n",
    "    list(\"sdfs\" = sdfs,\"qcs\" = qcs)%>%saveRDS(\"${_output[0]}\")\n",
    "    message(\"sesame analysis completed!\")"
   ]
  },
  {
   "cell_type": "markdown",
   "id": "9cfa0008-c9b8-4b08-a91d-51cffd5a25a8",
   "metadata": {
    "kernel": "SoS"
   },
   "source": [
    "## `minfi`\n",
    "\n",
    "By default, for Infinium MethylationEPIC the data will be annotated based on hg38 using [this annotation](https://github.com/achilleasNP/IlluminaHumanMethylationEPICanno.ilm10b5.hg38), alternatively user can set the `--hg-build` parameter back to 19 to use the [hg19 annotation](https://bioconductor.org/packages/release/data/annotation/html/IlluminaHumanMethylationEPICanno.ilm10b4.hg19.html).\n",
    "\n",
    "For 450K data however, only hg19 annotation is availble, which is what we would use would use for minfi to work. However, we will reannotate everything to hg38 anyways in the next step. \n",
    "\n",
    "\n",
    "\n",
    "1. All the IDAT file in the specified folder and sub-folder will be loaded for samples in input sample CSV file\n",
    "2. The methylation data samples will first be filtered based on [bisulphite conversation rate](https://www.ncbi.nlm.nih.gov/pmc/articles/PMC4527772/). This operation is done using the [bscon function from watermelon package](http://www.bioconductor.org/packages/release/bioc/vignettes/wateRmelon/inst/doc/wateRmelon.html#introduction) \n",
    "3. samples will then be filtered based on a [detection pvalue](https://www.rdocumentation.org/packages/minfi/versions/1.18.4/topics/detectionP), which indicates the quality of the signal at each genomics position\n",
    "4. [Stratified Quantile Normalization](https://rdrr.io/bioc/minfi/man/preprocessQuantile.html) will then be applied.\n",
    "5. features will be filtered if they are on sex chr, known to be [cross-reactive,maping to multiple regions in the genome.](https://academic.oup.com/nargab/article/2/4/lqaa105/6040968), overlapping with snps, or having too low a detection P. The list of cross-reactive probe can be found as `/opt/cross_reactive_probe_Hop2020.txt` in our docker and [here](https://raw.githubusercontent.com/hsun3163/xqtl-pipeline/main/data/cross_reactive_probe_Hop2020.txt).\n",
    "6. Beta and M value will for all the probes/samples will then each be saved to a indexed bed.gz file.\n",
    "\n",
    "[As documented here](https://github.com/cumc/xqtl-pipeline/issues/312) when the batch of IDAT data are different, there will be a problem reading the IDAT file without specifing the force = TRUE option in the `read.metharray.exp(targets = targets,force = TRUE)`"
   ]
  },
  {
   "cell_type": "code",
   "execution_count": 1,
   "id": "refined-bidder",
   "metadata": {
    "kernel": "SoS"
   },
   "outputs": [],
   "source": [
    "[minfi_1]\n",
    "# threshold to filter out samples based on detection P value\n",
    "parameter: samples_pval_cutoff = 0.05\n",
    "# threshold to filter out probes based on detection P value\n",
    "parameter: probe_pval_cutoff = 0.01\n",
    "# FIXME: document here where this list is obtained from. Also the documentation below doesn't sound right. Please fix.\n",
    "## Use the default list in our docker, if want to skip methylation, specify it as \".\"\n",
    "parameter: cross_reactive_probes = path(\"/opt/cross_reactive_probe_Hop2020.txt\")\n",
    "# 38 (hg38) or 19 (hg19) for epic data, by default 38. Noted for 450K data only GRCh37 is availble\n",
    "parameter: hg_build = 38 \n",
    "input: sample_sheet\n",
    "output: f'{cwd}/{_input:bn}.minfi.rds',f'{cwd}/{_input:bn}.minfi.beta.tsv',f'{cwd}/{_input:bn}.minfi.M.tsv'\n",
    "task: trunk_workers = 1, trunk_size = job_size, walltime = walltime, mem = mem, cores = numThreads\n",
    "R: expand= \"${ }\", stderr = f'{_output[0]:n}.stderr', stdout = f'{_output[0]:n}.stdout', container=container\n",
    "    ## load libraries\n",
    "    library(dplyr)\n",
    "    library(readr)\n",
    "    library(tibble)\n",
    "    library(minfi)\n",
    "    sessionInfo()\n",
    "    cross_reactive = readr::read_delim(\"${cross_reactive_probes}\",\"\\t\")$probe\n",
    "    ## 1. read idat files\n",
    "    targets <- read.metharray.sheet(${_input:adr})\n",
    "    colnames(targets)[1] = \"Sample_Name\"\n",
    "    ## Only read samples with data\n",
    "    Missing_sample = targets%>%filter(!stringr::str_detect(targets$Basename ,\"/\") )%>%pull(Sample_Name)\n",
    "    if (length(Missing_sample)) message(paste0(\"Samples \",paste0(Missing_sample,collapse = \", \"), \" do not have IDAT data\" ))\n",
    "\n",
    "    targets = targets%>%filter(stringr::str_detect(targets$Basename ,\"/\") )     \n",
    "    rgSet <- read.metharray.exp(targets = targets)\n",
    "    if(${hg_build} == 38 && rgSet@annotation[\"array\"] == 'IlluminaHumanMethylationEPIC' ){rgSet@annotation['annotation'] = \"ilm10b5.hg38\"}\n",
    "    message(\"RGSet object created.\")\n",
    "    \n",
    "    # Quality Control and Normalization\n",
    "\n",
    "    ## 2. QC based on p-value, remove samples with average p value less than 0.05\n",
    "    \n",
    "    detP <- detectionP(rgSet)\n",
    "    keep <- colMeans(detP) < ${samples_pval_cutoff}\n",
    "    rgSet <- rgSet[,keep]\n",
    "    targets <- targets[keep,]\n",
    "    message(\"Samples with average detection p-value < ${samples_pval_cutoff} removed.\")\n",
    "\n",
    "    ## 3. Normalize the data - Quantile\n",
    "    mSetSq <- preprocessQuantile(rgSet)\n",
    "    message(\"RGSet data quantile normalized\")\n",
    "    \n",
    "    ## 4. Remove cross-reactive probes\n",
    "    no_cross_reactive <- !(featureNames(mSetSq) %in% cross_reactive)\n",
    "    mSetSq <- mSetSq[no_cross_reactive, ]\n",
    "    message(\"Cross-reactive probes removed\")\n",
    "    \n",
    "    ## 5. Drop probes that are also SNPs\n",
    "    if (${\"T\" if keep_only_cpg_probes else \"F\"} {\n",
    "        mSetSq <- dropLociWithSnps(mSetSq)\n",
    "        message(\"probes overlapping with SNPs removed\")\n",
    "    }\n",
    "  \n",
    "    ## 6. Remove probes with < ${probe_pval_cutoff} detection p-values\n",
    "    detP <- detP[match(featureNames(mSetSq),rownames(detP)),]\n",
    "    keep <- rowSums(detP < ${probe_pval_cutoff}) == ncol(mSetSq)\n",
    "    mSetSq <- mSetSq[keep,]\n",
    "  \n",
    "    ## 7. get Beta and M values\n",
    "    mSetSqbval <- getBeta(mSetSq)%>%as_tibble(rownames = \"ID\")\n",
    "    mSetSqMval <- getM(mSetSq)%>%as_tibble(rownames = \"ID\")\n",
    "\n",
    "    message(\"Beta-value and M value obtained\")\n",
    "    \n",
    "    ## 8. output data\n",
    "    mSetSqbval = mSetSqbval%>%rename_at(vars(rgSet@colData%>%rownames()), function(x) rgSet@colData[x,]%>%as_tibble%>%pull(Sample_Name) )\n",
    "    mSetSqMval = mSetSqMval%>%rename_at(vars(rgSet@colData%>%rownames()), function(x) rgSet@colData[x,]%>%as_tibble%>%pull(Sample_Name) )\n",
    "    mSetSqbval%>%readr::write_delim(\"${_output[1]}\",\"\\t\")\n",
    "    mSetSqMval%>%readr::write_delim(\"${_output[2]}\",\"\\t\")\n",
    "    output = list(\"rgSet\" = rgSet,mSetSq = \"mSetSq\", mSetSqbval = \"mSetSqbval\")\n",
    "    output%>%saveRDS(${_output[0]:r})"
   ]
  },
  {
   "cell_type": "markdown",
   "id": "283eeb09-165b-4310-a0e5-cc3dc414461a",
   "metadata": {
    "kernel": "SoS"
   },
   "source": [
    "## Annotate probes\n",
    "\n",
    "The probes are annotated via `sesameData` package and formatted as bgzipped bed files, regardless of method used to process the IDAT."
   ]
  },
  {
   "cell_type": "code",
   "execution_count": 2,
   "id": "bbc84cf8-e62c-454a-bc94-ce9e202cf14c",
   "metadata": {
    "kernel": "SoS"
   },
   "outputs": [],
   "source": [
    "[*_2]\n",
    "output: f'{_input[1]:n}.bed.gz', f'{_input[2]:n}.bed.gz', f'{_input[0]:n}.gene_id.annot.tsv'\n",
    "task: trunk_workers = 1, trunk_size = job_size, walltime = walltime, mem = mem, cores = numThreads\n",
    "R: expand= \"${ }\", stderr = f'{_output[0]:n}.stderr', stdout = f'{_output[0]:n}.stdout', container=container\n",
    "    library(sesame)\n",
    "    library(tibble)\n",
    "    library(dplyr)\n",
    "    library(readr)\n",
    "    betas = read_delim(\"${_input[1]}\",\"\\t\")\n",
    "        M = read_delim(\"${_input[2]}\",\"\\t\")\n",
    "    probe_annot = sesameData::sesameData_annoProbes(betas$ID,column = \"gene_id\")\n",
    "    probe_annot = cbind(\"ID\" = probe_annot%>%names,probe_annot%>%as_tibble)%>%as_tibble\n",
    "    betas = inner_join(probe_annot%>%dplyr::select(\"#chr\" = seqnames, start , end , ID ),betas , by = \"ID\" )%>%mutate(end = start +1 ,chr_num = stringr::str_remove(`#chr`,\"chr\")%>%as.numeric)%>%arrange(chr_num,`#chr`,start)%>%select(-chr_num) \n",
    "    M = inner_join(probe_annot%>%dplyr::select(\"#chr\" = seqnames, start , end , ID ), M , by = \"ID\" )%>%mutate(end = start +1 , chr_num = stringr::str_remove(`#chr`,\"chr\")%>%as.numeric)%>%arrange(chr_num,`#chr`,start)%>%select(-chr_num) \n",
    "    betas%>%readr::write_delim(\"${_output[0]:n}\",\"\\t\")\n",
    "    M%>%readr::write_delim(\"${_output[1]:n}\",\"\\t\")\n",
    "    probe_annot%>%write_delim(\"${_output[2]}\",\"\\t\")\n",
    "  \n",
    "bash: expand= \"${ }\", stderr = f'{_output[0]:n}.stderr', stdout = f'{_output[0]:n}.stdout', container=container\n",
    "    bgzip -f ${_output[0]:n} \n",
    "    tabix ${_output[0]}\n",
    "    bgzip -f ${_output[1]:n} \n",
    "    tabix ${_output[1]}\n",
    "    rm -f ${_output[0]:n} ${_output[1]:n}"
   ]
  }
 ],
 "metadata": {
  "kernelspec": {
   "display_name": "SoS",
   "language": "sos",
   "name": "sos"
  },
  "language_info": {
   "codemirror_mode": "sos",
   "file_extension": ".sos",
   "mimetype": "text/x-sos",
   "name": "sos",
   "nbconvert_exporter": "sos_notebook.converter.SoS_Exporter",
   "pygments_lexer": "sos"
  },
  "sos": {
   "kernels": [
    [
     "Bash",
     "bash",
     "Bash",
     "#E6EEFF",
     "shell"
    ],
    [
     "SoS",
     "sos",
     "",
     "",
     "sos"
    ]
   ],
   "version": "0.22.6"
  }
 },
 "nbformat": 4,
 "nbformat_minor": 5
}
