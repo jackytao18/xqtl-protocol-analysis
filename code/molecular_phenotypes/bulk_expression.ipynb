{
 "cells": [
  {
   "cell_type": "markdown",
   "id": "level-convention",
   "metadata": {
    "kernel": "SoS",
    "tags": []
   },
   "source": [
    "# RNA-seq expression\n",
    "\n",
    "This document shows the use of various modules to prepare reference data, perform RNA-seq calling, expression level quantification and quality control, and finally normalization. In particular,\n",
    "\n",
    "1. `RNA_calling.ipynb`\n",
    "2. `bulk_expression_QC.ipynb`\n",
    "3. `bulk_expression_normalization.ipynb`\n",
    "\n",
    "This protocol is meant for generating the expression phenotype for eQTL studies, although a subset of the steps can be equally useful for preparing the data for eg differential gene expression analysis.\n",
    "\n",
    "Before started, please refer to the reference_data page to generate the reference data needed. Alternative, the reference data can be downloaded from Synapse as illustrated in the landing page.\n",
    "\n",
    "`Input` of this min-protocol is a collection of fastq file and a sample list file describing the sample name, file name, and optionally strandness as well as read length of each samples.\n",
    "\n",
    "```\n",
    "ID fq1 fq2 strand read_length\n",
    "sample_1 samp1_r1.fq.gz samp1_r2.fq.gz rf 100\n",
    "sample_2 samp2_r1.fq.gz samp2_r2.fq.gz fr 150\n",
    "sample_3 samp3_r1.fq.gz samp3_r2.fq.gz strand_missing 75\n",
    "```\n",
    "\n",
    "\n",
    "`Output` of this mini-protocol is a bed.gz file that are TensorQTL ready."
   ]
  },
  {
   "cell_type": "markdown",
   "id": "significant-lodge",
   "metadata": {
    "kernel": "Bash",
    "tags": []
   },
   "source": [
    "## Perform data quality summary via `fastqc`"
   ]
  },
  {
   "cell_type": "code",
   "execution_count": null,
   "id": "restricted-offering",
   "metadata": {
    "kernel": "Bash"
   },
   "outputs": [],
   "source": [
    "sos run pipeline/RNA_calling.ipynb fastqc \\\n",
    "    --cwd output/rnaseq/fastqc \\\n",
    "    --samples ROSMAP_data/RNASeq/fastq/xqtl_protocol_data.fastqlist \\\n",
    "    --data-dir ROSMAP_data/RNASeq/fastq \\\n",
    "    --container containers/rna_quantification.sif \\\n",
    "    --gtf reference_data/Homo_sapiens.GRCh38.103.chr.reformatted.ERCC.gtf"
   ]
  },
  {
   "cell_type": "markdown",
   "id": "f09a997b-761c-4927-9f5f-0e1703c56737",
   "metadata": {
    "kernel": "Bash"
   },
   "source": [
    "## Cut adaptor (Optional)\n",
    "This step will trim the fastq file to remove the adaptor. It is optional because the fastq in the protocol data folders are converted from bam file and are already without adaptors.\n"
   ]
  },
  {
   "cell_type": "code",
   "execution_count": null,
   "id": "008e8be7-ba1c-483a-9e6d-5dcc26b70cd8",
   "metadata": {
    "kernel": "Bash"
   },
   "outputs": [],
   "source": [
    "sos run pipeline/RNA_calling.ipynb fastp_trim_adaptor \\\n",
    "    --cwd output/rnaseq --samples ROSMAP_data/RNASeq/fastq/xqtl_protocol_data.fastqlist \\\n",
    "    --data-dir ROSMAP_data/RNASeq/fastq --STAR-index reference_data/STAR_Index/ \\\n",
    "    --gtf reference_data/Homo_sapiens.GRCh38.103.chr.reformatted.ERCC.gtf \\\n",
    "    --container containers/rna_quantification.sif \\\n",
    "    --reference-fasta reference_data/GRCh38_full_analysis_set_plus_decoy_hla.noALT_noHLA_noDecoy_ERCC.fasta \\\n",
    "    --ref-flat reference_data/Homo_sapiens.GRCh38.103.chr.reformatted.ERCC.ref.flat"
   ]
  },
  {
   "cell_type": "markdown",
   "id": "f73870bc-9217-4e54-ae6b-f048af20dc01",
   "metadata": {
    "kernel": "Bash"
   },
   "source": [
    "## Read alignment via STAR and QC via Picard.\n",
    "Following step shall take at least 40G of memory ~2hr in total. It will also produce the input needed for the splicing QTL. It should be noted that, the gtf file used here is the same as the one fed into RSEM index step in the refernce data mini protocol, i.e. the one without `gene` in its file name."
   ]
  },
  {
   "cell_type": "code",
   "execution_count": null,
   "id": "53a468b7-117a-45e3-9a1f-c63dd1c1d924",
   "metadata": {
    "kernel": "Bash"
   },
   "outputs": [],
   "source": [
    "sos run pipeline/RNA_calling.ipynb STAR_output \\\n",
    "    --cwd output/rnaseq --samples ROSMAP_data/RNASeq/fastq/xqtl_protocol_data.fastqlist \\\n",
    "    --data-dir ROSMAP_data/RNASeq/fastq --STAR-index reference_data/STAR_Index/ \\\n",
    "    --gtf reference_data/Homo_sapiens.GRCh38.103.chr.reformatted.ERCC.gtf \\\n",
    "    --container containers/rna_quantification.sif \\\n",
    "    --reference-fasta reference_data/GRCh38_full_analysis_set_plus_decoy_hla.noALT_noHLA_noDecoy_ERCC.fasta \\\n",
    "    --ref-flat reference_data/Homo_sapiens.GRCh38.103.chr.reformatted.ERCC.ref.flat"
   ]
  },
  {
   "cell_type": "markdown",
   "id": "decent-monroe",
   "metadata": {
    "kernel": "Bash"
   },
   "source": [
    "## Call gene-level RNA expression via `rnaseqc`\n",
    "Following steps generate the count table of gene expression. It should be noted that, the gtf file used here is not the same as the one used in STAR_output i.e. the one with `gene` in its file name."
   ]
  },
  {
   "cell_type": "code",
   "execution_count": null,
   "id": "angry-sheffield",
   "metadata": {
    "kernel": "Bash"
   },
   "outputs": [],
   "source": [
    "sos run pipeline/RNA_calling.ipynb rnaseqc_call \\\n",
    "    --cwd output/rnaseq \\\n",
    "    --samples ROSMAP_data/RNASeq/fastq/xqtl_protocol_data.fastqlist    --data-dir ROSMAP_data/RNASeq/fastq \\\n",
    "    --STAR-index reference_data/STAR_Index/ \\\n",
    "    --gtf reference_data/Homo_sapiens.GRCh38.103.chr.reformatted.collapse_only.gene.gtf \\\n",
    "    --container containers/rna_quantification.sif \\\n",
    "    --reference-fasta reference_data/GRCh38_full_analysis_set_plus_decoy_hla.noALT_noHLA_noDecoy.fasta \\\n",
    "    --ref-flat reference_data/Homo_sapiens.GRCh38.103.chr.reformatted.ERCC.gtf.ref.flat  \\\n",
    "    --bam_list output/rnaseq/xqtl_protocol_data_bam_list"
   ]
  },
  {
   "cell_type": "markdown",
   "id": "scenic-ensemble",
   "metadata": {
    "kernel": "Bash"
   },
   "source": [
    "## Call transcript level RNA expression via `RSEM`"
   ]
  },
  {
   "cell_type": "code",
   "execution_count": null,
   "id": "everyday-mountain",
   "metadata": {
    "kernel": "Bash"
   },
   "outputs": [],
   "source": [
    "sos run RNA_calling.ipynb rsem_call \\\n",
    "    --cwd output/rnaseq \\\n",
    "    --samples data/sample_fastq.list \\\n",
    "    --data-dir data \\\n",
    "    --fasta_with_adapters_etc TruSeq3-PE.fa \\\n",
    "    --STAR-index reference_data/STAR_Index/ \\\n",
    "    --RSEM-index reference_data/RSEM_Index/ \\\n",
    "    --container container/rna_quantification.sif \\\n",
    "    --mem 40G"
   ]
  },
  {
   "cell_type": "markdown",
   "id": "little-circulation",
   "metadata": {
    "kernel": "Bash"
   },
   "source": [
    "## Multi-sample RNA-seq QC"
   ]
  },
  {
   "cell_type": "markdown",
   "id": "weekly-listening",
   "metadata": {
    "kernel": "Bash"
   },
   "source": [
    "We need to use a different MWE data-set that contains multiple samples -- here is the [Google Drive link](https://drive.google.com/drive/u/0/folders/1Rv2bWHBbX_tastTh49ToYVDMV6rFP5Wk)."
   ]
  },
  {
   "cell_type": "code",
   "execution_count": null,
   "id": "overhead-illness",
   "metadata": {
    "kernel": "Bash"
   },
   "outputs": [],
   "source": [
    "sos run pipeline/bulk_expression_QC.ipynb qc \\\n",
    "    --cwd output/rnaseq \\ \\\n",
    "    --tpm-gct output/rnaseq/xqtl_protocol_data.rnaseqc.gene_tpm.gct.gz \\\n",
    "    --counts-gct output/rnaseq/xqtl_protocol_data.rnaseqc.gene_readsCount.gct.gz \\\n",
    "    --container containers/rna_quantification.sif "
   ]
  },
  {
   "cell_type": "markdown",
   "id": "attached-oasis",
   "metadata": {
    "kernel": "Bash"
   },
   "source": [
    "## Multi-sample read count normalization\n",
    "Please download the reference_data/sample_participant_lookup.rnaseq file from the reference_data folder within the synapses. "
   ]
  },
  {
   "cell_type": "code",
   "execution_count": null,
   "id": "awful-listening",
   "metadata": {
    "kernel": "Bash"
   },
   "outputs": [],
   "source": [
    "sos run pipeline/bulk_expression_normalization.ipynb normalize \\\n",
    "    --cwd output/rnaseq \\\n",
    "    --tpm-gct output/rnaseq/xqtl_protocol_data.rnaseqc.low_expression_filtered.outlier_removed.tpm.gct.gz \\\n",
    "    --counts-gct output/rnaseq/xqtl_protocol_data.rnaseqc.low_expression_filtered.outlier_removed.geneCount.gct.gz \\\n",
    "    --annotation-gtf reference_data/Homo_sapiens.GRCh38.103.chr.reformatted.collapse_only.gene.ERCC.gtf  \\\n",
    "    --container containers/rna_quantification.sif \\\n",
    "    --count-threshold 1 --sample_participant_lookup reference_data/sample_participant_lookup.rnaseq"
   ]
  },
  {
   "cell_type": "markdown",
   "id": "83b3de4c-3eb2-4511-abc7-47177b2e3755",
   "metadata": {
    "kernel": "Bash"
   },
   "source": [
    "## Optional: Region list generation\n",
    "By default, the first 4 column of the bed.gz file contains the chr,start (TSS), end (TSS+1), and gene id of each gene. User can extract these information with a simple `zcat {phenoFile}.bed.gz | cut -f 1,2,3,4 ` command. However, when a region list with both gene id and gene name are needed, following utilities are provided.\n"
   ]
  },
  {
   "cell_type": "code",
   "execution_count": null,
   "id": "201a2b37-c2b5-4731-98fa-9c8b5aba4208",
   "metadata": {
    "kernel": "Bash"
   },
   "outputs": [],
   "source": [
    "sos run pipeline/gene_annotation.ipynb region_list_generation \\\n",
    "    --cwd output/rnaseq  \\\n",
    "    --phenoFile output/rnaseq/xqtl_protocol_data.rnaseqc.low_expression_filtered.outlier_removed.tmm.expression.bed.gz \\\n",
    "    --annotation-gtf reference_data/Homo_sapiens.GRCh38.103.chr.reformatted.collapse_only.gene.ERCC.gtf  \\\n",
    "    --sample-participant-lookup reference_data/sample_participant_lookup.rnaseq \\\n",
    "    --container containers/bioinfo.sif \\\n",
    "    --phenotype-id-type gene_id"
   ]
  }
 ],
 "metadata": {
  "kernelspec": {
   "display_name": "SoS",
   "language": "sos",
   "name": "sos"
  },
  "language_info": {
   "codemirror_mode": "sos",
   "file_extension": ".sos",
   "mimetype": "text/x-sos",
   "name": "sos",
   "nbconvert_exporter": "sos_notebook.converter.SoS_Exporter",
   "pygments_lexer": "sos"
  },
  "sos": {
   "kernels": [
    [
     "Bash",
     "bash",
     "Bash",
     "#E6EEFF",
     "shell"
    ]
   ],
   "version": "0.22.6"
  }
 },
 "nbformat": 4,
 "nbformat_minor": 5
}
