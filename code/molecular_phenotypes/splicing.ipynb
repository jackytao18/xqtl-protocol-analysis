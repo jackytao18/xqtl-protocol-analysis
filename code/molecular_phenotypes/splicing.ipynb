{
 "cells": [
  {
   "cell_type": "markdown",
   "id": "binding-ottawa",
   "metadata": {
    "kernel": "SoS",
    "tags": []
   },
   "source": [
    "# Alternative splicing from RNA-seq data\n",
    "\n",
    "This document shows the use of moudules for Data Preperation, Quantification, Quality Control + Normalization for Splicing events analysis, and converting the results to molecular phenotype data in `bed` format. In particular:\n",
    "\n",
    "1. `molecular_phenotypes/calling/RNA_calling.ipynb`\n",
    "2. `molecular_phenotypes/calling/splicing_calling.ipynb`\n",
    "3. `molecular_phenotypes/QC/splicing_normalization.ipynb`\n",
    "4. `data_preprocessing/phenotype/gene_annotation.ipynb`\n",
    "\n",
    "Two tools, leafCutter and Psichomics are used in this splicing analyzing workflow and please check the corresponding modules for code documentation. Various reference data need to be prepared before using this workflow, please check [this module](https://cumc.github.io/xqtl-pipeline/code/data_preprocessing/reference_data.html) to download and prepare the reference data. \n",
    "\n",
    "\n",
    "The data used in this mini protocol can be found within the input folder within protocol data folder in the synapse repo as outlined in the landing pages. The `fastq` files can be used for step \"fastqc\", \"fast_trim_adaptor\", and \"STAR_output\" steps below, which are exactly the same as the first half of the RNA-calling mini protocol.\n",
    "\n",
    "The output of the overlapping step can also be found in the output folder within the protocol data folder so that the overlapped step can be skipped."
   ]
  },
  {
   "cell_type": "markdown",
   "id": "959c9253-a46d-452c-9ff8-63920f5766fd",
   "metadata": {
    "kernel": "SoS"
   },
   "source": [
    "## RNA Seq Alignment"
   ]
  },
  {
   "cell_type": "markdown",
   "id": "4e0b52ff-a6a6-4dfe-a9d4-102dceea4f6d",
   "metadata": {
    "kernel": "Bash",
    "tags": []
   },
   "source": [
    "## Perform data quality summary via `fastqc`"
   ]
  },
  {
   "cell_type": "code",
   "execution_count": null,
   "id": "5477432d-3be3-41f9-8b5a-3bc97a801ffd",
   "metadata": {
    "kernel": "Bash"
   },
   "outputs": [],
   "source": [
    "sos run pipeline/RNA_calling.ipynb fastqc \\\n",
    "    --cwd output/rnaseq/fastqc \\\n",
    "    --samples ROSMAP_data/RNASeq/fastq/xqtl_protocol_data.fastqlist \\\n",
    "    --data-dir ROSMAP_data/RNASeq/fastq \\\n",
    "    --container containers/rna_quantification.sif \\\n",
    "    --gtf reference_data/Homo_sapiens.GRCh38.103.chr.reformatted.ERCC.gtf"
   ]
  },
  {
   "cell_type": "markdown",
   "id": "cd07c8ad-26c2-4b2f-8b6d-6439309655c9",
   "metadata": {
    "kernel": "Bash"
   },
   "source": [
    "## Cut adaptor (Optional)\n",
    "This step will trim the fastq file to remove the adaptor. It is optional because the fastq in the protocol data folders are converted from bam file and are already without adaptors.\n"
   ]
  },
  {
   "cell_type": "code",
   "execution_count": null,
   "id": "ab091c33-0555-4a4d-b8cb-519203c8d32d",
   "metadata": {
    "kernel": "Bash"
   },
   "outputs": [],
   "source": [
    "sos run pipeline/RNA_calling.ipynb fastp_trim_adaptor \\\n",
    "    --cwd output/rnaseq --samples ROSMAP_data/RNASeq/fastq/xqtl_protocol_data.fastqlist \\\n",
    "    --data-dir ROSMAP_data/RNASeq/fastq --STAR-index reference_data/STAR_Index/ \\\n",
    "    --gtf reference_data/Homo_sapiens.GRCh38.103.chr.reformatted.ERCC.gtf \\\n",
    "    --container containers/rna_quantification.sif \\\n",
    "    --reference-fasta reference_data/GRCh38_full_analysis_set_plus_decoy_hla.noALT_noHLA_noDecoy_ERCC.fasta \\\n",
    "    --ref-flat reference_data/Homo_sapiens.GRCh38.103.chr.reformatted.ERCC.ref.flat"
   ]
  },
  {
   "cell_type": "markdown",
   "id": "90d1733a-b687-44b0-bad1-cc4845eb5ddd",
   "metadata": {
    "kernel": "Bash"
   },
   "source": [
    "## Read alignment via STAR and QC via Picard.\n",
    "Following step shall take at least 40G of memory ~2hr in total. It will also produce the input needed for the splicing QTL. It should be noted that, the gtf file used here is the same as the one fed into RSEM index step in the refernce data mini protocol, i.e. the one without `gene` in its file name."
   ]
  },
  {
   "cell_type": "code",
   "execution_count": null,
   "id": "371d1b20-c225-400c-8981-6017c1ce3397",
   "metadata": {
    "kernel": "Bash"
   },
   "outputs": [],
   "source": [
    "sos run pipeline/RNA_calling.ipynb STAR_output \\\n",
    "    --cwd output/rnaseq --samples ROSMAP_data/RNASeq/fastq/xqtl_protocol_data.fastqlist \\\n",
    "    --data-dir ROSMAP_data/RNASeq/fastq --STAR-index reference_data/STAR_Index/ \\\n",
    "    --gtf reference_data/Homo_sapiens.GRCh38.103.chr.reformatted.ERCC.gtf \\\n",
    "    --container containers/rna_quantification.sif \\\n",
    "    --reference-fasta reference_data/GRCh38_full_analysis_set_plus_decoy_hla.noALT_noHLA_noDecoy_ERCC.fasta \\\n",
    "    --ref-flat reference_data/Homo_sapiens.GRCh38.103.chr.reformatted.ERCC.ref.flat"
   ]
  },
  {
   "cell_type": "markdown",
   "id": "d74876bd-4e1d-4724-9753-a15161721de7",
   "metadata": {
    "kernel": "Markdown",
    "tags": []
   },
   "source": [
    "The LeafCutter and Psichomics part below should are in parallel. They should be run independently and the corresponding inputs/outputs are not depend on eachother."
   ]
  },
  {
   "cell_type": "markdown",
   "id": "517cdd3d-4b37-45b5-ba39-18890862e426",
   "metadata": {
    "kernel": "Markdown",
    "tags": []
   },
   "source": [
    "## LeafCutter part workflow"
   ]
  },
  {
   "cell_type": "markdown",
   "id": "e37659c8-a16f-4cd2-936f-9524df8c091b",
   "metadata": {
    "kernel": "Markdown",
    "tags": []
   },
   "source": [
    "### Intron usage ratio quantification via `leafCutter`\n",
    "*  `input`: a meta data file contains locations of all Aligned.sortedByCoord.out.bam files to be analyzed.\n",
    "*  `output`: a file with intron usage ratios, end with \"_intron_usage_perind.counts.gz\""
   ]
  },
  {
   "cell_type": "code",
   "execution_count": null,
   "id": "63bcc8fc-7c48-45fd-8ca6-24b2df2cfc61",
   "metadata": {
    "kernel": "Bash",
    "tags": []
   },
   "outputs": [],
   "source": [
    "sos run pipeline/splicing_calling.ipynb leafcutter \\\n",
    "    --cwd output/leaf_cutter/ \\\n",
    "    --samples output/rnaseq/xqtl_protocol_data_bam_list \\\n",
    "    --container containers/leafcutter.sif "
   ]
  },
  {
   "cell_type": "markdown",
   "id": "76a2be61-279c-412e-ac2c-486ac03c3f18",
   "metadata": {
    "kernel": "SoS"
   },
   "source": [
    "### QC and Normalization of leafCutter outputs\n",
    "*  `input`: the \"_intron_usage_perind.counts.gz\" file from previous step\n",
    "*  `output`: QC'd and normalized phenotype table end with \"qqnorm.txt\"\n",
    "Be noted that the `ratio` file to be fed into the leafcutter_norm are the one without `number` tag in its filename. "
   ]
  },
  {
   "cell_type": "code",
   "execution_count": null,
   "id": "18794388-051e-4dca-912f-646d20c460ef",
   "metadata": {
    "kernel": "Bash",
    "tags": []
   },
   "outputs": [],
   "source": [
    "sos run pipeline/splicing_calling.ipynb leafcutter \\\n",
    "    --cwd output/leaf_cutter/ \\\n",
    "    --samples output/rnaseq/xqtl_protocol_data_bam_list \\\n",
    "    --container containers/leafcutter.sif \n",
    "\n",
    "sos run pipeline/splicing_normalization.ipynb leafcutter_norm \\\n",
    "    --cwd output/leaf_cutter/ \\\n",
    "    --ratios output/leaf_cutter/xqtl_protocol_data_bam_list_intron_usage_perind.counts.gz \\\n",
    "    --container containers/leafcutter.sif \n",
    "\n"
   ]
  },
  {
   "cell_type": "markdown",
   "id": "b15ab174-b9e5-44a7-b1ec-9d9365149922",
   "metadata": {
    "kernel": "SoS",
    "tags": []
   },
   "source": [
    "### Post-process of leafcutter outputs for them to be TensorQTL ready\n",
    "*  `input`: output of the previous two steps and the gtf file.\n",
    "*  `output`: a file in bed format end with \"formated.bed.gz\" "
   ]
  },
  {
   "cell_type": "code",
   "execution_count": null,
   "id": "75febff1-0246-4dde-b6bb-71e35c4ce521",
   "metadata": {
    "kernel": "Bash",
    "tags": []
   },
   "outputs": [],
   "source": [
    "sos run pipeline/gene_annotation.ipynb annotate_leafcutter_isoforms \\\n",
    "    --cwd output/leaf_cutter/ \\\n",
    "    --intron_count output/leaf_cutter/xqtl_protocol_data_bam_list_intron_usage_perind_numers.counts.gz \\\n",
    "    --phenoFile output/leaf_cutter/xqtl_protocol_data_bam_list_intron_usage_perind.counts.gz_raw_data.qqnorm.txt \\\n",
    "    --annotation-gtf reference_data/Homo_sapiens.GRCh38.103.chr.reformatted.collapse_only.gene.gtf \\\n",
    "    --container containers/bioinfo.sif \\\n",
    "    --sample_participant_lookup reference_data/sample_participant_lookup.rnaseq"
   ]
  },
  {
   "cell_type": "markdown",
   "id": "f8789922-2ffc-4a34-b611-dde3f95526f6",
   "metadata": {
    "kernel": "Markdown",
    "tags": []
   },
   "source": [
    "## Psichomics part workflow"
   ]
  },
  {
   "cell_type": "markdown",
   "id": "eb9cd0d0-b276-4af0-bc4c-722f0bde19a4",
   "metadata": {
    "kernel": "SoS"
   },
   "source": [
    "### Percent Spliced In (PSI) quantification for alternative splicing events via `Psichomics`\n",
    "*  `input`: a meta data file contains locations of all SJ.out.tab files to be analyzed.\n",
    "*  `output`: psi_raw_data.tsv, contains percent spliced in values for each alternative splicing event"
   ]
  },
  {
   "cell_type": "code",
   "execution_count": null,
   "id": "315abc98-6eef-472d-b072-ccad5b15c5dc",
   "metadata": {
    "kernel": "Bash",
    "tags": []
   },
   "outputs": [],
   "source": [
    "sos run splicing_calling.ipynb psichomics \\\n",
    "    --cwd psichomics_output/ \\\n",
    "    --samples sample_fastq_bam_list\\\n",
    "    --splicing_annotation hg38_suppa.rds \\\n",
    "    --container containers/psichomics.sif"
   ]
  },
  {
   "cell_type": "markdown",
   "id": "57fd143b-3cfa-484d-a208-ba09a3238b92",
   "metadata": {
    "kernel": "SoS"
   },
   "source": [
    "### QC and Normalization of psichomics outputs\n",
    "*  `input`: the \"psi_raw_data.tsv\" file from previous step\n",
    "*  `output`: QC'd and normalized phenotype table end with \"qqnorm.txt\""
   ]
  },
  {
   "cell_type": "code",
   "execution_count": null,
   "id": "8117c046-b0f1-4ef4-875e-2d0bbb1b99bb",
   "metadata": {
    "kernel": "Bash",
    "tags": []
   },
   "outputs": [],
   "source": [
    "sos run pipeline/splicing_normalization.ipynb psichomics_norm\\\n",
    "    --cwd psichomics_output \\\n",
    "    --ratios psichomics_output/psi_raw_data.tsv \\\n",
    "    --container containers/psichomics.sif"
   ]
  },
  {
   "cell_type": "markdown",
   "id": "95271cb7-ad99-4ed4-8e8d-29b268482ffc",
   "metadata": {
    "kernel": "SoS"
   },
   "source": [
    "### Post-process of psichomics outputs for them to be TensorQTL ready\n",
    "*  `input`: the \"qqnorm.txt\" output from the previous step and the gtf file.\n",
    "*  `output`: a file in bed format end with \"formated.bed.gz\" "
   ]
  },
  {
   "cell_type": "code",
   "execution_count": null,
   "id": "1f325183-6ec2-466d-9e2f-66cd30fa6a5b",
   "metadata": {
    "kernel": "Bash"
   },
   "outputs": [],
   "source": [
    "sos run pipeline/code/data_preprocessing/phenotype/gene_annotation.ipynb annotate_psichomics_isoforms \\\n",
    "    --cwd psichomics_output \\\n",
    "    --phenoFile psichomics_output/psichomics_raw_data_bedded.qqnorm.txt \\\n",
    "    --annotation-gtf reference_data/Homo_sapiens.GRCh38.103.chr.reformated.ERCC.gene.gtf \\\n",
    "    --container containers/bioinfo.sif"
   ]
  }
 ],
 "metadata": {
  "kernelspec": {
   "display_name": "SoS",
   "language": "sos",
   "name": "sos"
  },
  "language_info": {
   "codemirror_mode": "sos",
   "file_extension": ".sos",
   "mimetype": "text/x-sos",
   "name": "sos",
   "nbconvert_exporter": "sos_notebook.converter.SoS_Exporter",
   "pygments_lexer": "sos"
  },
  "sos": {
   "kernels": [
    [
     "Bash",
     "bash",
     "Bash",
     "#E6EEFF",
     "shell"
    ],
    [
     "Markdown",
     "markdown",
     "markdown",
     "",
     ""
    ]
   ],
   "version": "0.22.6"
  }
 },
 "nbformat": 4,
 "nbformat_minor": 5
}
