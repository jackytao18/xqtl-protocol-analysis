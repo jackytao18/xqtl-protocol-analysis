{
 "cells": [
  {
   "cell_type": "markdown",
   "id": "eb4c0eb3",
   "metadata": {
    "kernel": "SoS"
   },
   "source": [
    "# This file is used to document what I have learned from this project"
   ]
  },
  {
   "cell_type": "markdown",
   "id": "997feb7b",
   "metadata": {
    "kernel": "SoS"
   },
   "source": [
    "2022-10-04\n",
    "SoS and Jupyter-Notebook are quite new to me, but I saw how important they are in the field of Bioinformatics. I must try to master it if I want to further work in this field.\n",
    "Try to understand how to organize a working repo in GitHub when conducting a project."
   ]
  }
 ],
 "metadata": {
  "kernelspec": {
   "display_name": "SoS",
   "language": "sos",
   "name": "sos"
  },
  "language_info": {
   "codemirror_mode": "sos",
   "file_extension": ".sos",
   "mimetype": "text/x-sos",
   "name": "sos",
   "nbconvert_exporter": "sos_notebook.converter.SoS_Exporter",
   "pygments_lexer": "sos"
  },
  "sos": {
   "kernels": [],
   "panel": {
    "displayed": true,
    "height": 0
   },
   "version": "0.23.4"
  }
 },
 "nbformat": 4,
 "nbformat_minor": 5
}
