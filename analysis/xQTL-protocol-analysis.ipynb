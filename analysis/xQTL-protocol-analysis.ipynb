{
 "cells": [
  {
   "cell_type": "markdown",
   "id": "0614b074",
   "metadata": {
    "kernel": "SoS",
    "tags": []
   },
   "source": [
    "# xQTL-protocol-analysis\n",
    "\n",
    "This is the notebook for the analysis of xQTL protocol as the orientation project in Gao Wang's group."
   ]
  },
  {
   "cell_type": "markdown",
   "id": "0b574d16",
   "metadata": {
    "kernel": "SoS"
   },
   "source": [
    "## Motivation\n",
    "\n",
    "The motivation of this project is to test a minimal toy data-set following the protocol."
   ]
  },
  {
   "cell_type": "markdown",
   "id": "5a7c9f0a",
   "metadata": {
    "kernel": "Markdown"
   },
   "source": [
    "### prepare\n",
    "Set up all the environment."
   ]
  },
  {
   "cell_type": "markdown",
   "id": "0af45a67",
   "metadata": {
    "kernel": "SoS"
   },
   "source": [
    "Download folders from synapse including protocol data, test data, reference data, and containers."
   ]
  },
  {
   "cell_type": "code",
   "execution_count": null,
   "id": "3fdb2dcd",
   "metadata": {
    "kernel": "Bash"
   },
   "outputs": [],
   "source": [
    "synapse get -r syn37178491 \\\n",
    "syn36416601 \\\n",
    "syn36416587 \\\n",
    "syn36416610 "
   ]
  },
  {
   "cell_type": "markdown",
   "id": "a279819c",
   "metadata": {
    "kernel": "Bash"
   },
   "source": [
    "### Step 1 Reference data standardization\n",
    "Since my computer does not meet the requirement of 40GB memory, I downloaded most reference data from Synapse."
   ]
  },
  {
   "cell_type": "markdown",
   "id": "4a44f49a",
   "metadata": {
    "kernel": "Bash"
   },
   "source": [
    "Generate RSEM index based on gtf and reference data."
   ]
  },
  {
   "cell_type": "code",
   "execution_count": null,
   "id": "620d60be",
   "metadata": {
    "kernel": "Bash"
   },
   "outputs": [],
   "source": [
    "sos run ../fork/xqtl-pipeline/pipeline/reference_data.ipynb RSEM_index \\\n",
    "    --cwd reference_data \\\n",
    "    --hg-reference reference_data/GRCh38_full_analysis_set_plus_decoy_hla.noALT_noHLA_noDecoy_ERCC.fasta \\\n",
    "    --hg-gtf reference_data/Homo_sapiens.GRCh38.103.chr.reformatted.ERCC.gtf \\\n",
    "    --container containers/singularity/rna_quantification.sif "
   ]
  },
  {
   "cell_type": "markdown",
   "id": "7cedcc95",
   "metadata": {
    "kernel": "Bash"
   },
   "source": [
    "Generate the SUPPA annotation for psichomics to detect RNA alternative splicing events."
   ]
  },
  {
   "cell_type": "code",
   "execution_count": null,
   "id": "d6fe0183",
   "metadata": {
    "kernel": "Bash"
   },
   "outputs": [],
   "source": [
    "sos run ../fork/xqtl-pipeline/pipeline/reference_data.ipynb SUPPA_annotation \\\n",
    "    --hg_gtf reference_data/Homo_sapiens.GRCh38.103.chr.reformatted.ERCC.gtf \\\n",
    "    --container containers/singularity/psichomics.sif"
   ]
  },
  {
   "cell_type": "markdown",
   "id": "59f0c06a",
   "metadata": {
    "kernel": "Bash"
   },
   "source": [
    "### Step 2 Quantification of gene expression\n",
    "\n",
    "Perform data quality summary via fastqc."
   ]
  },
  {
   "cell_type": "code",
   "execution_count": null,
   "id": "2a7c68c9",
   "metadata": {
    "kernel": "Bash"
   },
   "outputs": [],
   "source": [
    "sos run ../fork/xqtl-pipeline/pipeline/RNA_calling.ipynb fastqc \\\n",
    "    --cwd output/rnaseq/fastqc \\\n",
    "    --samples protocol_data/input_data/RNASeq/fastq/xqtl_protocol_data.fastqlist \\\n",
    "    --data-dir protocol_data/input_data/RNASeq/fastq \\\n",
    "    --container containers/singularity/rna_quantification.sif \\\n",
    "    --gtf reference_data/Homo_sapiens.GRCh38.103.chr.reformatted.ERCC.gtf"
   ]
  },
  {
   "cell_type": "markdown",
   "id": "c01876ba",
   "metadata": {
    "kernel": "Bash"
   },
   "source": [
    "I skipped the step Read alignment via STAR and QC via Picard.\n",
    "\n",
    "Next step is Call gene-level RNA expression via rnaseqc."
   ]
  },
  {
   "cell_type": "code",
   "execution_count": null,
   "id": "8e81ae36",
   "metadata": {
    "kernel": "Bash"
   },
   "outputs": [],
   "source": [
    "sos run ../fork/xqtl-pipeline/pipeline/RNA_calling.ipynb rnaseqc_call \\\n",
    "    --cwd output/rnaseq \\\n",
    "    --samples protocol_data/input_data/RNASeq/fastq/xqtl_protocol_data.fastqlist \\\n",
    "    --data-dir protocol_data/input_data/RNASeq/fastq \\\n",
    "    --gtf reference_data/Homo_sapiens.GRCh38.103.chr.reformatted.collapse_only.gene.gtf \\\n",
    "    --container containers/singularity/rna_quantification.sif \\\n",
    "    --reference-fasta reference_data/GRCh38_full_analysis_set_plus_decoy_hla.noALT_noHLA_noDecoy.fasta \\\n",
    "    --bam_list output/rnaseq/xqtl_protocol_data_bam_list"
   ]
  },
  {
   "cell_type": "markdown",
   "id": "2b89c198",
   "metadata": {
    "kernel": "Bash"
   },
   "source": [
    "Then Call transcript level RNA expression via RSEM.\n",
    "And it takes about 30 mins to complete."
   ]
  },
  {
   "cell_type": "code",
   "execution_count": null,
   "id": "1b1e61db",
   "metadata": {
    "kernel": "Bash"
   },
   "outputs": [],
   "source": [
    "sos run ../fork/xqtl-pipeline/pipeline/RNA_calling.ipynb rsem_call  \\\n",
    "    --cwd output/rnaseq   \\\n",
    "    --samples protocol_data/input_data/RNASeq/fastq/xqtl_protocol_data.fastqlist  \\\n",
    "    --data-dir protocol_data/input_data/RNASeq/fastq   \\\n",
    "    --RSEM-index reference_data/RSEM_Index/   \\\n",
    "    --container containers/singularity/rna_quantification.sif   \\\n",
    "    --bam_list output/rnaseq/xqtl_protocol_data_bam_list   "
   ]
  },
  {
   "cell_type": "markdown",
   "id": "ed7f8fdc",
   "metadata": {
    "kernel": "Bash"
   },
   "source": [
    "Multi-sample RNA-seq QC."
   ]
  },
  {
   "cell_type": "code",
   "execution_count": null,
   "id": "a4244424",
   "metadata": {
    "kernel": "Bash"
   },
   "outputs": [],
   "source": [
    "sos run ../fork/xqtl-pipeline/pipeline/bulk_expression_QC.ipynb qc \\\n",
    "    --cwd output/rnaseq \\\n",
    "    --tpm-gct output/rnaseq/xqtl_protocol_data.rnaseqc.gene_tpm.gct.gz \\\n",
    "    --counts-gct output/rnaseq/xqtl_protocol_data.rnaseqc.gene_readsCount.gct.gz \\\n",
    "    --container containers/singularity/rna_quantification.sif "
   ]
  },
  {
   "cell_type": "markdown",
   "id": "e2d02dbc",
   "metadata": {
    "kernel": "Bash"
   },
   "source": [
    "Multi-sample read count normalization.\n",
    "First download the reference_data/sample_participant_lookup.rnaseq file from the reference_data folder within the synapses."
   ]
  },
  {
   "cell_type": "code",
   "execution_count": null,
   "id": "85a22e70",
   "metadata": {
    "kernel": "Bash"
   },
   "outputs": [],
   "source": [
    "sos run ../fork/xqtl-pipeline/pipeline/bulk_expression_normalization.ipynb normalize \\\n",
    "    --cwd output/rnaseq \\\n",
    "    --tpm-gct output/rnaseq/xqtl_protocol_data.rnaseqc.low_expression_filtered.outlier_removed.tpm.gct.gz \\\n",
    "    --counts-gct output/rnaseq/xqtl_protocol_data.rnaseqc.low_expression_filtered.outlier_removed.geneCount.gct.gz \\\n",
    "    --annotation-gtf reference_data/Homo_sapiens.GRCh38.103.chr.reformatted.collapse_only.gene.ERCC.gtf  \\\n",
    "    --container containers/singularity/rna_quantification.sif \\\n",
    "    --count-threshold 1 \n",
    "    --sample_participant_lookup reference_data/sample_participant_lookup.rnaseq"
   ]
  },
  {
   "cell_type": "markdown",
   "id": "a7d156fc",
   "metadata": {
    "kernel": "Bash"
   },
   "source": [
    "Region list generation."
   ]
  },
  {
   "cell_type": "code",
   "execution_count": null,
   "id": "3ab6ee4a",
   "metadata": {
    "kernel": "Bash"
   },
   "outputs": [],
   "source": [
    "sos run ../fork/xqtl-pipeline/pipeline/gene_annotation.ipynb region_list_generation \\\n",
    "    --cwd output/rnaseq  \\\n",
    "    --phenoFile output/rnaseq/xqtl_protocol_data.rnaseqc.low_expression_filtered.outlier_removed.tmm.expression.bed.gz \\\n",
    "    --annotation-gtf reference_data/Homo_sapiens.GRCh38.103.chr.reformatted.collapse_only.gene.ERCC.gtf  \\\n",
    "    --sample-participant-lookup reference_data/sample_participant_lookup.rnaseq \\\n",
    "    --container containers/singularity/bioinfo.sif \\\n",
    "    --phenotype-id-type gene_id"
   ]
  },
  {
   "cell_type": "markdown",
   "id": "a8ef5f17",
   "metadata": {
    "kernel": "Bash"
   },
   "source": [
    "### Step 3 Quantification of alternative splicing events"
   ]
  },
  {
   "cell_type": "markdown",
   "id": "145de49b",
   "metadata": {
    "kernel": "Bash"
   },
   "source": [
    "#### LeafCutter part workflow\n",
    "Intron usage ratio quantification via leafCutter."
   ]
  },
  {
   "cell_type": "code",
   "execution_count": null,
   "id": "5f1b5953",
   "metadata": {
    "kernel": "Bash"
   },
   "outputs": [],
   "source": [
    "sos run ../fork/xqtl-pipeline/pipeline/splicing_calling.ipynb leafcutter \\\n",
    "    --cwd output/leaf_cutter/ \\\n",
    "    --samples output/rnaseq/xqtl_protocol_data_bam_list \\\n",
    "    --container containers/singularity/leafcutter.sif "
   ]
  },
  {
   "cell_type": "markdown",
   "id": "92130186",
   "metadata": {
    "kernel": "Bash"
   },
   "source": [
    "QC and Normalization of leafCutter outputs"
   ]
  },
  {
   "cell_type": "code",
   "execution_count": null,
   "id": "90af0b6a",
   "metadata": {
    "kernel": "Bash"
   },
   "outputs": [],
   "source": [
    "sos run ../fork/xqtl-pipeline/pipeline/splicing_normalization.ipynb leafcutter_norm \\\n",
    "    --cwd output/leaf_cutter/ \\\n",
    "    --ratios output/leaf_cutter/xqtl_protocol_data_bam_list_intron_usage_perind.counts.gz \\\n",
    "    --container containers/singularity/leafcutter.sif "
   ]
  },
  {
   "cell_type": "markdown",
   "id": "7cb5fd1a",
   "metadata": {
    "kernel": "Bash"
   },
   "source": [
    "Post-process of leafcutter outputs for them to be TensorQTL ready"
   ]
  },
  {
   "cell_type": "code",
   "execution_count": null,
   "id": "a3fcb910",
   "metadata": {
    "kernel": "Bash"
   },
   "outputs": [],
   "source": [
    "sos run ../fork/xqtl-pipeline/pipeline/gene_annotation.ipynb annotate_leafcutter_isoforms \\\n",
    "    --cwd output/leaf_cutter/ \\\n",
    "    --intron_count output/leaf_cutter/xqtl_protocol_data_bam_list_intron_usage_perind_numers.counts.gz \\\n",
    "    --phenoFile output/leaf_cutter/xqtl_protocol_data_bam_list_intron_usage_perind.counts.gz_raw_data.qqnorm.txt \\\n",
    "    --annotation-gtf reference_data/Homo_sapiens.GRCh38.103.chr.reformatted.collapse_only.gene.gtf \\\n",
    "    --container containers/singularity/bioinfo.sif \\\n",
    "    --sample_participant_lookup reference_data/sample_participant_lookup.rnaseq"
   ]
  },
  {
   "cell_type": "markdown",
   "id": "e6876934",
   "metadata": {
    "kernel": "Bash"
   },
   "source": [
    "#### Psichomics part workflow"
   ]
  }
 ],
 "metadata": {
  "kernelspec": {
   "display_name": "SoS",
   "language": "sos",
   "name": "sos"
  },
  "language_info": {
   "codemirror_mode": "sos",
   "file_extension": ".sos",
   "mimetype": "text/x-sos",
   "name": "sos",
   "nbconvert_exporter": "sos_notebook.converter.SoS_Exporter",
   "pygments_lexer": "sos"
  },
  "sos": {
   "kernels": [
    [
     "Bash",
     "bash",
     "Bash",
     "#E6EEFF",
     ""
    ]
   ],
   "panel": {
    "displayed": true,
    "height": 0
   },
   "version": "0.23.4"
  }
 },
 "nbformat": 4,
 "nbformat_minor": 5
}
