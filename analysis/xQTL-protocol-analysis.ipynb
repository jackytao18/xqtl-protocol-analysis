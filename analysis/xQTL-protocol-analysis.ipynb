{
 "cells": [
  {
   "cell_type": "markdown",
   "id": "0614b074",
   "metadata": {
    "kernel": "SoS",
    "tags": []
   },
   "source": [
    "# xQTL-protocol-analysis\n",
    "\n",
    "This is the notebook for the analysis of xQTL protocol as the orientation project in Gao Wang's group."
   ]
  },
  {
   "cell_type": "markdown",
   "id": "0b574d16",
   "metadata": {
    "kernel": "SoS"
   },
   "source": [
    "## Motivation\n",
    "\n",
    "The motivation of this project is to test a minimal toy data-set following the protocol."
   ]
  },
  {
   "cell_type": "markdown",
   "id": "5a7c9f0a",
   "metadata": {
    "kernel": "Markdown"
   },
   "source": [
    "### Step 1\n",
    "Set up all the environment."
   ]
  },
  {
   "cell_type": "markdown",
   "id": "0af45a67",
   "metadata": {
    "kernel": "SoS"
   },
   "source": [
    "### Step 2\n",
    "Download folders from synapse including protocol data, test data, reference data, and containers."
   ]
  },
  {
   "cell_type": "code",
   "execution_count": null,
   "id": "3fdb2dcd",
   "metadata": {
    "kernel": "Bash"
   },
   "outputs": [],
   "source": [
    "synapse get -r syn37178491 \\\n",
    "syn36416601 \\\n",
    "syn36416587 \\\n",
    "syn36416610 "
   ]
  }
 ],
 "metadata": {
  "kernelspec": {
   "display_name": "SoS",
   "language": "sos",
   "name": "sos"
  },
  "language_info": {
   "codemirror_mode": "sos",
   "file_extension": ".sos",
   "mimetype": "text/x-sos",
   "name": "sos",
   "nbconvert_exporter": "sos_notebook.converter.SoS_Exporter",
   "pygments_lexer": "sos"
  },
  "sos": {
   "kernels": [
    [
     "Bash",
     "bash",
     "Bash",
     "#E6EEFF",
     ""
    ]
   ],
   "panel": {
    "displayed": true,
    "height": 0
   },
   "version": "0.23.4"
  }
 },
 "nbformat": 4,
 "nbformat_minor": 5
}
