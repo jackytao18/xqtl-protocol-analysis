{
 "cells": [
  {
   "cell_type": "markdown",
   "id": "0614b074",
   "metadata": {
    "kernel": "SoS",
    "tags": []
   },
   "source": [
    "# xQTL-protocol-analysis\n",
    "\n",
    "This is the notebook for the analysis of xQTL protocol as the orientation project in Gao Wang's group."
   ]
  },
  {
   "cell_type": "markdown",
   "id": "0b574d16",
   "metadata": {
    "kernel": "SoS"
   },
   "source": [
    "## Motivation\n",
    "\n",
    "The motivation of this project is to test a minimal toy data-set following the protocol."
   ]
  },
  {
   "cell_type": "markdown",
   "id": "5a7c9f0a",
   "metadata": {
    "kernel": "Markdown"
   },
   "source": [
    "### prepare\n",
    "Set up all the environment."
   ]
  },
  {
   "cell_type": "markdown",
   "id": "0af45a67",
   "metadata": {
    "kernel": "SoS"
   },
   "source": [
    "Download folders from synapse including protocol data, test data, reference data, and containers."
   ]
  },
  {
   "cell_type": "code",
   "execution_count": null,
   "id": "3fdb2dcd",
   "metadata": {
    "kernel": "Bash"
   },
   "outputs": [],
   "source": [
    "synapse get -r syn37178491 \\\n",
    "syn36416601 \\\n",
    "syn36416587 \\\n",
    "syn36416610 "
   ]
  },
  {
   "cell_type": "markdown",
   "id": "a279819c",
   "metadata": {
    "kernel": "Bash"
   },
   "source": [
    "### Step 1 Reference data standardization\n",
    "Since my computer does not meet the requirement of 40GB memory, I downloaded most reference data from Synapse."
   ]
  },
  {
   "cell_type": "markdown",
   "id": "4a44f49a",
   "metadata": {
    "kernel": "Bash"
   },
   "source": [
    "Generate RSEM index based on gtf and reference data"
   ]
  },
  {
   "cell_type": "code",
   "execution_count": null,
   "id": "620d60be",
   "metadata": {
    "kernel": "Bash"
   },
   "outputs": [],
   "source": [
    "sos run pipeline/reference_data.ipynb RSEM_index \\\n",
    "    --cwd reference_data \\\n",
    "    --hg-reference reference_data/GRCh38_full_analysis_set_plus_decoy_hla.noALT_noHLA_noDecoy_ERCC.fasta \\\n",
    "    --hg-gtf reference_data/Homo_sapiens.GRCh38.103.chr.reformatted.ERCC.gtf \\\n",
    "    --container containers/singularity/rna_quantification.sif  &"
   ]
  }
 ],
 "metadata": {
  "kernelspec": {
   "display_name": "SoS",
   "language": "sos",
   "name": "sos"
  },
  "language_info": {
   "codemirror_mode": "sos",
   "file_extension": ".sos",
   "mimetype": "text/x-sos",
   "name": "sos",
   "nbconvert_exporter": "sos_notebook.converter.SoS_Exporter",
   "pygments_lexer": "sos"
  },
  "sos": {
   "kernels": [
    [
     "Bash",
     "bash",
     "Bash",
     "#E6EEFF",
     ""
    ]
   ],
   "panel": {
    "displayed": true,
    "height": 0
   },
   "version": "0.23.4"
  }
 },
 "nbformat": 4,
 "nbformat_minor": 5
}
