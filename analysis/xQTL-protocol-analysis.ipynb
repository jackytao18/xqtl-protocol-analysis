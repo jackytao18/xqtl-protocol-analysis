{
 "cells": [
  {
   "cell_type": "markdown",
   "id": "0614b074",
   "metadata": {
    "kernel": "SoS",
    "tags": []
   },
   "source": [
    "# Test and Improve xQTL protocol\n",
    "\n",
    "This is the notebook for the analysis of xQTL protocol as the orientation project in Gao Wang's group."
   ]
  },
  {
   "cell_type": "markdown",
   "id": "0b574d16",
   "metadata": {
    "kernel": "SoS"
   },
   "source": [
    "## Motivation\n",
    "\n",
    "The motivation of this project is to test a minimal data-set following the protocol. Try to run the protocol step by step and to learn as much as possible in the process."
   ]
  },
  {
   "cell_type": "markdown",
   "id": "280a612d",
   "metadata": {
    "kernel": "SoS"
   },
   "source": [
    "## To do"
   ]
  },
  {
   "cell_type": "markdown",
   "id": "5a7c9f0a",
   "metadata": {
    "kernel": "Markdown"
   },
   "source": [
    "### Prepare\n",
    "Set up all the environment, including wsl2(Ubuntu), Singularity, miniconda, and Script of Scripts."
   ]
  },
  {
   "cell_type": "markdown",
   "id": "0af45a67",
   "metadata": {
    "kernel": "SoS"
   },
   "source": [
    "Download folders from synapse including protocol data, test data, reference data, and containers."
   ]
  },
  {
   "cell_type": "code",
   "execution_count": null,
   "id": "3fdb2dcd",
   "metadata": {
    "kernel": "Bash"
   },
   "outputs": [],
   "source": [
    "synapse get -r syn37178491 \\\n",
    "syn36416601 \\\n",
    "syn36416587 \\\n",
    "syn36416610 "
   ]
  },
  {
   "cell_type": "markdown",
   "id": "a279819c",
   "metadata": {
    "kernel": "Bash"
   },
   "source": [
    "### Step 1 Reference data standardization\n",
    "Since my computer does not meet the requirement of 40GB memory, I downloaded most reference data from Synapse."
   ]
  },
  {
   "cell_type": "markdown",
   "id": "4a44f49a",
   "metadata": {
    "kernel": "Bash"
   },
   "source": [
    "Generate RSEM index based on gtf and reference data."
   ]
  },
  {
   "cell_type": "code",
   "execution_count": null,
   "id": "620d60be",
   "metadata": {
    "kernel": "Bash"
   },
   "outputs": [],
   "source": [
    "sos run ../fork/xqtl-pipeline/pipeline/reference_data.ipynb RSEM_index \\\n",
    "    --cwd reference_data \\\n",
    "    --hg-reference reference_data/GRCh38_full_analysis_set_plus_decoy_hla.noALT_noHLA_noDecoy_ERCC.fasta \\\n",
    "    --hg-gtf reference_data/Homo_sapiens.GRCh38.103.chr.reformatted.ERCC.gtf \\\n",
    "    --container containers/singularity/rna_quantification.sif "
   ]
  },
  {
   "cell_type": "markdown",
   "id": "7cedcc95",
   "metadata": {
    "kernel": "Bash"
   },
   "source": [
    "Generate the SUPPA annotation for psichomics to detect RNA alternative splicing events."
   ]
  },
  {
   "cell_type": "code",
   "execution_count": null,
   "id": "d6fe0183",
   "metadata": {
    "kernel": "Bash"
   },
   "outputs": [],
   "source": [
    "sos run ../fork/xqtl-pipeline/pipeline/reference_data.ipynb SUPPA_annotation \\\n",
    "    --hg_gtf reference_data/Homo_sapiens.GRCh38.103.chr.reformatted.ERCC.gtf \\\n",
    "    --container containers/singularity/psichomics.sif"
   ]
  },
  {
   "cell_type": "markdown",
   "id": "59f0c06a",
   "metadata": {
    "kernel": "Bash"
   },
   "source": [
    "### Step 2 Quantification of gene expression\n",
    "\n",
    "Perform data quality summary via fastqc."
   ]
  },
  {
   "cell_type": "code",
   "execution_count": null,
   "id": "2a7c68c9",
   "metadata": {
    "kernel": "Bash"
   },
   "outputs": [],
   "source": [
    "sos run ../fork/xqtl-pipeline/pipeline/RNA_calling.ipynb fastqc \\\n",
    "    --cwd output/rnaseq/fastqc \\\n",
    "    --samples protocol_data/input_data/RNASeq/fastq/xqtl_protocol_data.fastqlist \\\n",
    "    --data-dir protocol_data/input_data/RNASeq/fastq \\\n",
    "    --container containers/singularity/rna_quantification.sif \\\n",
    "    --gtf reference_data/Homo_sapiens.GRCh38.103.chr.reformatted.ERCC.gtf"
   ]
  },
  {
   "cell_type": "markdown",
   "id": "0a7cfeff",
   "metadata": {
    "kernel": "Bash"
   },
   "source": [
    "Here is the output example:"
   ]
  },
  {
   "cell_type": "markdown",
   "id": "91fdf328",
   "metadata": {
    "kernel": "Bash"
   },
   "source": [
    "##FastQC\t0.11.9\n",
    ">>Basic Statistics\tpass\n",
    "#Measure\tValue\n",
    "Filename\tSample_1.subsetted.2.fastq\n",
    "File type\tConventional base calls\n",
    "Encoding\tSanger / Illumina 1.9\n",
    "Total Sequences\t2434685\n",
    "Sequences flagged as poor quality\t0\n",
    "Sequence length\t101\n",
    "%GC\t57\n",
    ">>END_MODULE\n",
    ">>Per base sequence quality\tpass\n",
    "#Base\tMean\tMedian\tLower Quartile\tUpper Quartile\t10th Percentile\t90th Percentile\n",
    "1\t30.185474506969076\t31.0\t31.0\t34.0\t26.0\t34.0\n",
    "2\t30.391895050078347\t33.0\t31.0\t34.0\t26.0\t34.0\n",
    "3\t30.40025136721999\t34.0\t31.0\t34.0\t26.0\t34.0\n",
    "4\t33.722677060892885\t37.0\t35.0\t37.0\t28.0\t37.0\n",
    "5\t33.68968634546153\t37.0\t35.0\t37.0\t28.0\t37.0\n",
    "6\t33.76541893509838\t37.0\t35.0\t37.0\t30.0\t37.0\n",
    "7\t33.55300295520776\t37.0\t35.0\t37.0\t28.0\t37.0\n"
   ]
  },
  {
   "cell_type": "markdown",
   "id": "c01876ba",
   "metadata": {
    "kernel": "Bash"
   },
   "source": [
    "I skipped the step Read alignment via STAR and QC via Picard.\n",
    "\n",
    "Next step is Call gene-level RNA expression via rnaseqc."
   ]
  },
  {
   "cell_type": "code",
   "execution_count": null,
   "id": "8e81ae36",
   "metadata": {
    "kernel": "Bash"
   },
   "outputs": [],
   "source": [
    "sos run ../fork/xqtl-pipeline/pipeline/RNA_calling.ipynb rnaseqc_call \\\n",
    "    --cwd output/rnaseq \\\n",
    "    --samples protocol_data/input_data/RNASeq/fastq/xqtl_protocol_data.fastqlist \\\n",
    "    --data-dir protocol_data/input_data/RNASeq/fastq \\\n",
    "    --gtf reference_data/Homo_sapiens.GRCh38.103.chr.reformatted.collapse_only.gene.gtf \\\n",
    "    --container containers/singularity/rna_quantification.sif \\\n",
    "    --reference-fasta reference_data/GRCh38_full_analysis_set_plus_decoy_hla.noALT_noHLA_noDecoy.fasta \\\n",
    "    --bam_list output/rnaseq/xqtl_protocol_data_bam_list"
   ]
  },
  {
   "cell_type": "markdown",
   "id": "2b89c198",
   "metadata": {
    "kernel": "Bash"
   },
   "source": [
    "Then Call transcript level RNA expression via RSEM.\n",
    "And it takes about 30 mins to complete."
   ]
  },
  {
   "cell_type": "code",
   "execution_count": null,
   "id": "1b1e61db",
   "metadata": {
    "kernel": "Bash"
   },
   "outputs": [],
   "source": [
    "sos run ../fork/xqtl-pipeline/pipeline/RNA_calling.ipynb rsem_call  \\\n",
    "    --cwd output/rnaseq   \\\n",
    "    --samples protocol_data/input_data/RNASeq/fastq/xqtl_protocol_data.fastqlist  \\\n",
    "    --data-dir protocol_data/input_data/RNASeq/fastq   \\\n",
    "    --RSEM-index reference_data/RSEM_Index/   \\\n",
    "    --container containers/singularity/rna_quantification.sif   \\\n",
    "    --bam_list output/rnaseq/xqtl_protocol_data_bam_list   "
   ]
  },
  {
   "cell_type": "markdown",
   "id": "62839069",
   "metadata": {
    "kernel": "Bash"
   },
   "source": [
    "Here is the output example:"
   ]
  },
  {
   "cell_type": "markdown",
   "id": "6745827a",
   "metadata": {
    "kernel": "Bash"
   },
   "source": [
    "gene_id\ttranscript_id(s)\tlength\teffective_length\texpected_count\tTPM\tFPKM\n",
    "ENSG00000000003\tENST00000373020,ENST00000494424,ENST00000496771,ENST00000612152,ENST00000614008\t2061.80\t1775.53\t0.00\t0.00\t0.00\n",
    "ENSG00000000005\tENST00000373031,ENST00000485971\t873.50\t588.52\t0.00\t0.00\t0.00\n",
    "ENSG00000000419\tENST00000371582,ENST00000371584,ENST00000371588,ENST00000413082,ENST00000466152,ENST00000494752\t974.33\t688.16\t0.00\t0.00\t0.00\n",
    "ENSG00000000457\tENST00000367770,ENST00000367771,ENST00000367772,ENST00000423670,ENST00000470238\t3185.80\t2899.51\t0.00\t0.00\t0.00\n",
    "ENSG00000000460\tENST00000286031,ENST00000359326,ENST00000413811,ENST00000459772,ENST00000466580,ENST00000472795,ENST00000481744,ENST00000496973,ENST00000498289\t2431.11\t2144.87\t0.00\t0.00\t0.00\n",
    "ENSG00000000938\tENST00000374003,ENST00000374004,ENST00000374005,ENST00000399173,ENST00000457296,ENST00000468038,ENST00000475472\t1722.14\t1435.95\t0.00\t0.00\t0.00\n",
    "ENSG00000000971\tENST00000359637,ENST00000367429,ENST00000466229,ENST00000470918,ENST00000496761,ENST00000630130\t2560.33\t2274.47\t0.00\t0.00\t0.00\n",
    "ENSG00000001036\tENST00000002165,ENST00000367585,ENST00000451668\t1256.00\t970.05\t0.00\t0.00\t0.00\n",
    "ENSG00000001084\tENST00000504353,ENST00000504525,ENST00000505197,ENST00000505294,ENST00000509541,ENST00000510837,ENST00000513939,ENST00000514004,ENST00000514373,ENST00000514933,ENST00000515580,ENST00000616923,ENST00000643939,ENST00000650454\t1723.64\t1439.58\t0.00\t0.00\t0.00\n"
   ]
  },
  {
   "cell_type": "markdown",
   "id": "ed7f8fdc",
   "metadata": {
    "kernel": "Bash"
   },
   "source": [
    "Multi-sample RNA-seq QC."
   ]
  },
  {
   "cell_type": "code",
   "execution_count": null,
   "id": "a4244424",
   "metadata": {
    "kernel": "Bash"
   },
   "outputs": [],
   "source": [
    "sos run ../fork/xqtl-pipeline/pipeline/bulk_expression_QC.ipynb qc \\\n",
    "    --cwd output/rnaseq \\\n",
    "    --tpm-gct output/rnaseq/xqtl_protocol_data.rnaseqc.gene_tpm.gct.gz \\\n",
    "    --counts-gct output/rnaseq/xqtl_protocol_data.rnaseqc.gene_readsCount.gct.gz \\\n",
    "    --container containers/singularity/rna_quantification.sif "
   ]
  },
  {
   "cell_type": "markdown",
   "id": "e2d02dbc",
   "metadata": {
    "kernel": "Bash"
   },
   "source": [
    "Multi-sample read count normalization.\n",
    "First download the reference_data/sample_participant_lookup.rnaseq file from the reference_data folder within the synapses."
   ]
  },
  {
   "cell_type": "code",
   "execution_count": null,
   "id": "85a22e70",
   "metadata": {
    "kernel": "Bash"
   },
   "outputs": [],
   "source": [
    "sos run ../fork/xqtl-pipeline/pipeline/bulk_expression_normalization.ipynb normalize \\\n",
    "    --cwd output/rnaseq \\\n",
    "    --tpm-gct output/rnaseq/xqtl_protocol_data.rnaseqc.low_expression_filtered.outlier_removed.tpm.gct.gz \\\n",
    "    --counts-gct output/rnaseq/xqtl_protocol_data.rnaseqc.low_expression_filtered.outlier_removed.geneCount.gct.gz \\\n",
    "    --annotation-gtf reference_data/Homo_sapiens.GRCh38.103.chr.reformatted.collapse_only.gene.ERCC.gtf  \\\n",
    "    --container containers/singularity/rna_quantification.sif \\\n",
    "    --count-threshold 1 \n",
    "    --sample_participant_lookup reference_data/sample_participant_lookup.rnaseq"
   ]
  },
  {
   "cell_type": "markdown",
   "id": "a7d156fc",
   "metadata": {
    "kernel": "Bash"
   },
   "source": [
    "Region list generation."
   ]
  },
  {
   "cell_type": "code",
   "execution_count": null,
   "id": "3ab6ee4a",
   "metadata": {
    "kernel": "Bash"
   },
   "outputs": [],
   "source": [
    "sos run ../fork/xqtl-pipeline/pipeline/gene_annotation.ipynb region_list_generation \\\n",
    "    --cwd output/rnaseq  \\\n",
    "    --phenoFile output/rnaseq/xqtl_protocol_data.rnaseqc.low_expression_filtered.outlier_removed.tmm.expression.bed.gz \\\n",
    "    --annotation-gtf reference_data/Homo_sapiens.GRCh38.103.chr.reformatted.collapse_only.gene.ERCC.gtf  \\\n",
    "    --sample-participant-lookup reference_data/sample_participant_lookup.rnaseq \\\n",
    "    --container containers/singularity/bioinfo.sif \\\n",
    "    --phenotype-id-type gene_id"
   ]
  },
  {
   "cell_type": "markdown",
   "id": "a8ef5f17",
   "metadata": {
    "kernel": "Bash"
   },
   "source": [
    "### Step 3 Quantification of alternative splicing events"
   ]
  },
  {
   "cell_type": "markdown",
   "id": "145de49b",
   "metadata": {
    "kernel": "Bash"
   },
   "source": [
    "#### LeafCutter part workflow\n",
    "Intron usage ratio quantification via leafCutter."
   ]
  },
  {
   "cell_type": "code",
   "execution_count": null,
   "id": "5f1b5953",
   "metadata": {
    "kernel": "Bash"
   },
   "outputs": [],
   "source": [
    "sos run ../fork/xqtl-pipeline/pipeline/splicing_calling.ipynb leafcutter \\\n",
    "    --cwd output/leaf_cutter/ \\\n",
    "    --samples output/rnaseq/xqtl_protocol_data_bam_list \\\n",
    "    --container containers/singularity/leafcutter.sif "
   ]
  },
  {
   "cell_type": "markdown",
   "id": "92130186",
   "metadata": {
    "kernel": "Bash"
   },
   "source": [
    "QC and Normalization of leafCutter outputs"
   ]
  },
  {
   "cell_type": "code",
   "execution_count": null,
   "id": "90af0b6a",
   "metadata": {
    "kernel": "Bash"
   },
   "outputs": [],
   "source": [
    "sos run ../fork/xqtl-pipeline/pipeline/splicing_normalization.ipynb leafcutter_norm \\\n",
    "    --cwd output/leaf_cutter/ \\\n",
    "    --ratios output/leaf_cutter/xqtl_protocol_data_bam_list_intron_usage_perind.counts.gz \\\n",
    "    --container containers/singularity/leafcutter.sif "
   ]
  },
  {
   "cell_type": "markdown",
   "id": "eb098605",
   "metadata": {
    "kernel": "Bash"
   },
   "source": [
    "One of the output files : xqtl_protocol_data_bam_list_intron_usage_perind.counts.gz_raw_data.qqnorm.txt, is like below:"
   ]
  },
  {
   "cell_type": "markdown",
   "id": "8bd3505f",
   "metadata": {
    "kernel": "Bash"
   },
   "source": [
    "#Chr\tstart\tend\tID\tSample_1\tSample_2\tSample_3\tSample_4\tSample_5\tSample_6\tSample_7\tSample_8\tSample_9\tSample_10\tSample_11\tSample_12\tSample_13\tSample_14\tSample_15\tSample_16\tSample_17\tSample_18\tSample_19\tSample_20\tSample_21\tSample_22\tSample_23\tSample_24\tSample_25\tSample_26\tSample_27\tSample_28\tSample_29\tSample_30\tSample_31\tSample_32\tSample_33\tSample_34\tSample_35\tSample_36\tSample_37\tSample_38\tSample_39\tSample_40\tSample_41\tSample_42\tSample_43\tSample_44\tSample_45\tSample_46\tSample_47\tSample_48\tSample_49\n",
    "chr21\t5025049\t5026280\tchr21:5025049:5026280:clu_15_+\t1.1801553949206993\t0.5906565965145529\t0.5960707801745235\t-1.6434980544790627\t1.2447084836099003\t1.4488709651528058\t0.024767507497203564\t-1.9959345209493737\t-0.5975504065484583\t0.945681846770402\t-0.9599791658266483\t-0.9020422684809566\t0.8897112621556369\t-0.19606680320034311\t0.007842322641267207\t-0.36938699698914385\t1.0488367675600292\t-1.1556649946967998\t0.5279082999276027\t0.22815072998276123\t-1.6712040702398938\t0.981800939495538\t-0.10669146239265827\t3.7678444273707323\t1.186806881808846\t-1.089030823980715\t-1.1147835411321065\t-0.8799430354726265\t-0.7368364708571798\t0.01114446967948394\t-0.7265869818199944\t0.6941822484312622\t0.7881748560936481\t-2.0239323600402557\t-0.09549007630309227\t-0.24810816766140223\t-1.1678226399714962\t1.1444699743170754\t0.43518480760880945\t0.2036461815242063\t0.9612886610800289\t1.600439716297775\t0.8582654105186588\t0.2630341109278683\t-1.2766877783993482\t-2.060460691392621\t-0.6446048822073186\t0.23790528939977273\t0.0718802793343171\n",
    "chr21\t5025049\t5027935\tchr21:5025049:5027935:clu_15_+\t0.8720677573430018\t1.0618024560241432\t-0.1278873740051456\t0.6109266400380272\t-0.0049530153602243615\t-0.9691805187253599\t-1.258256442012576\t1.7253064829667735\t0.7926876590693943\t-0.7853624895182748\t-1.1564701919048186\t-0.5029245931109543\t-0.7148136668886392\t-1.2174105560253587\t1.5629533829758746\t-1.2729668538962486\t0.7808755744809718\t1.0830755164912185\t-1.2447084836099003\t-1.447692932204825\t-0.13746457371832715\t-0.4861327551140027\t1.394451537609808\t1.659641162910836\t0.1537335141921846\t0.7915579475761285\t0.820690080662648\t-1.0610774583231255\t-0.8860382715640819\t-0.26944873155251287\t-1.2261166435822197\t-1.0290112362379562\t-0.9170230189823326\t-0.48985228076108367\t0.23663169092701933\t1.1524516725029181\t0.9939030943664477\t0.5127854159104542\t-1.1629389497445062\t-0.0227031777637733\t0.06732901826999577\t1.3561952616968314\t0.8964764484025595\t-1.0771583753124823\t0.5193870484813956\t-1.1768491476141065\t-1.1334165803461267\t-1.5382338897163885\t-0.24555506726015877\n",
    "chr21\t5026630\t5027935\tchr21:5026630:5027935:clu_15_+\t-0.4940448664298115\t-1.904778837097044\t-0.19690839238607402\t0.5398074619320817\t-2.092536152343439\t-1.795233536977089\t0.3434372320488766\t0.8708609744147066\t-0.01816198049378325\t-1.3158925479033465\t0.8120503860733814\t0.4819563097022388\t-1.1186334231117163\t0.43518480760880945\t-1.5222623580510508\t0.45478037754771167\t-0.5945924576257678\t1.5546077403961758\t-0.17674728255911915\t0.0851291257010744\t0.9945797071005923\t-1.5355446811843847\t1.0756849721637112\t1.6612794476971389\t-0.869053174130471\t1.2070835558471817\t1.2243679966548833\t0.7943841259039116\t0.8074672553294278\t-0.04707082994085674\t0.5024562552627317\t-0.38178863963708987\t-0.9547575622932908\t1.4512330819760757\t-0.4247721259289395\t0.8823771956659383\t1.4395023904881383\t-1.8518037459880667\t-0.10295624885536175\t-0.3813447226103047\t-0.8612519528909637\t-2.008183982657377\t-1.966556905378204\t0.1742323553027833\t0.4745521655931572\t1.4524171830025492\t0.8172268843648766\t0.15289825575338362\t-0.14747164844821173\n",
    "chr21\t5032217\t5033408\tchr21:5032217:5033408:clu_16_+\t0.46119783184374563\t2.0852211125934854\t1.9929184553632342\t0.6461298109265834\t-0.1872383772254422\t0.5960707801745235\t0.6686717007744576\t0.6461298109265834\t-1.2358019454753641\t0.3951416531555249\t0.5970570525458161\t0.29780913879856025\t0.4424562745481825\t0.611921804579183\t0.6738421752532086\t0.5599726304619902\t0.41890707786658327\t-3.767844427370683\t0.6563347551640993\t0.6779915578563864\t0.23875456935738734\t0.23663169092701933\t0.32902428912662757\t-1.7670069125843726\t0.5350387159599282\t0.41125904745563335\t0.43427749786884207\t-1.4643718468149274\t-0.20997126059971338\t0.6139139545526131\t0.4759384501924495\t0.08181560384001503\t0.6578713831291685\t0.5369447484547609\t0.0553366739235069\t1.6403203305924554\t0.5412404778351537\t0.6289338064736658\t0.016097929354984927\t-0.40632313765204336\t0.419357721603267\t1.8035671281815073\t0.04004741252952372\t0.6604358885496658\t-1.8035671281815073\t0.6588966652179624\t0.09051560918668777\t-0.5980439060366768\t0.6154096671301943\n"
   ]
  },
  {
   "cell_type": "markdown",
   "id": "7cb5fd1a",
   "metadata": {
    "kernel": "Bash"
   },
   "source": [
    "Post-process of leafcutter outputs for them to be TensorQTL ready"
   ]
  },
  {
   "cell_type": "code",
   "execution_count": null,
   "id": "a3fcb910",
   "metadata": {
    "kernel": "Bash"
   },
   "outputs": [],
   "source": [
    "sos run ../fork/xqtl-pipeline/pipeline/gene_annotation.ipynb annotate_leafcutter_isoforms \\\n",
    "    --cwd output/leaf_cutter/ \\\n",
    "    --intron_count output/leaf_cutter/xqtl_protocol_data_bam_list_intron_usage_perind_numers.counts.gz \\\n",
    "    --phenoFile output/leaf_cutter/xqtl_protocol_data_bam_list_intron_usage_perind.counts.gz_raw_data.qqnorm.txt \\\n",
    "    --annotation-gtf reference_data/Homo_sapiens.GRCh38.103.chr.reformatted.collapse_only.gene.gtf \\\n",
    "    --container containers/singularity/bioinfo.sif \\\n",
    "    --sample_participant_lookup reference_data/sample_participant_lookup.rnaseq"
   ]
  },
  {
   "cell_type": "markdown",
   "id": "e6876934",
   "metadata": {
    "kernel": "Bash"
   },
   "source": [
    "#### Psichomics part workflow"
   ]
  },
  {
   "cell_type": "markdown",
   "id": "1d60f2a0",
   "metadata": {
    "kernel": "Bash"
   },
   "source": [
    "I encountered with some trouble is this part.\n",
    "\n",
    "The codes are like below:"
   ]
  },
  {
   "cell_type": "code",
   "execution_count": null,
   "id": "ca70eebb",
   "metadata": {
    "kernel": "Bash"
   },
   "outputs": [],
   "source": [
    "sos run splicing_calling.ipynb psichomics \\\n",
    "    --cwd psichomics_output/ \\\n",
    "    --samples sample_fastq_bam_list\\\n",
    "    --splicing_annotation hg38_suppa.rds \\\n",
    "    --container containers/psichomics.sif"
   ]
  },
  {
   "cell_type": "markdown",
   "id": "5c16c81e",
   "metadata": {
    "kernel": "Bash"
   },
   "source": [
    "One problem is that psichomics could not find where the splicing_annotation is using a relative path. This can be solved by inputting the full path of the suppa.eds file.\n",
    "\n",
    "However, it still doesn't work. \n",
    "\n",
    "The key message is\n",
    "\n",
    "`\n",
    "Warning message:\n",
    "In loadLocalFiles(\"/mnt/vast/hpc/csg/xqtl_workflow_testing/finalizing/output/psichomics\") :\n",
    "  No supported files were found in the given folder.\n",
    "`\n",
    "\n",
    "and the only file in the folder have only a `x` in it.\n",
    "\n",
    "So it is not an i/o error. I raised an issue on the github.\n",
    "\n",
    "Unfixed."
   ]
  }
 ],
 "metadata": {
  "kernelspec": {
   "display_name": "SoS",
   "language": "sos",
   "name": "sos"
  },
  "language_info": {
   "codemirror_mode": "sos",
   "file_extension": ".sos",
   "mimetype": "text/x-sos",
   "name": "sos",
   "nbconvert_exporter": "sos_notebook.converter.SoS_Exporter",
   "pygments_lexer": "sos"
  },
  "sos": {
   "kernels": [
    [
     "Bash",
     "bash",
     "Bash",
     "#E6EEFF",
     ""
    ]
   ],
   "panel": {
    "displayed": true,
    "height": 0
   },
   "version": "0.23.4"
  }
 },
 "nbformat": 4,
 "nbformat_minor": 5
}
