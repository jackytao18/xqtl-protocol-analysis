{
 "cells": [
  {
   "cell_type": "markdown",
   "id": "0614b074",
   "metadata": {
    "kernel": "SoS",
    "tags": []
   },
   "source": [
    "# xQTL-protocol-analysis\n",
    "\n",
    "This is the notebook for the analysis of xQTL protocol as the orientation project in Gao Wang's group."
   ]
  }
 ],
 "metadata": {
  "kernelspec": {
   "display_name": "SoS",
   "language": "sos",
   "name": "sos"
  },
  "language_info": {
   "codemirror_mode": "sos",
   "file_extension": ".sos",
   "mimetype": "text/x-sos",
   "name": "sos",
   "nbconvert_exporter": "sos_notebook.converter.SoS_Exporter",
   "pygments_lexer": "sos"
  },
  "sos": {
   "kernels": [
    [
     "SoS",
     "sos",
     "",
     ""
    ]
   ],
   "panel": {
    "displayed": true,
    "height": 0
   },
   "version": "0.23.4"
  }
 },
 "nbformat": 4,
 "nbformat_minor": 5
}
