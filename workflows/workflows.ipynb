{
 "cells": [
  {
   "cell_type": "markdown",
   "id": "e54f2751",
   "metadata": {
    "kernel": "SoS"
   },
   "source": [
    "Reference data standardization"
   ]
  },
  {
   "cell_type": "markdown",
   "id": "67a55eec",
   "metadata": {
    "kernel": "Markdown"
   },
   "source": [
    "To generate RSEM index with the gtf file prior to the gene collapsing step ( without the gene tag in its file name.)"
   ]
  },
  {
   "cell_type": "code",
   "execution_count": null,
   "id": "eb6be59b",
   "metadata": {
    "kernel": "Bash"
   },
   "outputs": [],
   "source": [
    "sos run pipeline/reference_data.ipynb RSEM_index \\\n",
    "    --cwd reference_data \\\n",
    "    --hg-reference reference_data/GRCh38_full_analysis_set_plus_decoy_hla.noALT_noHLA_noDecoy_ERCC.fasta \\\n",
    "    --hg-gtf reference_data/Homo_sapiens.GRCh38.103.chr.reformatted.ERCC.gtf \\\n",
    "    --container containers/singularity/rna_quantification.sif  &"
   ]
  }
 ],
 "metadata": {
  "kernelspec": {
   "display_name": "SoS",
   "language": "sos",
   "name": "sos"
  },
  "language_info": {
   "codemirror_mode": "sos",
   "file_extension": ".sos",
   "mimetype": "text/x-sos",
   "name": "sos",
   "nbconvert_exporter": "sos_notebook.converter.SoS_Exporter",
   "pygments_lexer": "sos"
  },
  "sos": {
   "kernels": [
    [
     "Bash",
     "bash",
     "Bash",
     "#E6EEFF",
     ""
    ]
   ],
   "panel": {
    "displayed": true,
    "height": 0
   },
   "version": "0.23.4"
  }
 },
 "nbformat": 4,
 "nbformat_minor": 5
}
